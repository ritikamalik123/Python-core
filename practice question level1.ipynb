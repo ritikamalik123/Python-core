{
 "cells": [
  {
   "cell_type": "markdown",
   "id": "f0c264dc",
   "metadata": {},
   "source": [
    "# Write a Python program to print the “ /n “\n"
   ]
  },
  {
   "cell_type": "code",
   "execution_count": 1,
   "id": "600308a0",
   "metadata": {},
   "outputs": [
    {
     "name": "stdout",
     "output_type": "stream",
     "text": [
      "hello\\n\n"
     ]
    }
   ],
   "source": [
    "print(\"hello\\\\n\")"
   ]
  },
  {
   "cell_type": "markdown",
   "id": "dbffef0e",
   "metadata": {},
   "source": [
    "# Write a Python program to print the “ \\n ”"
   ]
  },
  {
   "cell_type": "code",
   "execution_count": 2,
   "id": "2f13dd27",
   "metadata": {},
   "outputs": [
    {
     "name": "stdout",
     "output_type": "stream",
     "text": [
      "hello/n\n"
     ]
    }
   ],
   "source": [
    "\n",
    "print(\"hello/n\")"
   ]
  },
  {
   "cell_type": "markdown",
   "id": "3b08e309",
   "metadata": {},
   "source": [
    "# Write a Python program which accepts the radius of a circle from the user and compute the area."
   ]
  },
  {
   "cell_type": "code",
   "execution_count": 3,
   "id": "9aa03761",
   "metadata": {},
   "outputs": [
    {
     "name": "stdout",
     "output_type": "stream",
     "text": [
      "Enter the value of radius: 5\n",
      "78.53981633974483\n"
     ]
    }
   ],
   "source": [
    "\n",
    "r=int(input(\"Enter the value of radius: \"))\n",
    "import math\n",
    "math.pi\n",
    "a=(math.pi*r*r)\n",
    "print(a)"
   ]
  },
  {
   "cell_type": "markdown",
   "id": "74bdb785",
   "metadata": {},
   "source": [
    "# Write a Python program to get the volume of a sphere with radius 6."
   ]
  },
  {
   "cell_type": "code",
   "execution_count": 4,
   "id": "0f4ec4d2",
   "metadata": {},
   "outputs": [
    {
     "name": "stdout",
     "output_type": "stream",
     "text": [
      "75.39822368615503\n"
     ]
    }
   ],
   "source": [
    "\n",
    "r=6\n",
    "import math\n",
    "math.pi\n",
    "v=(4/3*math.pi*r*3)\n",
    "print(v)"
   ]
  },
  {
   "cell_type": "markdown",
   "id": "4fecb662",
   "metadata": {},
   "source": [
    "# Write a Python program to calculate the sum of three equal numbers, and the result is the three times of their sum."
   ]
  },
  {
   "cell_type": "code",
   "execution_count": 5,
   "id": "5ca51c97",
   "metadata": {},
   "outputs": [
    {
     "name": "stdout",
     "output_type": "stream",
     "text": [
      "Three equal numbers69\n",
      "621\n"
     ]
    }
   ],
   "source": [
    "\n",
    "l=int(input(\"Three equal numbers\"))\n",
    "li=l*3\n",
    "lis=li*3\n",
    "print(lis)\n"
   ]
  },
  {
   "cell_type": "markdown",
   "id": "3248228b",
   "metadata": {},
   "source": [
    "# Write a Python program that will accept the base and height of a triangle and compute the area"
   ]
  },
  {
   "cell_type": "code",
   "execution_count": 6,
   "id": "316c454f",
   "metadata": {},
   "outputs": [
    {
     "name": "stdout",
     "output_type": "stream",
     "text": [
      "Enter the value of base 6\n",
      "Enter the value of height 5\n",
      "15.0\n"
     ]
    }
   ],
   "source": [
    "\n",
    "b=int(input(\"Enter the value of base \"))\n",
    "h=int(input(\"Enter the value of height \"))\n",
    "a=1/2*b*h\n",
    "print(a)"
   ]
  },
  {
   "cell_type": "markdown",
   "id": "072833de",
   "metadata": {},
   "source": [
    "# Write a Python program to solve (x + y) * (x + y) \n"
   ]
  },
  {
   "cell_type": "code",
   "execution_count": 7,
   "id": "72eb29ea",
   "metadata": {},
   "outputs": [
    {
     "name": "stdout",
     "output_type": "stream",
     "text": [
      "49\n"
     ]
    }
   ],
   "source": [
    "\n",
    "x=4\n",
    "y=3\n",
    "a=(x+y)*(x+y)\n",
    "print(a)\n"
   ]
  },
  {
   "cell_type": "markdown",
   "id": "606071ab",
   "metadata": {},
   "source": [
    "# Write a Python program to compute the simple interest of a specified principal amount, rate of interest, and a number of years.\n",
    "# Test Data : amt = 10000, int = 3.5, years = 7\n",
    "# Expected Output : "
   ]
  },
  {
   "cell_type": "code",
   "execution_count": 8,
   "id": "6fe54e80",
   "metadata": {},
   "outputs": [
    {
     "name": "stdout",
     "output_type": "stream",
     "text": [
      "2450.0\n"
     ]
    }
   ],
   "source": [
    "\n",
    "amt=10000\n",
    "int=3.5\n",
    "year=7\n",
    "p=(amt*int*7)/100\n",
    "print(p)"
   ]
  },
  {
   "cell_type": "markdown",
   "id": "0bd88ef9",
   "metadata": {},
   "source": [
    "# Write a Python program to swap two variables\n",
    "# Test Data : a = 77, x= 1\n",
    "# Expected Output : a= 1, x=77"
   ]
  },
  {
   "cell_type": "code",
   "execution_count": 1,
   "id": "49ef89ef",
   "metadata": {},
   "outputs": [
    {
     "name": "stdout",
     "output_type": "stream",
     "text": [
      "1 77\n"
     ]
    }
   ],
   "source": [
    "\n",
    "a=77\n",
    "x=1\n",
    "temp=a\n",
    "a=x\n",
    "x=temp\n",
    "print(a,x)\n"
   ]
  },
  {
   "cell_type": "markdown",
   "id": "f09d6026",
   "metadata": {},
   "source": [
    "# Write a Python program to convert (parse) a string to Float or Integer.\n",
    "# Test Data : \"246.2458\"\n",
    "# Expected Output : 246"
   ]
  },
  {
   "cell_type": "code",
   "execution_count": 9,
   "id": "26c474eb",
   "metadata": {},
   "outputs": [
    {
     "name": "stdout",
     "output_type": "stream",
     "text": [
      "246.2458\n"
     ]
    },
    {
     "ename": "TypeError",
     "evalue": "'float' object is not callable",
     "output_type": "error",
     "traceback": [
      "\u001b[1;31m---------------------------------------------------------------------------\u001b[0m",
      "\u001b[1;31mTypeError\u001b[0m                                 Traceback (most recent call last)",
      "Input \u001b[1;32mIn [9]\u001b[0m, in \u001b[0;36m<cell line: 4>\u001b[1;34m()\u001b[0m\n\u001b[0;32m      2\u001b[0m parse\u001b[38;5;241m=\u001b[39m\u001b[38;5;28mfloat\u001b[39m(parse)\n\u001b[0;32m      3\u001b[0m \u001b[38;5;28mprint\u001b[39m(parse)\n\u001b[1;32m----> 4\u001b[0m parse1\u001b[38;5;241m=\u001b[39m\u001b[38;5;28;43mint\u001b[39;49m\u001b[43m(\u001b[49m\u001b[43mparse\u001b[49m\u001b[43m)\u001b[49m\n\u001b[0;32m      5\u001b[0m \u001b[38;5;28mprint\u001b[39m(parse1)\n",
      "\u001b[1;31mTypeError\u001b[0m: 'float' object is not callable"
     ]
    }
   ],
   "source": [
    "parse= \"246.2458\"\n",
    "parse=float(parse)\n",
    "print(parse)\n",
    "parse1=int(parse)\n",
    "print(parse1)"
   ]
  },
  {
   "cell_type": "markdown",
   "id": "118e8e10",
   "metadata": {},
   "source": [
    "# Write a Python program to calculate the hypotenuse of a right angled triangle.\n",
    "# Formulae : c2 = a2 + b2,\n",
    "\n"
   ]
  },
  {
   "cell_type": "code",
   "execution_count": 10,
   "id": "7288bc11",
   "metadata": {},
   "outputs": [
    {
     "name": "stdout",
     "output_type": "stream",
     "text": [
      "side a of the triangle 5\n",
      "side b of the triangle 2\n",
      "29.0\n"
     ]
    }
   ],
   "source": [
    "a=float(input(\"side a of the triangle \"))\n",
    "b=float(input(\"side b of the triangle \"))\n",
    "a_square=a**2\n",
    "b_square=b**2\n",
    "final=a_square+b_square\n",
    "print(final)"
   ]
  },
  {
   "cell_type": "markdown",
   "id": "3730fad1",
   "metadata": {},
   "source": [
    "# Write a Python program to calculate the cube of any number which was taken by input.\n"
   ]
  },
  {
   "cell_type": "code",
   "execution_count": 11,
   "id": "077c7756",
   "metadata": {},
   "outputs": [
    {
     "name": "stdout",
     "output_type": "stream",
     "text": [
      "Enter the no.9\n",
      "729.0\n"
     ]
    }
   ],
   "source": [
    "num1=float(input(\"Enter the no.\"))\n",
    "num2=num1**3\n",
    "print(num2)"
   ]
  },
  {
   "cell_type": "code",
   "execution_count": null,
   "id": "aa5d1800",
   "metadata": {},
   "outputs": [],
   "source": [
    "\n"
   ]
  }
 ],
 "metadata": {
  "kernelspec": {
   "display_name": "Python 3 (ipykernel)",
   "language": "python",
   "name": "python3"
  },
  "language_info": {
   "codemirror_mode": {
    "name": "ipython",
    "version": 3
   },
   "file_extension": ".py",
   "mimetype": "text/x-python",
   "name": "python",
   "nbconvert_exporter": "python",
   "pygments_lexer": "ipython3",
   "version": "3.9.12"
  }
 },
 "nbformat": 4,
 "nbformat_minor": 5
}
