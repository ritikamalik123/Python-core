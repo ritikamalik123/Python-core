{
 "cells": [
  {
   "cell_type": "markdown",
   "id": "fe71bc34",
   "metadata": {},
   "source": [
    "# String\n",
    "### Strings : Built in data type (sequence)\n",
    "\n",
    "\n",
    "For example, \n",
    "\n",
    "\n",
    "Python understands the string \"hello' to be a sequence of letters in a specific order which means the indexing technique to grab particular letters (like first letter or the last letter).\n",
    " string is order collection of data .It is sequence datatype"
   ]
  },
  {
   "cell_type": "markdown",
   "id": "071ec2c6",
   "metadata": {},
   "source": [
    "# String Creation\n",
    "\n",
    "Creating a string : string in python can be created using \n",
    "\n",
    "1. single string\n",
    "2. double string\n",
    "3. triple string\n",
    "4. string constructor"
   ]
  },
  {
   "cell_type": "code",
   "execution_count": 2,
   "id": "e7b94fdb",
   "metadata": {},
   "outputs": [
    {
     "data": {
      "text/plain": [
       "str"
      ]
     },
     "execution_count": 2,
     "metadata": {},
     "output_type": "execute_result"
    }
   ],
   "source": [
    "s='hello'\n",
    "type(s)"
   ]
  },
  {
   "cell_type": "code",
   "execution_count": 3,
   "id": "c9dfe119",
   "metadata": {},
   "outputs": [
    {
     "data": {
      "text/plain": [
       "str"
      ]
     },
     "execution_count": 3,
     "metadata": {},
     "output_type": "execute_result"
    }
   ],
   "source": [
    "s=\"hello i'm ritika\"\n",
    "type(s)"
   ]
  },
  {
   "cell_type": "code",
   "execution_count": 5,
   "id": "54337f94",
   "metadata": {},
   "outputs": [
    {
     "data": {
      "text/plain": [
       "str"
      ]
     },
     "execution_count": 5,
     "metadata": {},
     "output_type": "execute_result"
    }
   ],
   "source": [
    "s='''he said \"i am going to movie\"\n",
    "you want to come with me'''\n",
    "type(s)"
   ]
  },
  {
   "cell_type": "code",
   "execution_count": 7,
   "id": "44f25fa3",
   "metadata": {},
   "outputs": [
    {
     "data": {
      "text/plain": [
       "str"
      ]
     },
     "execution_count": 7,
     "metadata": {},
     "output_type": "execute_result"
    }
   ],
   "source": [
    "s=\"\"\n",
    "type(s)"
   ]
  },
  {
   "cell_type": "markdown",
   "id": "25e569f2",
   "metadata": {},
   "source": [
    "# Accessing characters in python :Indexing\n",
    "\n"
   ]
  },
  {
   "cell_type": "code",
   "execution_count": 8,
   "id": "d8f4b140",
   "metadata": {},
   "outputs": [
    {
     "data": {
      "text/plain": [
       "'d'"
      ]
     },
     "execution_count": 8,
     "metadata": {},
     "output_type": "execute_result"
    }
   ],
   "source": [
    "s=\"madrid\"\n",
    "s[2]"
   ]
  },
  {
   "cell_type": "code",
   "execution_count": 9,
   "id": "5706b249",
   "metadata": {},
   "outputs": [
    {
     "data": {
      "text/plain": [
       "'d'"
      ]
     },
     "execution_count": 9,
     "metadata": {},
     "output_type": "execute_result"
    }
   ],
   "source": [
    "s=\"madrid\"\n",
    "s[-4]"
   ]
  },
  {
   "cell_type": "code",
   "execution_count": 10,
   "id": "a2f9b689",
   "metadata": {},
   "outputs": [
    {
     "data": {
      "text/plain": [
       "'i'"
      ]
     },
     "execution_count": 10,
     "metadata": {},
     "output_type": "execute_result"
    }
   ],
   "source": [
    "s=\"madrid\"\n",
    "s[4]"
   ]
  },
  {
   "cell_type": "code",
   "execution_count": 11,
   "id": "09570d97",
   "metadata": {},
   "outputs": [
    {
     "data": {
      "text/plain": [
       "'i'"
      ]
     },
     "execution_count": 11,
     "metadata": {},
     "output_type": "execute_result"
    }
   ],
   "source": [
    "s=\"madrid\"\n",
    "s[-2]"
   ]
  },
  {
   "cell_type": "code",
   "execution_count": 12,
   "id": "20b7b5d5",
   "metadata": {},
   "outputs": [
    {
     "data": {
      "text/plain": [
       "'adr'"
      ]
     },
     "execution_count": 12,
     "metadata": {},
     "output_type": "execute_result"
    }
   ],
   "source": [
    "s=\"madrid\"\n",
    "s[1:4:1]"
   ]
  },
  {
   "cell_type": "code",
   "execution_count": 13,
   "id": "6c6cf477",
   "metadata": {},
   "outputs": [
    {
     "data": {
      "text/plain": [
       "'adr'"
      ]
     },
     "execution_count": 13,
     "metadata": {},
     "output_type": "execute_result"
    }
   ],
   "source": [
    "s=\"madrid\"\n",
    "s[-5:-2:1]"
   ]
  },
  {
   "cell_type": "code",
   "execution_count": 14,
   "id": "220e0344",
   "metadata": {},
   "outputs": [
    {
     "data": {
      "text/plain": [
       "'mdi'"
      ]
     },
     "execution_count": 14,
     "metadata": {},
     "output_type": "execute_result"
    }
   ],
   "source": [
    "s=\"madrid\"\n",
    "s[0:6:2]"
   ]
  },
  {
   "cell_type": "code",
   "execution_count": 15,
   "id": "e4ff554f",
   "metadata": {},
   "outputs": [
    {
     "data": {
      "text/plain": [
       "'madrid'"
      ]
     },
     "execution_count": 15,
     "metadata": {},
     "output_type": "execute_result"
    }
   ],
   "source": [
    "s=\"madrid\"\n",
    "s[:]"
   ]
  },
  {
   "cell_type": "code",
   "execution_count": 16,
   "id": "64415724",
   "metadata": {},
   "outputs": [
    {
     "data": {
      "text/plain": [
       "'adrid'"
      ]
     },
     "execution_count": 16,
     "metadata": {},
     "output_type": "execute_result"
    }
   ],
   "source": [
    "s=\"madrid\"\n",
    "s[1:]"
   ]
  },
  {
   "cell_type": "code",
   "execution_count": 22,
   "id": "152bdd48",
   "metadata": {},
   "outputs": [
    {
     "data": {
      "text/plain": [
       "'mdi'"
      ]
     },
     "execution_count": 22,
     "metadata": {},
     "output_type": "execute_result"
    }
   ],
   "source": [
    "s=\"madrid\"\n",
    "s[-6:-1:2]"
   ]
  },
  {
   "cell_type": "code",
   "execution_count": 23,
   "id": "1a6fb919",
   "metadata": {},
   "outputs": [
    {
     "data": {
      "text/plain": [
       "'madr'"
      ]
     },
     "execution_count": 23,
     "metadata": {},
     "output_type": "execute_result"
    }
   ],
   "source": [
    "s=\"madrid\"\n",
    "s[:4]"
   ]
  },
  {
   "cell_type": "code",
   "execution_count": 25,
   "id": "d9cfc78f",
   "metadata": {},
   "outputs": [
    {
     "data": {
      "text/plain": [
       "'ir'"
      ]
     },
     "execution_count": 25,
     "metadata": {},
     "output_type": "execute_result"
    }
   ],
   "source": [
    "s=\"madrid\"\n",
    "s[-2:-4:-1]"
   ]
  },
  {
   "cell_type": "code",
   "execution_count": 26,
   "id": "c9be1dc8",
   "metadata": {},
   "outputs": [
    {
     "data": {
      "text/plain": [
       "'dirda'"
      ]
     },
     "execution_count": 26,
     "metadata": {},
     "output_type": "execute_result"
    }
   ],
   "source": [
    "# if you need to get the string or sub string in reverse order than you need to explcitily pass the negitive sign to stepsize\n",
    "s=\"madrid\"\n",
    "s[5:0:-1]"
   ]
  },
  {
   "cell_type": "code",
   "execution_count": 27,
   "id": "1000a4af",
   "metadata": {},
   "outputs": [
    {
     "data": {
      "text/plain": [
       "'madrid'"
      ]
     },
     "execution_count": 27,
     "metadata": {},
     "output_type": "execute_result"
    }
   ],
   "source": [
    "s=\"madrid\"\n",
    "s[::]"
   ]
  },
  {
   "cell_type": "code",
   "execution_count": 30,
   "id": "c12b2952",
   "metadata": {},
   "outputs": [
    {
     "data": {
      "text/plain": [
       "'di'"
      ]
     },
     "execution_count": 30,
     "metadata": {},
     "output_type": "execute_result"
    }
   ],
   "source": [
    "s=\"madrid\"\n",
    "s[2::2]"
   ]
  },
  {
   "cell_type": "code",
   "execution_count": 31,
   "id": "82cb6238",
   "metadata": {},
   "outputs": [
    {
     "data": {
      "text/plain": [
       "'dirdam'"
      ]
     },
     "execution_count": 31,
     "metadata": {},
     "output_type": "execute_result"
    }
   ],
   "source": [
    "s=\"madrid\"\n",
    "s[::-1]"
   ]
  },
  {
   "cell_type": "code",
   "execution_count": 33,
   "id": "abd4ba93",
   "metadata": {},
   "outputs": [
    {
     "name": "stdout",
     "output_type": "stream",
     "text": [
      "Enter the stringnaman\n",
      "palindrome\n"
     ]
    }
   ],
   "source": [
    "# wap to check wether the string is palindrome or not\n",
    "s=input(\"Enter the string\")\n",
    "if s==s[::-1]:\n",
    "    print(\"palindrome\")\n",
    "else:\n",
    "    print(\"not palindrome\")"
   ]
  },
  {
   "cell_type": "markdown",
   "id": "a67929d3",
   "metadata": {},
   "source": [
    "# String:important property :Immutable\n",
    "\n",
    "\n",
    "\n",
    "We can not update the string but we can redefine it."
   ]
  },
  {
   "cell_type": "code",
   "execution_count": 3,
   "id": "d7b57572",
   "metadata": {},
   "outputs": [
    {
     "name": "stdout",
     "output_type": "stream",
     "text": [
      "2125253789040\n"
     ]
    },
    {
     "ename": "TypeError",
     "evalue": "'str' object does not support item assignment",
     "output_type": "error",
     "traceback": [
      "\u001b[1;31m---------------------------------------------------------------------------\u001b[0m",
      "\u001b[1;31mTypeError\u001b[0m                                 Traceback (most recent call last)",
      "Input \u001b[1;32mIn [3]\u001b[0m, in \u001b[0;36m<cell line: 3>\u001b[1;34m()\u001b[0m\n\u001b[0;32m      1\u001b[0m s\u001b[38;5;241m=\u001b[39m\u001b[38;5;124m\"\u001b[39m\u001b[38;5;124mmadrid\u001b[39m\u001b[38;5;124m\"\u001b[39m\n\u001b[0;32m      2\u001b[0m \u001b[38;5;28mprint\u001b[39m(\u001b[38;5;28mid\u001b[39m(s))\n\u001b[1;32m----> 3\u001b[0m s[\u001b[38;5;241m2\u001b[39m]\u001b[38;5;241m=\u001b[39m\u001b[38;5;124m\"\u001b[39m\u001b[38;5;124mb\u001b[39m\u001b[38;5;124m\"\u001b[39m\n",
      "\u001b[1;31mTypeError\u001b[0m: 'str' object does not support item assignment"
     ]
    }
   ],
   "source": [
    "s=\"madrid\"\n",
    "print(id(s))\n",
    "s[2]=\"b\""
   ]
  },
  {
   "cell_type": "code",
   "execution_count": 36,
   "id": "9654b52e",
   "metadata": {},
   "outputs": [
    {
     "data": {
      "text/plain": [
       "2429686769072"
      ]
     },
     "execution_count": 36,
     "metadata": {},
     "output_type": "execute_result"
    }
   ],
   "source": [
    "s=\"solutions\"\n",
    "id(s)"
   ]
  },
  {
   "cell_type": "code",
   "execution_count": 38,
   "id": "d3db9262",
   "metadata": {},
   "outputs": [
    {
     "ename": "TypeError",
     "evalue": "'str' object doesn't support item deletion",
     "output_type": "error",
     "traceback": [
      "\u001b[1;31m---------------------------------------------------------------------------\u001b[0m",
      "\u001b[1;31mTypeError\u001b[0m                                 Traceback (most recent call last)",
      "Input \u001b[1;32mIn [38]\u001b[0m, in \u001b[0;36m<cell line: 2>\u001b[1;34m()\u001b[0m\n\u001b[0;32m      1\u001b[0m s1\u001b[38;5;241m=\u001b[39m\u001b[38;5;124m\"\u001b[39m\u001b[38;5;124mmadrid\u001b[39m\u001b[38;5;124m\"\u001b[39m\n\u001b[1;32m----> 2\u001b[0m \u001b[38;5;28;01mdel\u001b[39;00m s[\u001b[38;5;241m1\u001b[39m]\n\u001b[0;32m      3\u001b[0m \u001b[38;5;28mprint\u001b[39m(s1)\n",
      "\u001b[1;31mTypeError\u001b[0m: 'str' object doesn't support item deletion"
     ]
    }
   ],
   "source": [
    "s1=\"madrid\"\n",
    "del s[1]\n",
    "print(s1)"
   ]
  },
  {
   "cell_type": "code",
   "execution_count": 39,
   "id": "b99a97fb",
   "metadata": {},
   "outputs": [],
   "source": [
    "del s1"
   ]
  },
  {
   "cell_type": "markdown",
   "id": "02d8567e",
   "metadata": {},
   "source": [
    "# String Operators\n",
    "\n",
    "\n",
    "1. Arthmetic operation\n",
    "2. relational\n",
    "3. logical\n",
    "4. membership operations"
   ]
  },
  {
   "cell_type": "code",
   "execution_count": 41,
   "id": "24827cf9",
   "metadata": {},
   "outputs": [
    {
     "data": {
      "text/plain": [
       "'madridsolution'"
      ]
     },
     "execution_count": 41,
     "metadata": {},
     "output_type": "execute_result"
    }
   ],
   "source": [
    "# Arthmatic operation\n",
    "s1=\"madrid\"\n",
    "s2=\"solution\"\n",
    "s1+s2"
   ]
  },
  {
   "cell_type": "code",
   "execution_count": 42,
   "id": "03b39966",
   "metadata": {},
   "outputs": [
    {
     "data": {
      "text/plain": [
       "'madridmadridmadrid'"
      ]
     },
     "execution_count": 42,
     "metadata": {},
     "output_type": "execute_result"
    }
   ],
   "source": [
    "s1*3"
   ]
  },
  {
   "cell_type": "code",
   "execution_count": 43,
   "id": "42893065",
   "metadata": {},
   "outputs": [
    {
     "name": "stdout",
     "output_type": "stream",
     "text": [
      "----------------------------------------\n"
     ]
    }
   ],
   "source": [
    "print(\"----\"*10)"
   ]
  },
  {
   "cell_type": "code",
   "execution_count": 44,
   "id": "aaa4f819",
   "metadata": {},
   "outputs": [
    {
     "name": "stdout",
     "output_type": "stream",
     "text": [
      "False\n"
     ]
    }
   ],
   "source": [
    "#Relational\n",
    "a=\"ritika\"\n",
    "b=\"riya\"\n",
    "print(a==b)"
   ]
  },
  {
   "cell_type": "code",
   "execution_count": 45,
   "id": "ce0db715",
   "metadata": {},
   "outputs": [
    {
     "name": "stdout",
     "output_type": "stream",
     "text": [
      "True\n"
     ]
    }
   ],
   "source": [
    "a=\"madrid\"\n",
    "b=\"madrid\"\n",
    "print(a==b)"
   ]
  },
  {
   "cell_type": "code",
   "execution_count": 46,
   "id": "bf4bd799",
   "metadata": {},
   "outputs": [],
   "source": [
    "#acii value a to z is 97 to 122 and A to Z is 65 to 90\n"
   ]
  },
  {
   "cell_type": "code",
   "execution_count": 48,
   "id": "b100b353",
   "metadata": {},
   "outputs": [
    {
     "data": {
      "text/plain": [
       "True"
      ]
     },
     "execution_count": 48,
     "metadata": {},
     "output_type": "execute_result"
    }
   ],
   "source": [
    "a=\"riya\"\n",
    "b=\"ritika\"\n",
    "a>b"
   ]
  },
  {
   "cell_type": "code",
   "execution_count": 49,
   "id": "9bc5d829",
   "metadata": {},
   "outputs": [
    {
     "data": {
      "text/plain": [
       "False"
      ]
     },
     "execution_count": 49,
     "metadata": {},
     "output_type": "execute_result"
    }
   ],
   "source": [
    "a<b"
   ]
  },
  {
   "cell_type": "markdown",
   "id": "8a343dd3",
   "metadata": {},
   "source": [
    "# Membership"
   ]
  },
  {
   "cell_type": "code",
   "execution_count": 51,
   "id": "c3b35801",
   "metadata": {},
   "outputs": [
    {
     "data": {
      "text/plain": [
       "True"
      ]
     },
     "execution_count": 51,
     "metadata": {},
     "output_type": "execute_result"
    }
   ],
   "source": [
    "s=\"meet\"\n",
    "s in \"harmeet\""
   ]
  },
  {
   "cell_type": "code",
   "execution_count": 55,
   "id": "77a88ff2",
   "metadata": {},
   "outputs": [
    {
     "data": {
      "text/plain": [
       "True"
      ]
     },
     "execution_count": 55,
     "metadata": {},
     "output_type": "execute_result"
    }
   ],
   "source": [
    "#s=\"meet\"\n",
    "\"mi\"not in \"harmeet\""
   ]
  },
  {
   "cell_type": "code",
   "execution_count": 56,
   "id": "f7d10e59",
   "metadata": {},
   "outputs": [
    {
     "data": {
      "text/plain": [
       "False"
      ]
     },
     "execution_count": 56,
     "metadata": {},
     "output_type": "execute_result"
    }
   ],
   "source": [
    "\"mi\"in \"harmeet\""
   ]
  },
  {
   "cell_type": "markdown",
   "id": "8e3cc9cc",
   "metadata": {},
   "source": [
    "# Logical operator"
   ]
  },
  {
   "cell_type": "code",
   "execution_count": 59,
   "id": "be5228f1",
   "metadata": {},
   "outputs": [
    {
     "data": {
      "text/plain": [
       "''"
      ]
     },
     "execution_count": 59,
     "metadata": {},
     "output_type": "execute_result"
    }
   ],
   "source": [
    "s=\"madrid\" and \"\"\n",
    "s"
   ]
  },
  {
   "cell_type": "code",
   "execution_count": 60,
   "id": "0a3b5ea9",
   "metadata": {},
   "outputs": [
    {
     "data": {
      "text/plain": [
       "''"
      ]
     },
     "execution_count": 60,
     "metadata": {},
     "output_type": "execute_result"
    }
   ],
   "source": [
    "s=\"\" and \"madrid\"\n",
    "s"
   ]
  },
  {
   "cell_type": "code",
   "execution_count": 61,
   "id": "5080b079",
   "metadata": {},
   "outputs": [
    {
     "data": {
      "text/plain": [
       "'madrid'"
      ]
     },
     "execution_count": 61,
     "metadata": {},
     "output_type": "execute_result"
    }
   ],
   "source": [
    "s=\"madrid\" and \"madrid\"\n",
    "s"
   ]
  },
  {
   "cell_type": "code",
   "execution_count": 64,
   "id": "3fc92467",
   "metadata": {},
   "outputs": [
    {
     "data": {
      "text/plain": [
       "''"
      ]
     },
     "execution_count": 64,
     "metadata": {},
     "output_type": "execute_result"
    }
   ],
   "source": [
    "s=\"\" and  \" \"\n",
    "s"
   ]
  },
  {
   "cell_type": "code",
   "execution_count": 65,
   "id": "a029b4a8",
   "metadata": {},
   "outputs": [
    {
     "data": {
      "text/plain": [
       "'madrid'"
      ]
     },
     "execution_count": 65,
     "metadata": {},
     "output_type": "execute_result"
    }
   ],
   "source": [
    "s= \"madrid\" or \"madrid\"\n",
    "s"
   ]
  },
  {
   "cell_type": "code",
   "execution_count": 66,
   "id": "de75eb4a",
   "metadata": {},
   "outputs": [
    {
     "data": {
      "text/plain": [
       "'madrid'"
      ]
     },
     "execution_count": 66,
     "metadata": {},
     "output_type": "execute_result"
    }
   ],
   "source": [
    "s= \"madrid\" or \"\"\n",
    "s"
   ]
  },
  {
   "cell_type": "code",
   "execution_count": 67,
   "id": "d3b8ca77",
   "metadata": {},
   "outputs": [
    {
     "data": {
      "text/plain": [
       "'madrid'"
      ]
     },
     "execution_count": 67,
     "metadata": {},
     "output_type": "execute_result"
    }
   ],
   "source": [
    "s= \"\" or \"madrid\"\n",
    "s"
   ]
  },
  {
   "cell_type": "code",
   "execution_count": 68,
   "id": "e6aa7cd7",
   "metadata": {},
   "outputs": [
    {
     "data": {
      "text/plain": [
       "''"
      ]
     },
     "execution_count": 68,
     "metadata": {},
     "output_type": "execute_result"
    }
   ],
   "source": [
    "s= \"\" or \"\"\n",
    "s"
   ]
  },
  {
   "cell_type": "code",
   "execution_count": 69,
   "id": "032218bf",
   "metadata": {},
   "outputs": [
    {
     "name": "stdout",
     "output_type": "stream",
     "text": [
      "h\n",
      "e\n",
      "l\n",
      "l\n",
      "o\n"
     ]
    }
   ],
   "source": [
    "for i in \"hello\":\n",
    "    print(i)"
   ]
  },
  {
   "cell_type": "code",
   "execution_count": 70,
   "id": "35cdbd10",
   "metadata": {},
   "outputs": [
    {
     "name": "stdout",
     "output_type": "stream",
     "text": [
      " \n",
      "h\n",
      "o\n",
      "w\n",
      " \n",
      "a\n",
      "r\n"
     ]
    }
   ],
   "source": [
    "s=\"hi how are u meet!\"\n",
    "for i in s[2:9]:\n",
    "    print(i)"
   ]
  },
  {
   "cell_type": "code",
   "execution_count": 77,
   "id": "e9e29b86",
   "metadata": {},
   "outputs": [
    {
     "name": "stdout",
     "output_type": "stream",
     "text": [
      "o\n",
      "l\n",
      "l\n",
      "e\n",
      "h\n"
     ]
    }
   ],
   "source": [
    "s=\"hello\"\n",
    "for i in range(4,-1,-1):\n",
    "    print(s[i])"
   ]
  },
  {
   "cell_type": "code",
   "execution_count": 79,
   "id": "331c80f3",
   "metadata": {},
   "outputs": [
    {
     "name": "stdout",
     "output_type": "stream",
     "text": [
      "o\n",
      "l\n",
      "l\n",
      "e\n",
      "h\n"
     ]
    }
   ],
   "source": [
    "s=\"hello\"\n",
    "i=4\n",
    "while(i>-1):\n",
    "    print(s[i])\n",
    "    i=i-1"
   ]
  },
  {
   "cell_type": "code",
   "execution_count": 80,
   "id": "bce89467",
   "metadata": {},
   "outputs": [
    {
     "name": "stdout",
     "output_type": "stream",
     "text": [
      "Enter the stringhi i am ritika\n",
      "a k i t i r   m a   i   i h "
     ]
    }
   ],
   "source": [
    "s=input(\"Enter the string\")\n",
    "for i in range(len(s)-1,-1,-1):\n",
    "    print(s[i],end=\" \")"
   ]
  },
  {
   "cell_type": "markdown",
   "id": "4948d551",
   "metadata": {},
   "source": [
    "# string function"
   ]
  },
  {
   "cell_type": "code",
   "execution_count": 81,
   "id": "0d2ecf3b",
   "metadata": {},
   "outputs": [
    {
     "data": {
      "text/plain": [
       "'r'"
      ]
     },
     "execution_count": 81,
     "metadata": {},
     "output_type": "execute_result"
    }
   ],
   "source": [
    "#finding the max subtring\n",
    "s=\"madrid\"\n",
    "max(s)"
   ]
  },
  {
   "cell_type": "code",
   "execution_count": null,
   "id": "9284668a",
   "metadata": {},
   "outputs": [],
   "source": []
  },
  {
   "cell_type": "code",
   "execution_count": 82,
   "id": "dc020cdd",
   "metadata": {},
   "outputs": [
    {
     "data": {
      "text/plain": [
       "'a'"
      ]
     },
     "execution_count": 82,
     "metadata": {},
     "output_type": "execute_result"
    }
   ],
   "source": [
    "#finding the min substring\n",
    "s=\"madrid\"\n",
    "min(s)"
   ]
  },
  {
   "cell_type": "code",
   "execution_count": 83,
   "id": "91c953e5",
   "metadata": {},
   "outputs": [
    {
     "data": {
      "text/plain": [
       "['a', 'd', 'd', 'i', 'm', 'r']"
      ]
     },
     "execution_count": 83,
     "metadata": {},
     "output_type": "execute_result"
    }
   ],
   "source": [
    "#arranging in ascending order\n",
    "s=\"madrid\"\n",
    "sorted(s)\n"
   ]
  },
  {
   "cell_type": "code",
   "execution_count": 84,
   "id": "5f747726",
   "metadata": {},
   "outputs": [
    {
     "data": {
      "text/plain": [
       "['r', 'm', 'i', 'd', 'd', 'a']"
      ]
     },
     "execution_count": 84,
     "metadata": {},
     "output_type": "execute_result"
    }
   ],
   "source": [
    "#arranging in decending order\n",
    "s=\"madrid\"\n",
    "sorted(s,reverse=True)"
   ]
  },
  {
   "cell_type": "code",
   "execution_count": 85,
   "id": "63137dc0",
   "metadata": {},
   "outputs": [
    {
     "data": {
      "text/plain": [
       "['__add__',\n",
       " '__class__',\n",
       " '__contains__',\n",
       " '__delattr__',\n",
       " '__dir__',\n",
       " '__doc__',\n",
       " '__eq__',\n",
       " '__format__',\n",
       " '__ge__',\n",
       " '__getattribute__',\n",
       " '__getitem__',\n",
       " '__getnewargs__',\n",
       " '__gt__',\n",
       " '__hash__',\n",
       " '__init__',\n",
       " '__init_subclass__',\n",
       " '__iter__',\n",
       " '__le__',\n",
       " '__len__',\n",
       " '__lt__',\n",
       " '__mod__',\n",
       " '__mul__',\n",
       " '__ne__',\n",
       " '__new__',\n",
       " '__reduce__',\n",
       " '__reduce_ex__',\n",
       " '__repr__',\n",
       " '__rmod__',\n",
       " '__rmul__',\n",
       " '__setattr__',\n",
       " '__sizeof__',\n",
       " '__str__',\n",
       " '__subclasshook__',\n",
       " 'capitalize',\n",
       " 'casefold',\n",
       " 'center',\n",
       " 'count',\n",
       " 'encode',\n",
       " 'endswith',\n",
       " 'expandtabs',\n",
       " 'find',\n",
       " 'format',\n",
       " 'format_map',\n",
       " 'index',\n",
       " 'isalnum',\n",
       " 'isalpha',\n",
       " 'isascii',\n",
       " 'isdecimal',\n",
       " 'isdigit',\n",
       " 'isidentifier',\n",
       " 'islower',\n",
       " 'isnumeric',\n",
       " 'isprintable',\n",
       " 'isspace',\n",
       " 'istitle',\n",
       " 'isupper',\n",
       " 'join',\n",
       " 'ljust',\n",
       " 'lower',\n",
       " 'lstrip',\n",
       " 'maketrans',\n",
       " 'partition',\n",
       " 'removeprefix',\n",
       " 'removesuffix',\n",
       " 'replace',\n",
       " 'rfind',\n",
       " 'rindex',\n",
       " 'rjust',\n",
       " 'rpartition',\n",
       " 'rsplit',\n",
       " 'rstrip',\n",
       " 'split',\n",
       " 'splitlines',\n",
       " 'startswith',\n",
       " 'strip',\n",
       " 'swapcase',\n",
       " 'title',\n",
       " 'translate',\n",
       " 'upper',\n",
       " 'zfill']"
      ]
     },
     "execution_count": 85,
     "metadata": {},
     "output_type": "execute_result"
    }
   ],
   "source": [
    "dir(str)"
   ]
  },
  {
   "cell_type": "markdown",
   "id": "c02dbdb9",
   "metadata": {},
   "source": [
    "## Specific string function\n",
    "\n",
    "1. captilize\n",
    "2. lower\n",
    "3. upper\n",
    "4. title\n",
    "5. swapcase"
   ]
  },
  {
   "cell_type": "code",
   "execution_count": 87,
   "id": "5abeb284",
   "metadata": {},
   "outputs": [
    {
     "data": {
      "text/plain": [
       "'Madrid solution'"
      ]
     },
     "execution_count": 87,
     "metadata": {},
     "output_type": "execute_result"
    }
   ],
   "source": [
    "s=\"madRID soLUTION\"\n",
    "s.capitalize()"
   ]
  },
  {
   "cell_type": "code",
   "execution_count": 90,
   "id": "1fbdb131",
   "metadata": {},
   "outputs": [
    {
     "data": {
      "text/plain": [
       "'Madrid Solution'"
      ]
     },
     "execution_count": 90,
     "metadata": {},
     "output_type": "execute_result"
    }
   ],
   "source": [
    "s=\"madRID soLUTION\"\n",
    "s.title()\n"
   ]
  },
  {
   "cell_type": "code",
   "execution_count": 91,
   "id": "13421cfd",
   "metadata": {},
   "outputs": [
    {
     "data": {
      "text/plain": [
       "'madrid solution'"
      ]
     },
     "execution_count": 91,
     "metadata": {},
     "output_type": "execute_result"
    }
   ],
   "source": [
    "s=\"MadRID soLUTION\"\n",
    "s.lower()"
   ]
  },
  {
   "cell_type": "code",
   "execution_count": 92,
   "id": "f17f58b1",
   "metadata": {},
   "outputs": [
    {
     "data": {
      "text/plain": [
       "'MADRID SOLUTION'"
      ]
     },
     "execution_count": 92,
     "metadata": {},
     "output_type": "execute_result"
    }
   ],
   "source": [
    "s=\"madRID soLUTION\"\n",
    "s.upper()"
   ]
  },
  {
   "cell_type": "code",
   "execution_count": 93,
   "id": "f307aa25",
   "metadata": {},
   "outputs": [
    {
     "data": {
      "text/plain": [
       "'MADrid SOlution'"
      ]
     },
     "execution_count": 93,
     "metadata": {},
     "output_type": "execute_result"
    }
   ],
   "source": [
    "s=\"madRID soLUTION\"\n",
    "s.swapcase()"
   ]
  },
  {
   "cell_type": "markdown",
   "id": "29388eef",
   "metadata": {},
   "source": [
    "# Counting and Location"
   ]
  },
  {
   "cell_type": "code",
   "execution_count": 94,
   "id": "4be79289",
   "metadata": {},
   "outputs": [
    {
     "data": {
      "text/plain": [
       "2"
      ]
     },
     "execution_count": 94,
     "metadata": {},
     "output_type": "execute_result"
    }
   ],
   "source": [
    "s=\"madrid\"\n",
    "s.count(\"d\")"
   ]
  },
  {
   "cell_type": "code",
   "execution_count": 95,
   "id": "40122d90",
   "metadata": {},
   "outputs": [
    {
     "data": {
      "text/plain": [
       "1"
      ]
     },
     "execution_count": 95,
     "metadata": {},
     "output_type": "execute_result"
    }
   ],
   "source": [
    "s=\"madrid\"\n",
    "s.count(\"r\")"
   ]
  },
  {
   "cell_type": "code",
   "execution_count": 102,
   "id": "dbe11da0",
   "metadata": {},
   "outputs": [
    {
     "name": "stdout",
     "output_type": "stream",
     "text": [
      "m ----- 1\n",
      "a ----- 1\n",
      "d ----- 2\n",
      "r ----- 1\n",
      "i ----- 1\n",
      "d ----- 2\n"
     ]
    }
   ],
   "source": [
    "s=\"madrid\"\n",
    "for i in s:\n",
    "    print(i,\"-----\", s.count(i))"
   ]
  },
  {
   "cell_type": "code",
   "execution_count": 104,
   "id": "6b9a2d44",
   "metadata": {},
   "outputs": [
    {
     "data": {
      "text/plain": [
       "Counter({'m': 1, 'a': 1, 'd': 2, 'r': 1, 'i': 1})"
      ]
     },
     "execution_count": 104,
     "metadata": {},
     "output_type": "execute_result"
    }
   ],
   "source": [
    "from collections import Counter\n",
    "Counter(s)"
   ]
  },
  {
   "cell_type": "code",
   "execution_count": 109,
   "id": "cbe39e6c",
   "metadata": {},
   "outputs": [
    {
     "data": {
      "text/plain": [
       "1"
      ]
     },
     "execution_count": 109,
     "metadata": {},
     "output_type": "execute_result"
    }
   ],
   "source": [
    "#applications of count : frequency of substring\n",
    "a=\"hi heena how are you heena u r studing python \"\n",
    "a.count(\"heena\",7,30)"
   ]
  },
  {
   "cell_type": "markdown",
   "id": "062b11db",
   "metadata": {},
   "source": [
    "# Location: index and find"
   ]
  },
  {
   "cell_type": "code",
   "execution_count": 110,
   "id": "a11e23d9",
   "metadata": {},
   "outputs": [
    {
     "data": {
      "text/plain": [
       "3"
      ]
     },
     "execution_count": 110,
     "metadata": {},
     "output_type": "execute_result"
    }
   ],
   "source": [
    "s=\"hi heena how are u\"\n",
    "s.index(\"heena\")"
   ]
  },
  {
   "cell_type": "code",
   "execution_count": 111,
   "id": "1a5e9dc9",
   "metadata": {},
   "outputs": [
    {
     "data": {
      "text/plain": [
       "0"
      ]
     },
     "execution_count": 111,
     "metadata": {},
     "output_type": "execute_result"
    }
   ],
   "source": [
    "s=\"hi heena how are u\"\n",
    "s.index(\"h\")"
   ]
  },
  {
   "cell_type": "code",
   "execution_count": 112,
   "id": "b29af853",
   "metadata": {},
   "outputs": [
    {
     "data": {
      "text/plain": [
       "1"
      ]
     },
     "execution_count": 112,
     "metadata": {},
     "output_type": "execute_result"
    }
   ],
   "source": [
    "s=\"hi heena how are u\"\n",
    "s.index(\"i\")"
   ]
  },
  {
   "cell_type": "code",
   "execution_count": 113,
   "id": "6b707529",
   "metadata": {},
   "outputs": [
    {
     "data": {
      "text/plain": [
       "9"
      ]
     },
     "execution_count": 113,
     "metadata": {},
     "output_type": "execute_result"
    }
   ],
   "source": [
    "s=\"hi heena how are u\"\n",
    "s.index(\"h\",7,15)"
   ]
  },
  {
   "cell_type": "code",
   "execution_count": 114,
   "id": "361c3d91",
   "metadata": {},
   "outputs": [
    {
     "data": {
      "text/plain": [
       "3"
      ]
     },
     "execution_count": 114,
     "metadata": {},
     "output_type": "execute_result"
    }
   ],
   "source": [
    "s=\"hi heena how are u\"\n",
    "s.find(\"heena\")"
   ]
  },
  {
   "cell_type": "code",
   "execution_count": 115,
   "id": "2196acf7",
   "metadata": {},
   "outputs": [
    {
     "data": {
      "text/plain": [
       "-1"
      ]
     },
     "execution_count": 115,
     "metadata": {},
     "output_type": "execute_result"
    }
   ],
   "source": [
    "s=\"hi heena how are u\"\n",
    "s.find(\"p\")"
   ]
  },
  {
   "cell_type": "markdown",
   "id": "f8f9c9ad",
   "metadata": {},
   "source": [
    "## is check"
   ]
  },
  {
   "cell_type": "code",
   "execution_count": 118,
   "id": "9469af95",
   "metadata": {},
   "outputs": [
    {
     "data": {
      "text/plain": [
       "True"
      ]
     },
     "execution_count": 118,
     "metadata": {},
     "output_type": "execute_result"
    }
   ],
   "source": [
    "s=\"madrid123\"\n",
    "s.isalnum()"
   ]
  },
  {
   "cell_type": "code",
   "execution_count": 120,
   "id": "725deff9",
   "metadata": {},
   "outputs": [
    {
     "data": {
      "text/plain": [
       "True"
      ]
     },
     "execution_count": 120,
     "metadata": {},
     "output_type": "execute_result"
    }
   ],
   "source": [
    "s=\"Madrid\"\n",
    "s.isalpha()"
   ]
  },
  {
   "cell_type": "code",
   "execution_count": 121,
   "id": "4e1404b1",
   "metadata": {},
   "outputs": [
    {
     "data": {
      "text/plain": [
       "True"
      ]
     },
     "execution_count": 121,
     "metadata": {},
     "output_type": "execute_result"
    }
   ],
   "source": [
    "s=\"134567\"\n",
    "s.isdigit()"
   ]
  },
  {
   "cell_type": "code",
   "execution_count": 127,
   "id": "fe22294a",
   "metadata": {},
   "outputs": [
    {
     "name": "stdout",
     "output_type": "stream",
     "text": [
      "False\n",
      "True\n"
     ]
    }
   ],
   "source": [
    "a=\"234567\"\n",
    "print(a.isspace())\n",
    "\n",
    "\n",
    "s=\"        \"\n",
    "print(s.isspace())"
   ]
  },
  {
   "cell_type": "code",
   "execution_count": 128,
   "id": "1c2b72e7",
   "metadata": {},
   "outputs": [
    {
     "name": "stdout",
     "output_type": "stream",
     "text": [
      "True\n",
      "False\n"
     ]
    }
   ],
   "source": [
    "s=\"MADRID\"\n",
    "print(s.isupper())\n",
    "\n",
    "a=\"madrid\"\n",
    "print(a.isupper())"
   ]
  },
  {
   "cell_type": "code",
   "execution_count": 131,
   "id": "cfaeae4c",
   "metadata": {},
   "outputs": [
    {
     "name": "stdout",
     "output_type": "stream",
     "text": [
      "python core is interesting python class is in afternoon\n",
      "python core is boring python class is in afternoon\n"
     ]
    }
   ],
   "source": [
    "s1=\"python core is interesting python class is in afternoon\"\n",
    "s=s1.replace(\"interesting\",\"boring\")\n",
    "print(s1)\n",
    "print(s)"
   ]
  },
  {
   "cell_type": "code",
   "execution_count": 132,
   "id": "788ffbea",
   "metadata": {},
   "outputs": [
    {
     "name": "stdout",
     "output_type": "stream",
     "text": [
      "python core is interesting python class is in afternoon\n",
      "pythoncoreisinterestingpythonclassisinafternoon\n"
     ]
    }
   ],
   "source": [
    "s1=\"python core is interesting python class is in afternoon\"\n",
    "s=s1.replace(\" \",\"\")\n",
    "print(s1)\n",
    "print(s)"
   ]
  },
  {
   "cell_type": "code",
   "execution_count": 133,
   "id": "c41c16ef",
   "metadata": {},
   "outputs": [
    {
     "name": "stdout",
     "output_type": "stream",
     "text": [
      "python core is interesting python class is in afternoon\n",
      "pythoncoreis interesting python class is in afternoon\n"
     ]
    }
   ],
   "source": [
    "s1=\"python core is interesting python class is in afternoon\"\n",
    "s=s1.replace(\" \",\"\",2)\n",
    "print(s1)\n",
    "print(s)"
   ]
  },
  {
   "cell_type": "code",
   "execution_count": 136,
   "id": "e906e55c",
   "metadata": {},
   "outputs": [
    {
     "name": "stdout",
     "output_type": "stream",
     "text": [
      "python core is interesting python class is in afternoon\n",
      "pythoncoreisinterestingpythonclassisinafternoon\n"
     ]
    }
   ],
   "source": [
    "s1=\"python core is interesting python class is in afternoon\"\n",
    "s=s1.replace(\" \",\"\",-2)\n",
    "print(s1)\n",
    "print(s)"
   ]
  },
  {
   "cell_type": "markdown",
   "id": "500eba0f",
   "metadata": {},
   "source": [
    "# how to remove the character from string\n",
    "\n",
    "\n",
    "- naive method\n",
    "- replace\n",
    "- using slicing and concatenation"
   ]
  },
  {
   "cell_type": "code",
   "execution_count": 140,
   "id": "e38ba845",
   "metadata": {},
   "outputs": [
    {
     "name": "stdout",
     "output_type": "stream",
     "text": [
      "madid\n"
     ]
    }
   ],
   "source": [
    "s=\"madrid\"\n",
    "s1=\"\"\n",
    "for i in range(0,len(s)):\n",
    "    if i!=3:\n",
    "        s1=s1+s[i]\n",
    "print(s1)\n",
    "        "
   ]
  },
  {
   "cell_type": "code",
   "execution_count": 141,
   "id": "7a87c098",
   "metadata": {},
   "outputs": [
    {
     "data": {
      "text/plain": [
       "'madid'"
      ]
     },
     "execution_count": 141,
     "metadata": {},
     "output_type": "execute_result"
    }
   ],
   "source": [
    "s=\"madrid\"\n",
    "s.replace(\"r\",\"\")"
   ]
  },
  {
   "cell_type": "code",
   "execution_count": 144,
   "id": "a5b31202",
   "metadata": {},
   "outputs": [
    {
     "name": "stdout",
     "output_type": "stream",
     "text": [
      "madid\n"
     ]
    }
   ],
   "source": [
    "s=\"madrid\"\n",
    "a=s[0:3]+s[4:]\n",
    "print(a)"
   ]
  },
  {
   "cell_type": "markdown",
   "id": "4307dd14",
   "metadata": {},
   "source": [
    "### .format()"
   ]
  },
  {
   "cell_type": "code",
   "execution_count": 1,
   "id": "d16e7ad8",
   "metadata": {},
   "outputs": [
    {
     "name": "stdout",
     "output_type": "stream",
     "text": [
      "4 is square of  2\n"
     ]
    }
   ],
   "source": [
    "a=2\n",
    "b=4\n",
    "print(b ,\"is square of \",a)"
   ]
  },
  {
   "cell_type": "code",
   "execution_count": 148,
   "id": "a89a4522",
   "metadata": {},
   "outputs": [
    {
     "name": "stdout",
     "output_type": "stream",
     "text": [
      "4 is the square of 2\n"
     ]
    }
   ],
   "source": [
    "print(\"{} is the square of {}\".format(b,a))"
   ]
  },
  {
   "cell_type": "code",
   "execution_count": 149,
   "id": "06f973f3",
   "metadata": {},
   "outputs": [
    {
     "name": "stdout",
     "output_type": "stream",
     "text": [
      "2 is the square of 4\n"
     ]
    }
   ],
   "source": [
    "print(\"{1} is the square of {0}\".format(b,a))"
   ]
  },
  {
   "cell_type": "markdown",
   "id": "61d5948c",
   "metadata": {},
   "source": [
    "## startswith and endswith"
   ]
  },
  {
   "cell_type": "code",
   "execution_count": 150,
   "id": "d6124e8a",
   "metadata": {},
   "outputs": [
    {
     "data": {
      "text/plain": [
       "True"
      ]
     },
     "execution_count": 150,
     "metadata": {},
     "output_type": "execute_result"
    }
   ],
   "source": [
    "s=\"madrid solution\"\n",
    "s.startswith(\"m\")"
   ]
  },
  {
   "cell_type": "code",
   "execution_count": 151,
   "id": "cfa41ac6",
   "metadata": {},
   "outputs": [
    {
     "data": {
      "text/plain": [
       "False"
      ]
     },
     "execution_count": 151,
     "metadata": {},
     "output_type": "execute_result"
    }
   ],
   "source": [
    "s=\"madrid solution\"\n",
    "s.startswith(\"p\")"
   ]
  },
  {
   "cell_type": "code",
   "execution_count": 152,
   "id": "34e51381",
   "metadata": {},
   "outputs": [
    {
     "data": {
      "text/plain": [
       "True"
      ]
     },
     "execution_count": 152,
     "metadata": {},
     "output_type": "execute_result"
    }
   ],
   "source": [
    "s=\"madrid solution\"\n",
    "s.startswith(\"ma\")"
   ]
  },
  {
   "cell_type": "code",
   "execution_count": 155,
   "id": "666dd043",
   "metadata": {},
   "outputs": [
    {
     "data": {
      "text/plain": [
       "True"
      ]
     },
     "execution_count": 155,
     "metadata": {},
     "output_type": "execute_result"
    }
   ],
   "source": [
    "s=\"madrid solution \"\n",
    "s.endswith(\" \")"
   ]
  },
  {
   "cell_type": "code",
   "execution_count": 158,
   "id": "b0325eef",
   "metadata": {},
   "outputs": [
    {
     "data": {
      "text/plain": [
       "['ca', 'ba', 'ra', 'ma', 'hello']"
      ]
     },
     "execution_count": 158,
     "metadata": {},
     "output_type": "execute_result"
    }
   ],
   "source": [
    "s=\"catbatratmathello\"\n",
    "s.split(\"t\")"
   ]
  },
  {
   "cell_type": "code",
   "execution_count": 157,
   "id": "6e9fbfe4",
   "metadata": {},
   "outputs": [
    {
     "data": {
      "text/plain": [
       "['ca', 'ba', 'ratmathello']"
      ]
     },
     "execution_count": 157,
     "metadata": {},
     "output_type": "execute_result"
    }
   ],
   "source": [
    "s=\"catbatratmathello\"\n",
    "s.split(\"t\",2)"
   ]
  },
  {
   "cell_type": "code",
   "execution_count": 160,
   "id": "08811e76",
   "metadata": {},
   "outputs": [
    {
     "data": {
      "text/plain": [
       "['ritikamalik', 'gmail.com']"
      ]
     },
     "execution_count": 160,
     "metadata": {},
     "output_type": "execute_result"
    }
   ],
   "source": [
    "username=\"ritikamalik@gmail.com\"\n",
    "username.split(\"@\")"
   ]
  },
  {
   "cell_type": "code",
   "execution_count": 162,
   "id": "be733fd0",
   "metadata": {},
   "outputs": [
    {
     "data": {
      "text/plain": [
       "['ritikamalik/inbox/chat/mails', '@gmail.com']"
      ]
     },
     "execution_count": 162,
     "metadata": {},
     "output_type": "execute_result"
    }
   ],
   "source": [
    "username=\"ritikamalik/inbox/chat/mails/@gmail.com\"\n",
    "username.rsplit(\"/\",1)"
   ]
  },
  {
   "cell_type": "code",
   "execution_count": 163,
   "id": "d6bc8e87",
   "metadata": {},
   "outputs": [
    {
     "data": {
      "text/plain": [
       "['catbatratmathello']"
      ]
     },
     "execution_count": 163,
     "metadata": {},
     "output_type": "execute_result"
    }
   ],
   "source": [
    "s=\"catbatratmathello\"\n",
    "s.split(\"p\")"
   ]
  },
  {
   "cell_type": "markdown",
   "id": "f3b9fd0c",
   "metadata": {},
   "source": [
    "## strip()"
   ]
  },
  {
   "cell_type": "code",
   "execution_count": 173,
   "id": "3749d4d9",
   "metadata": {},
   "outputs": [
    {
     "name": "stdout",
     "output_type": "stream",
     "text": [
      "             hi how are u       i am doing good            \n",
      "59\n",
      "hi how are u       i am doing good\n",
      "34\n"
     ]
    }
   ],
   "source": [
    "s=\"             hi how are u       i am doing good            \"\n",
    "print(s)\n",
    "print(len(s))\n",
    "s1=s.strip()\n",
    "print(s1)\n",
    "print(len(s1))"
   ]
  },
  {
   "cell_type": "code",
   "execution_count": 5,
   "id": "13659a74",
   "metadata": {},
   "outputs": [
    {
     "name": "stdout",
     "output_type": "stream",
     "text": [
      "@@hi how are u       i am doing good            \n",
      "48\n",
      "hi how are u       i am doing good            \n",
      "46\n"
     ]
    }
   ],
   "source": [
    "s=\"@@hi how are u       i am doing good            \"\n",
    "print(s)\n",
    "print(len(s))\n",
    "s1=s.strip(\"@\")\n",
    "print(s1)\n",
    "print(len(s1))"
   ]
  },
  {
   "cell_type": "code",
   "execution_count": 177,
   "id": "975de680",
   "metadata": {},
   "outputs": [
    {
     "data": {
      "text/plain": [
       "'1*2*3*4*5'"
      ]
     },
     "execution_count": 177,
     "metadata": {},
     "output_type": "execute_result"
    }
   ],
   "source": [
    "l=[\"1\",\"2\",\"3\",\"4\",\"5\"]\n",
    "s=\"*\"\n",
    "s.join(l)"
   ]
  },
  {
   "cell_type": "markdown",
   "id": "ef5988ae",
   "metadata": {},
   "source": [
    "# Wap to check how many uppercase,lowercase,digits and special char in a string  \n",
    "- s=\"ASewtertttBMO23455!@#@#@#%pouhbv\""
   ]
  },
  {
   "cell_type": "code",
   "execution_count": 2,
   "id": "b008a7f3",
   "metadata": {},
   "outputs": [
    {
     "name": "stdout",
     "output_type": "stream",
     "text": [
      "UPPER CASE :  5\n",
      "Lower case :  14\n",
      "Digits :  5\n",
      "Special char :  8\n"
     ]
    }
   ],
   "source": [
    "s=\"ASewtertttBMO23455!@#@#@#%pouhbv\"\n",
    "u,l,d,c=0,0,0,0\n",
    "for i in s:\n",
    "    if i.isupper():\n",
    "        u=u+1\n",
    "    elif i.islower():\n",
    "        l=l+1\n",
    "    elif i.isdigit():\n",
    "        d=d+1\n",
    "    else:\n",
    "        c=c+1\n",
    "print(\"UPPER CASE : \",u)\n",
    "print(\"Lower case : \",l)\n",
    "print(\"Digits : \", d)\n",
    "print(\"Special char : \",c)"
   ]
  },
  {
   "cell_type": "markdown",
   "id": "3964cd2b",
   "metadata": {},
   "source": [
    "# wap to input a password from the user and check the validity of the password\n",
    "\n",
    "- min 1 uppercase,lowercase,digit,special char\n",
    "- min length of the password should be 10"
   ]
  },
  {
   "cell_type": "code",
   "execution_count": 2,
   "id": "3d4708fb",
   "metadata": {},
   "outputs": [
    {
     "name": "stdout",
     "output_type": "stream",
     "text": [
      "Enter the passwordMadrid_solution123\n",
      "valid\n"
     ]
    }
   ],
   "source": [
    "u_c=0\n",
    "l_c=0\n",
    "d_c=0\n",
    "s_c=0\n",
    "count=0\n",
    "while(1):\n",
    "    p=input(\"Enter the password\")\n",
    "    for i in p:\n",
    "        if i.isupper():\n",
    "            u_c=u_c+10\n",
    "        elif i.islower():\n",
    "            l_c=l_c+1\n",
    "        elif i.isdigit():\n",
    "            d_c=d_c+1\n",
    "        else:\n",
    "            s_c=s_c+1\n",
    "    if u_c>=1 and d_c>=1 and l_c>=1 and s_c>=1 and len(p)>=10:\n",
    "        print(\"valid\")\n",
    "        break\n",
    "    else:\n",
    "        count=count+1\n",
    "        print(\"kindly enter the password as per the criteria\")\n",
    "        continue\n",
    "        if count==3:\n",
    "            print(\"tried too times\")"
   ]
  },
  {
   "cell_type": "code",
   "execution_count": 5,
   "id": "9114c64c",
   "metadata": {},
   "outputs": [
    {
     "name": "stdout",
     "output_type": "stream",
     "text": [
      "Enter string :ritu@123\n",
      "vowel count  2\n",
      "consonent count  2\n",
      "digit count  3\n",
      "special char count  1\n"
     ]
    }
   ],
   "source": [
    "# wap to display and count vowels and consonents ,digits and special characters in the string\n",
    "a=input(\"Enter string :\")\n",
    "vowel=0\n",
    "cons=0\n",
    "d=0\n",
    "s=0\n",
    "for i in range(0,len(a)):\n",
    "    if a[i].isalpha():\n",
    "        if (a[i]=='a' or a[i]=='e' or a[i]=='i' or a[i]=='o' or a[i]=='u'or a[i]=='A'or a[i]=='E'or a[i]=='I'\n",
    "            or a[i]=='O' or a[i]=='U'):\n",
    "            vowel=vowel+1\n",
    "        else:\n",
    "            cons=cons+1\n",
    "    elif a[i].isdigit():\n",
    "        d=d+1\n",
    "    else:\n",
    "        s=s+1\n",
    "print(\"vowel count \" ,vowel)\n",
    "print(\"consonent count \",cons)\n",
    "print(\"digit count \", d)\n",
    "print(\"special char count \", s)\n",
    "        \n",
    "    "
   ]
  },
  {
   "cell_type": "code",
   "execution_count": 13,
   "id": "c04ad25b",
   "metadata": {},
   "outputs": [
    {
     "name": "stdout",
     "output_type": "stream",
     "text": [
      "Enter the pincode : 123456\n",
      "valid\n"
     ]
    }
   ],
   "source": [
    "# wap to take pinccode from the user if the pincode is having 6 digits then its a valid pincode else it is not pincode.\n",
    "pin=input(\"Enter the pincode : \")\n",
    "for i in range(0,len(pin)):\n",
    "    i=i+1\n",
    "    if len(pin)<7:\n",
    "        print(\"valid\")\n",
    "        break\n",
    "    else:\n",
    "        print(\"invalid\")\n",
    "        break\n",
    "    \n"
   ]
  },
  {
   "cell_type": "code",
   "execution_count": null,
   "id": "cc59c5a0",
   "metadata": {},
   "outputs": [],
   "source": []
  }
 ],
 "metadata": {
  "kernelspec": {
   "display_name": "Python 3 (ipykernel)",
   "language": "python",
   "name": "python3"
  },
  "language_info": {
   "codemirror_mode": {
    "name": "ipython",
    "version": 3
   },
   "file_extension": ".py",
   "mimetype": "text/x-python",
   "name": "python",
   "nbconvert_exporter": "python",
   "pygments_lexer": "ipython3",
   "version": "3.9.12"
  }
 },
 "nbformat": 4,
 "nbformat_minor": 5
}
