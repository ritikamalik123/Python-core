{
 "cells": [
  {
   "cell_type": "markdown",
   "id": "7db45d72",
   "metadata": {},
   "source": [
    "# Q.1 Write a function to reverse a string. \n",
    " Sample String : \"1234abcd\"\n",
    "Expected Output : \"dcba4321\"\n"
   ]
  },
  {
   "cell_type": "code",
   "execution_count": 2,
   "id": "0b65d796",
   "metadata": {},
   "outputs": [
    {
     "name": "stdout",
     "output_type": "stream",
     "text": [
      "Enter the stringhello, I am ritika\n",
      "akitir ma I ,olleh\n"
     ]
    }
   ],
   "source": [
    "stri=input(\"Enter the string\")\n",
    "def string(S):\n",
    "    n=stri[::-1]\n",
    "    print(n)\n",
    "string(stri)"
   ]
  },
  {
   "cell_type": "markdown",
   "id": "e7c81ce9",
   "metadata": {},
   "source": [
    "# Q.2 Write a function to print the even numbers from a given list. \n",
    "Sample List : [1, 2, 3, 4, 5, 6, 7, 8, 9]\n",
    "Expected Result : [2, 4, 6, 8]\n"
   ]
  },
  {
   "cell_type": "code",
   "execution_count": 3,
   "id": "b74b5d8b",
   "metadata": {},
   "outputs": [
    {
     "name": "stdout",
     "output_type": "stream",
     "text": [
      "2\n",
      "4\n",
      "6\n",
      "8\n"
     ]
    }
   ],
   "source": [
    "numbers=[1,2,3,4,5,6,7,8,9]\n",
    "for x in numbers:\n",
    "    if x==8:\n",
    "        print(x)\n",
    "        break\n",
    "    elif x%2==0:\n",
    "        print(x)\n"
   ]
  },
  {
   "cell_type": "markdown",
   "id": "ed9f85d6",
   "metadata": {},
   "source": [
    "# Q.3 Write a function to display count and display vowels and consonants in the string entered by user.\n"
   ]
  },
  {
   "cell_type": "code",
   "execution_count": 1,
   "id": "17ab4d0d",
   "metadata": {},
   "outputs": [
    {
     "name": "stdout",
     "output_type": "stream",
     "text": [
      "Enter the stringhello I am ritika\n",
      "Total number of vowel and consonant are\n",
      "7\n",
      "7\n"
     ]
    }
   ],
   "source": [
    "vcount = 0  \n",
    "ccount = 0  \n",
    "str = input(\"Enter the string\")    \n",
    "str = str.lower()  \n",
    "for i in range(0,len(str)):     \n",
    "    if str[i] in ('a',\"e\",\"i\",\"o\",\"u\"):  \n",
    "        vcount = vcount + 1  \n",
    "    elif (str[i] >= 'a' and str[i] <= 'z'):  \n",
    "        ccount = ccount + 1  \n",
    "print(\"Total number of vowel and consonant are\" )  \n",
    "print(vcount)  \n",
    "print(ccount)"
   ]
  },
  {
   "cell_type": "markdown",
   "id": "61e454e9",
   "metadata": {},
   "source": [
    "# Q.4 Write a function to find the power of a number using function.\n"
   ]
  },
  {
   "cell_type": "code",
   "execution_count": 3,
   "id": "8bf8f117",
   "metadata": {},
   "outputs": [
    {
     "name": "stdout",
     "output_type": "stream",
     "text": [
      "49\n"
     ]
    }
   ],
   "source": [
    "def power(x,y):\n",
    "    if y==0:\n",
    "        return 1\n",
    "    else:\n",
    "        return x*power(x,y-1)\n",
    "print(power(7,2))"
   ]
  },
  {
   "cell_type": "markdown",
   "id": "2b9ad049",
   "metadata": {},
   "source": [
    "# Q.5 Write a function name calculation which accepts two variables and calculate addition and subtraction. Also it returns both addition and subtraction result in a single return call.\n"
   ]
  },
  {
   "cell_type": "code",
   "execution_count": 4,
   "id": "9ae7fd0d",
   "metadata": {},
   "outputs": [
    {
     "name": "stdout",
     "output_type": "stream",
     "text": [
      "welcome to the program to add and sub\n",
      "Enter the number 1 : 7\n",
      "Enter the number 2 : 9\n"
     ]
    },
    {
     "data": {
      "text/plain": [
       "(16, 2)"
      ]
     },
     "execution_count": 4,
     "metadata": {},
     "output_type": "execute_result"
    }
   ],
   "source": [
    "def calculation():\n",
    "    x=int(input(\"Enter the number 1 : \"))\n",
    "    y=int(input(\"Enter the number 2 : \"))\n",
    "    add=x+y\n",
    "    sub=y-x\n",
    "    return add,sub\n",
    "print(\"welcome to the program to add and sub\")\n",
    "calculation()"
   ]
  },
  {
   "cell_type": "markdown",
   "id": "65688435",
   "metadata": {},
   "source": [
    "# Q.6 Write a function which computes maximum of three numbers\n"
   ]
  },
  {
   "cell_type": "code",
   "execution_count": 12,
   "id": "bf8815e3",
   "metadata": {},
   "outputs": [
    {
     "name": "stdout",
     "output_type": "stream",
     "text": [
      "welcome to the program \n",
      "Enter the number 1: 6\n",
      "Enter the number 2: 7\n",
      "Enter the number 3 :8\n",
      "21\n"
     ]
    }
   ],
   "source": [
    "def max_three():\n",
    "    add=x+y+z\n",
    "    print(add)\n",
    "print(\"welcome to the program \")\n",
    "x=int(input(\"Enter the number 1: \"))\n",
    "y=int(input(\"Enter the number 2: \"))\n",
    "z=int(input(\"Enter the number 3 :\"))\n",
    "max_three()"
   ]
  },
  {
   "cell_type": "markdown",
   "id": "646d5a1c",
   "metadata": {},
   "source": [
    "# Q.7 Create an outer function that will accept two parameters, a and b .Create an inner function inside an outer function that will calculate the addition of a and b .At last, an outer function will add 5 into addition and return it\n"
   ]
  },
  {
   "cell_type": "code",
   "execution_count": 1,
   "id": "29b24b34",
   "metadata": {},
   "outputs": [
    {
     "name": "stdout",
     "output_type": "stream",
     "text": [
      "Welcome the program\n",
      "Enter the parameters : 7\n",
      "Enter the parameters : 9\n",
      "21\n"
     ]
    }
   ],
   "source": [
    "def outer(a,b):\n",
    "    res=0\n",
    "    def addition(a,b):\n",
    "        return(a+b)\n",
    "    \n",
    "    res=addition(a,b)\n",
    "    res_outer=res+5\n",
    "    return(res_outer)\n",
    "    \n",
    "print(\"Welcome the program\")    \n",
    "p1=int(input(\"Enter the parameters : \"))    \n",
    "p2=int(input(\"Enter the parameters : \"))   \n",
    "print(outer(p1,p2))"
   ]
  },
  {
   "cell_type": "markdown",
   "id": "7b4ecc63",
   "metadata": {},
   "source": [
    "# Q.8 Write a function which counts the even digits  and odd digits in the number entered by user."
   ]
  },
  {
   "cell_type": "code",
   "execution_count": 1,
   "id": "838537c7",
   "metadata": {},
   "outputs": [
    {
     "name": "stdout",
     "output_type": "stream",
     "text": [
      "Enter a number2345678\n",
      "Even count 4\n",
      "Odd count 3\n"
     ]
    }
   ],
   "source": [
    "def count(num):\n",
    "    e=0\n",
    "    o=0\n",
    "    while(num):\n",
    "        rem=int(num%10)\n",
    "        if rem%2==0:\n",
    "            e=e+1\n",
    "        elif rem%2!=0:\n",
    "            o=o+1\n",
    "        num=int(num/10)\n",
    "    print(\"Even count\", e)\n",
    "    print(\"Odd count\", o)\n",
    "n=int(input(\"Enter a number\"))\n",
    "count(n)"
   ]
  },
  {
   "cell_type": "markdown",
   "id": "b5c3ae30",
   "metadata": {},
   "source": [
    "# Q.9 Write a function which takes the students details as name,marks of 3 subjects and display total marks and his percentage.\n"
   ]
  },
  {
   "cell_type": "code",
   "execution_count": 3,
   "id": "86ab116b",
   "metadata": {},
   "outputs": [
    {
     "name": "stdout",
     "output_type": "stream",
     "text": [
      "Nameriya\n",
      "Enter the marks of subject 1 89\n",
      "Enter the marks of subject 2 90\n",
      "Enter the marks of subject 3 90\n",
      "Total marks 269\n",
      "Percentage 89.66666666666666 %\n"
     ]
    }
   ],
   "source": [
    "def marks(name,m1,m2,m3):\n",
    "    print(\"Total marks\",m1+m2+m3)\n",
    "    print(\"Percentage\",((m1+m2+m3)/300)*100,\"%\")\n",
    "name=input(\"Name\")\n",
    "m1=int(input(\"Enter the marks of subject 1 \"))\n",
    "m2=int(input(\"Enter the marks of subject 2 \"))\n",
    "m3=int(input(\"Enter the marks of subject 3 \"))\n",
    "marks(name,m1,m2,m3)\n",
    "    "
   ]
  },
  {
   "cell_type": "markdown",
   "id": "dccd5861",
   "metadata": {},
   "source": [
    "# Q.10 Write a function to tell user if he/she is able to vote or not.\n"
   ]
  },
  {
   "cell_type": "code",
   "execution_count": 6,
   "id": "8df31496",
   "metadata": {},
   "outputs": [
    {
     "name": "stdout",
     "output_type": "stream",
     "text": [
      "Enter your age19\n",
      "He/She is elegible to vote\n"
     ]
    }
   ],
   "source": [
    "def vote():\n",
    "    if age>=18:\n",
    "        print(\"He/She is elegible to vote\")\n",
    "    else:\n",
    "        print(\"He/she is not elegible to vote\")\n",
    "age=int(input(\"Enter your age\"))\n",
    "vote()"
   ]
  },
  {
   "cell_type": "markdown",
   "id": "d7919124",
   "metadata": {},
   "source": [
    "# Q.11 Write a function to calculate area and perimeter of a rectangle.\n"
   ]
  },
  {
   "cell_type": "code",
   "execution_count": 7,
   "id": "3e99ca26",
   "metadata": {},
   "outputs": [
    {
     "name": "stdout",
     "output_type": "stream",
     "text": [
      "Enter the length8\n",
      "Enter the breadth9\n",
      "72\n",
      "8.5\n"
     ]
    }
   ],
   "source": [
    "def area_perimeter():\n",
    "    area=l*b\n",
    "    perimeter=1/2*(l+b)\n",
    "    print(area)\n",
    "    print(perimeter)\n",
    "l=int(input(\"Enter the length\"))\n",
    "b=int(input(\"Enter the breadth\"))\n",
    "area_perimeter()"
   ]
  },
  {
   "cell_type": "markdown",
   "id": "18aee801",
   "metadata": {},
   "source": [
    "# Q.12 Write a function to calculate area and circumference of a circle."
   ]
  },
  {
   "cell_type": "code",
   "execution_count": 1,
   "id": "daa26832",
   "metadata": {},
   "outputs": [
    {
     "name": "stdout",
     "output_type": "stream",
     "text": [
      "Enter the radius :8\n",
      "201.06192982974676\n",
      "50.26548245743669\n"
     ]
    }
   ],
   "source": [
    "def area_circumference():\n",
    "    import math\n",
    "    area=math.pi*r*r\n",
    "    circumferance=2*math.pi*r\n",
    "    print(area)\n",
    "    print(circumferance)\n",
    "r=int(input(\"Enter the radius :\"))\n",
    "area_circumference()\n",
    "    "
   ]
  },
  {
   "cell_type": "markdown",
   "id": "a7942987",
   "metadata": {},
   "source": [
    "# Q.13 Write a function to calculate the multiplication of all the elements in the list.\n"
   ]
  },
  {
   "cell_type": "code",
   "execution_count": 1,
   "id": "08b72ff9",
   "metadata": {},
   "outputs": [
    {
     "name": "stdout",
     "output_type": "stream",
     "text": [
      "Enter the element9\n",
      "Want to add more element yes for yes or noyes\n",
      "Enter the element87\n",
      "Want to add more element yes for yes or noyes\n",
      "Enter the element89\n",
      "Want to add more element yes for yes or noyes\n",
      "Enter the element7\n",
      "Want to add more element yes for yes or nono\n",
      "487809\n"
     ]
    }
   ],
   "source": [
    "def multiply(item):\n",
    "    res=1\n",
    "    for i in item:\n",
    "        res=res*i\n",
    "    return(res)\n",
    "item=[]\n",
    "ans=\"yes\"\n",
    "while(ans==\"yes\" or ans==\"no\"):\n",
    "    x=int(input(\"Enter the element\"))\n",
    "    item.append(x)\n",
    "    ans=input(\"Want to add more element yes for yes or no\")\n",
    "    if ans==\"no\":\n",
    "        break\n",
    "result=multiply(item)\n",
    "print(result)"
   ]
  },
  {
   "cell_type": "code",
   "execution_count": null,
   "id": "01ad635c",
   "metadata": {},
   "outputs": [],
   "source": []
  }
 ],
 "metadata": {
  "kernelspec": {
   "display_name": "Python 3 (ipykernel)",
   "language": "python",
   "name": "python3"
  },
  "language_info": {
   "codemirror_mode": {
    "name": "ipython",
    "version": 3
   },
   "file_extension": ".py",
   "mimetype": "text/x-python",
   "name": "python",
   "nbconvert_exporter": "python",
   "pygments_lexer": "ipython3",
   "version": "3.9.12"
  }
 },
 "nbformat": 4,
 "nbformat_minor": 5
}
