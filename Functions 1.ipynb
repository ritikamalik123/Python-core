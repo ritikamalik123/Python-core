{
 "cells": [
  {
   "cell_type": "markdown",
   "id": "1485cd46",
   "metadata": {},
   "source": [
    "## What is Function and why we need it?\n",
    "Python Functions is a block of related statements designed to perform a computational, logical, or evaluative task.\n",
    "\n",
    "The idea is to put some commonly or repeatedly done tasks together and make a function so that instead of writing the same code again and again for different inputs, we can do the function calls to reuse code contained in it over and over again.\n",
    "\n",
    "\n",
    "### Advantages of working with function\n",
    "1.Abstraction\n",
    "\n",
    "2.less messy\n",
    "\n",
    "3.Modularity and parallelism\n",
    "\n",
    "4.debugging\n",
    "\n",
    "5.Reusebality\n",
    "\n",
    "\n",
    "### Functions are two type:-\n",
    "\n",
    "1. bulit-in\n",
    "2. user defined\n",
    "\n",
    "\n",
    "## 1. bulit-in\n",
    "1. input()\n",
    "2. len()\n",
    "3. pow()\n",
    "4. id()\n",
    "5. ord()\n",
    "6. round(\n",
    "7. chr()\n",
    "8. type()\n",
    "09. print()\n",
    "10. float()\n",
    "11. int()\n",
    "12. str()\n",
    "13. help() : returns th documentation/details of any function\n"
   ]
  },
  {
   "cell_type": "markdown",
   "id": "ec8b52a4",
   "metadata": {},
   "source": [
    "# Syntax"
   ]
  },
  {
   "cell_type": "markdown",
   "id": "fa2c2731",
   "metadata": {},
   "source": [
    "def add():\n",
    "\n",
    "The function definition starts with a def keyword followed by the function name and the arguments the function can take. These arguments are within parentheses and there can be any number of arguments including zero. When there is more than one argument, they are separated by a comma. Since python is a loosely typed language, (meaning we don’t assign a data type to a variable when declaration) we shouldn’t include the data types for the arguments. The function definition statement is terminated by a colon."
   ]
  },
  {
   "cell_type": "code",
   "execution_count": 4,
   "id": "c3e83c32",
   "metadata": {},
   "outputs": [
    {
     "name": "stdout",
     "output_type": "stream",
     "text": [
      "welcome to function topic\n",
      "outside the function\n",
      "Enter the first number7\n",
      "Enter the second number9\n",
      "16\n",
      "once again\n",
      "Enter the first number6\n",
      "Enter the second number8\n",
      "14\n",
      "well done\n"
     ]
    }
   ],
   "source": [
    "#Case 1: Without argument and without return type\n",
    "print(\"welcome to function topic\")\n",
    "def add():\n",
    "    num1=int(input(\"Enter the first number\"))\n",
    "    num2=int(input(\"Enter the second number\"))\n",
    "    c=num1+num2\n",
    "    print(c)\n",
    "print(\"outside the function\")\n",
    "add()\n",
    "print(\"once again\")\n",
    "add()\n",
    "print(\"well done\")"
   ]
  },
  {
   "cell_type": "code",
   "execution_count": 2,
   "id": "93229c25",
   "metadata": {},
   "outputs": [
    {
     "name": "stdout",
     "output_type": "stream",
     "text": [
      "Enter the first number7\n",
      "Enter the second number9\n",
      "16\n"
     ]
    }
   ],
   "source": [
    "add()"
   ]
  },
  {
   "cell_type": "code",
   "execution_count": 3,
   "id": "1080be8f",
   "metadata": {},
   "outputs": [
    {
     "name": "stdout",
     "output_type": "stream",
     "text": [
      "Enter the number5\n",
      "enter the number6\n",
      "11\n"
     ]
    }
   ],
   "source": [
    "# case 2:with argument and without return type\n",
    "def add(n1,n2):\n",
    "    c=n1+n2\n",
    "    print(c)\n",
    "num1=int(input(\"Enter the number\"))\n",
    "num2=int(input(\"enter the number\"))\n",
    "add(num1,num2)\n"
   ]
  },
  {
   "cell_type": "code",
   "execution_count": null,
   "id": "98ab3534",
   "metadata": {},
   "outputs": [
    {
     "name": "stdout",
     "output_type": "stream",
     "text": [
      "outside the function\n"
     ]
    }
   ],
   "source": [
    "# case 3:without argument and with return type\n",
    "def add():\n",
    "    num1=int(input(\"Enter the first number\"))\n",
    "    num2=int(input(\"Enter the second number\"))\n",
    "    c=num1+num2\n",
    "    return c\n",
    "print(\"outside the function\")\n",
    "k=add()\n",
    "print(k)"
   ]
  },
  {
   "cell_type": "code",
   "execution_count": 2,
   "id": "04331799",
   "metadata": {},
   "outputs": [
    {
     "name": "stdout",
     "output_type": "stream",
     "text": [
      "15\n"
     ]
    }
   ],
   "source": [
    "print(k)"
   ]
  },
  {
   "cell_type": "code",
   "execution_count": 1,
   "id": "9d7ccc1e",
   "metadata": {},
   "outputs": [
    {
     "name": "stdout",
     "output_type": "stream",
     "text": [
      "outside the function\n",
      "Enter the first number5\n",
      "Enter the second number8\n",
      "13\n"
     ]
    }
   ],
   "source": [
    "# casee 4: with argument and with return type\n",
    "def add(n1,n2):\n",
    "    c=n1+n2\n",
    "    return c\n",
    "print(\"outside the function\")\n",
    "num1=int(input(\"Enter the first number\"))\n",
    "num2=int(input(\"Enter the second number\"))\n",
    "k=add(num1,num2)\n",
    "print(k)\n",
    "    "
   ]
  },
  {
   "cell_type": "code",
   "execution_count": 2,
   "id": "1573c9a0",
   "metadata": {},
   "outputs": [
    {
     "data": {
      "text/plain": [
       "13"
      ]
     },
     "execution_count": 2,
     "metadata": {},
     "output_type": "execute_result"
    }
   ],
   "source": [
    "k"
   ]
  },
  {
   "cell_type": "code",
   "execution_count": 7,
   "id": "954c11b0",
   "metadata": {},
   "outputs": [
    {
     "name": "stdout",
     "output_type": "stream",
     "text": [
      "Welcome to the function \n",
      "enter the number :8\n",
      "8 this number is even\n"
     ]
    }
   ],
   "source": [
    "# Write a function whether the function is odd or even with 4 case\n",
    "#case 1:\n",
    "def evenodd():\n",
    "    num=int(input(\"enter the number :\"))\n",
    "    if(num%2==0):\n",
    "        print(num, \"this number is even\")\n",
    "    else:\n",
    "        print(num, \"this number is odd\")\n",
    "print(\"Welcome to the function \")\n",
    "evenodd()"
   ]
  },
  {
   "cell_type": "code",
   "execution_count": 11,
   "id": "267f1f30",
   "metadata": {},
   "outputs": [
    {
     "name": "stdout",
     "output_type": "stream",
     "text": [
      "Welcome to the function \n",
      "enter the number :8\n",
      "8 this number is even\n"
     ]
    }
   ],
   "source": [
    "# Case 2:\n",
    "def evenodd(n1):\n",
    "    if(num%2==0):\n",
    "        print(num, \"this number is even\")\n",
    "    else:\n",
    "        print(num, \"this number is odd\")\n",
    "print(\"Welcome to the function \")\n",
    "num=int(input(\"enter the number :\"))\n",
    "evenodd(num)\n"
   ]
  },
  {
   "cell_type": "code",
   "execution_count": 1,
   "id": "df747220",
   "metadata": {},
   "outputs": [
    {
     "name": "stdout",
     "output_type": "stream",
     "text": [
      "Welcome to the function \n",
      "enter the number :8\n",
      "(8, 'even')\n"
     ]
    }
   ],
   "source": [
    "# case 3:\n",
    "def evenodd():\n",
    "    num=int(input(\"enter the number :\"))\n",
    "    if(num%2==0):\n",
    "        return num,\"even\"\n",
    "    else:\n",
    "        return num,\"odd\"\n",
    "print(\"Welcome to the function \")\n",
    "i=evenodd()\n",
    "print(i)"
   ]
  },
  {
   "cell_type": "code",
   "execution_count": 4,
   "id": "d0601e0e",
   "metadata": {},
   "outputs": [
    {
     "name": "stdout",
     "output_type": "stream",
     "text": [
      "Welcome to the function \n",
      "enter the number :9\n",
      "(9, 'odd')\n"
     ]
    }
   ],
   "source": [
    "# case 4:\n",
    "def evenodd(n1):\n",
    "    if(num%2==0):\n",
    "        return n1, \"even\"\n",
    "    else:\n",
    "        return n1, \"odd\"\n",
    "print(\"Welcome to the function \")\n",
    "num=int(input(\"enter the number :\"))\n",
    "i=evenodd(num)\n",
    "print(i)"
   ]
  },
  {
   "cell_type": "code",
   "execution_count": 7,
   "id": "80426b12",
   "metadata": {},
   "outputs": [
    {
     "name": "stdout",
     "output_type": "stream",
     "text": [
      "hello\n",
      "enter the nameritika\n",
      "hi ritika\n"
     ]
    }
   ],
   "source": [
    "print(\"hello\")\n",
    "def display(name):\n",
    "    return name\n",
    "    print(\"inside the function\")\n",
    "name1=input(\"enter the name\")\n",
    "k=display(name1)\n",
    "print(\"hi\",k)"
   ]
  },
  {
   "cell_type": "code",
   "execution_count": 3,
   "id": "fd86007c",
   "metadata": {},
   "outputs": [
    {
     "name": "stdout",
     "output_type": "stream",
     "text": [
      "hello\n",
      "welcome to the program\n",
      "Enter the length9\n",
      "Enter the bredth8\n",
      "36.0\n",
      "thank you\n"
     ]
    }
   ],
   "source": [
    "# Write a function to display the area of triangle with four cases\n",
    "# Case 1:\n",
    "print(\"hello\")\n",
    "def area():\n",
    "    l=int(input(\"Enter the length\"))\n",
    "    b=int(input(\"Enter the bredth\"))\n",
    "    a=1/2*l*b\n",
    "    print(a)\n",
    "print(\"welcome to the program\")\n",
    "area()\n",
    "print(\"thank you\")\n"
   ]
  },
  {
   "cell_type": "code",
   "execution_count": 1,
   "id": "07cd7533",
   "metadata": {},
   "outputs": [
    {
     "name": "stdout",
     "output_type": "stream",
     "text": [
      "hello\n",
      "welcome to the program\n",
      "Enter the length6\n",
      "Enter the bredth7\n",
      "21.0\n",
      "thank you\n"
     ]
    }
   ],
   "source": [
    "# Case 2:\n",
    "print(\"hello\")\n",
    "def area(l1,b1):\n",
    "    a=1/2*l*b\n",
    "    print(a)\n",
    "\n",
    "print(\"welcome to the program\")\n",
    "l=int(input(\"Enter the length\"))\n",
    "b=int(input(\"Enter the bredth\"))\n",
    "area(l,b)\n",
    "print(\"thank you\")"
   ]
  },
  {
   "cell_type": "code",
   "execution_count": 3,
   "id": "2732c042",
   "metadata": {},
   "outputs": [
    {
     "name": "stdout",
     "output_type": "stream",
     "text": [
      "hello\n",
      "welcome to the program\n",
      "Enter the length8\n",
      "Enter the bredth9\n",
      "36.0\n"
     ]
    }
   ],
   "source": [
    "# Case 3:\n",
    "print(\"hello\")\n",
    "def area():\n",
    "    l=int(input(\"Enter the length\"))\n",
    "    b=int(input(\"Enter the bredth\"))\n",
    "    a=1/2*l*b\n",
    "    return a\n",
    "print(\"welcome to the program\")\n",
    "k=area()\n",
    "print(\"thank you\")\n"
   ]
  },
  {
   "cell_type": "code",
   "execution_count": 4,
   "id": "17c1bbd0",
   "metadata": {},
   "outputs": [
    {
     "name": "stdout",
     "output_type": "stream",
     "text": [
      "hello\n",
      "welcome to the program\n",
      "Enter the length7\n",
      "Enter the bredth9\n",
      "31.5\n"
     ]
    }
   ],
   "source": [
    "# Case 4:\n",
    "print(\"hello\")\n",
    "def area(l1,b1):\n",
    "    a=1/2*l*b\n",
    "    return a\n",
    "print(\"welcome to the program\")\n",
    "l=int(input(\"Enter the length\"))\n",
    "b=int(input(\"Enter the bredth\"))\n",
    "k=area(l,b)\n",
    "print(k)"
   ]
  },
  {
   "cell_type": "code",
   "execution_count": 6,
   "id": "c439be8d",
   "metadata": {},
   "outputs": [
    {
     "name": "stdout",
     "output_type": "stream",
     "text": [
      "Welcome to the program\n",
      "Let's find numbers\n",
      "Enter the number7\n",
      "This no. is prsitive\n"
     ]
    }
   ],
   "source": [
    "# write a function  to check the number is positive or negitive with four cases\n",
    "# Case 1:\n",
    "print(\"Welcome to the program\")\n",
    "def p_n():\n",
    "    num=int(input(\"Enter the number\"))\n",
    "    if num>0:\n",
    "        print(\"This no. is prsitive\")\n",
    "    elif num<0:\n",
    "        print(\"This no. is negitive\")\n",
    "print(\"Let's find numbers\")\n",
    "p_n()\n"
   ]
  },
  {
   "cell_type": "code",
   "execution_count": 1,
   "id": "7c296782",
   "metadata": {},
   "outputs": [
    {
     "name": "stdout",
     "output_type": "stream",
     "text": [
      "Welcome to the program\n",
      "Let's find numbers\n",
      "Enter the number-9\n",
      "This no. is negitive\n"
     ]
    }
   ],
   "source": [
    "# Case 2:\n",
    "print(\"Welcome to the program\")\n",
    "def p_n(n):\n",
    "    if num>0:\n",
    "        print(\"This no. is prsitive\")\n",
    "    else:\n",
    "        print(\"This no. is negitive\")\n",
    "print(\"Let's find numbers\")\n",
    "num=int(input(\"Enter the number\"))\n",
    "p_n(num)\n"
   ]
  },
  {
   "cell_type": "code",
   "execution_count": 2,
   "id": "17f1e176",
   "metadata": {},
   "outputs": [
    {
     "name": "stdout",
     "output_type": "stream",
     "text": [
      "Welcome to the program\n",
      "Let's find numbers\n",
      "Enter the number8\n",
      "(8, 'positive')\n"
     ]
    }
   ],
   "source": [
    "# Case 3:\n",
    "print(\"Welcome to the program\")\n",
    "def p_n():\n",
    "    num=int(input(\"Enter the number\"))\n",
    "    if num>0:\n",
    "        return num,\"positive\"\n",
    "    elif num<0:\n",
    "        return num,\"negitive\"\n",
    "print(\"Let's find numbers\")\n",
    "i=p_n()\n",
    "print(i)\n"
   ]
  },
  {
   "cell_type": "code",
   "execution_count": 3,
   "id": "0d72e32c",
   "metadata": {},
   "outputs": [
    {
     "name": "stdout",
     "output_type": "stream",
     "text": [
      "Welcome to the program\n",
      "Let's find numbers\n",
      "Enter the number9\n",
      "(9, 'positive')\n"
     ]
    }
   ],
   "source": [
    "# CASE 4:\n",
    "print(\"Welcome to the program\")\n",
    "def p_n(n):\n",
    "    if num>0:\n",
    "        return num,\"positive\"\n",
    "    elif num<0:\n",
    "        return num,\"negitive\"\n",
    "print(\"Let's find numbers\")\n",
    "num=int(input(\"Enter the number\"))\n",
    "i=p_n(num)\n",
    "print(i)"
   ]
  },
  {
   "cell_type": "markdown",
   "id": "4c6eed0d",
   "metadata": {},
   "source": [
    "# Type of Arguments\n",
    "\n",
    "Python supports various argument that can be passed at the time of the function call.\n",
    "1. positional argument\n",
    "2. default arguments\n",
    "3. Keyword argument\n",
    "4. variable argument"
   ]
  },
  {
   "cell_type": "code",
   "execution_count": 2,
   "id": "0b9b8c7a",
   "metadata": {},
   "outputs": [
    {
     "name": "stdout",
     "output_type": "stream",
     "text": [
      "enter the number6\n"
     ]
    },
    {
     "data": {
      "text/plain": [
       "11"
      ]
     },
     "execution_count": 2,
     "metadata": {},
     "output_type": "execute_result"
    }
   ],
   "source": [
    "# defalt argument \n",
    "def add(num1,num2=5):\n",
    "    c=num1+num2\n",
    "    return c\n",
    "n=int(input(\"enter the number\"))\n",
    "add(n)"
   ]
  },
  {
   "cell_type": "code",
   "execution_count": 3,
   "id": "ec419b5e",
   "metadata": {},
   "outputs": [
    {
     "name": "stdout",
     "output_type": "stream",
     "text": [
      "aman singh\n"
     ]
    }
   ],
   "source": [
    "#positional argument\n",
    "def student(firstname,lastname):\n",
    "    print(firstname,lastname)\n",
    "student(lastname='singh',firstname='aman')\n"
   ]
  },
  {
   "cell_type": "code",
   "execution_count": 4,
   "id": "454bcf59",
   "metadata": {},
   "outputs": [
    {
     "name": "stdout",
     "output_type": "stream",
     "text": [
      "<class 'tuple'>\n",
      "7\n",
      "<class 'tuple'>\n",
      "18\n"
     ]
    }
   ],
   "source": [
    "# Variable argument\n",
    "def add(*args):\n",
    "    sum1=0\n",
    "    print(type(args))\n",
    "    for i in args:\n",
    "        sum1=sum1+i\n",
    "    print(sum1)\n",
    "add(2,5)\n",
    "add(5,6,7)"
   ]
  },
  {
   "cell_type": "code",
   "execution_count": 5,
   "id": "580bf27c",
   "metadata": {},
   "outputs": [
    {
     "name": "stdout",
     "output_type": "stream",
     "text": [
      "<class 'tuple'>\n",
      "45\n"
     ]
    }
   ],
   "source": [
    "add(5,6,7,8,9,10)"
   ]
  },
  {
   "cell_type": "code",
   "execution_count": null,
   "id": "34d99fa7",
   "metadata": {},
   "outputs": [],
   "source": []
  }
 ],
 "metadata": {
  "kernelspec": {
   "display_name": "Python 3 (ipykernel)",
   "language": "python",
   "name": "python3"
  },
  "language_info": {
   "codemirror_mode": {
    "name": "ipython",
    "version": 3
   },
   "file_extension": ".py",
   "mimetype": "text/x-python",
   "name": "python",
   "nbconvert_exporter": "python",
   "pygments_lexer": "ipython3",
   "version": "3.9.12"
  }
 },
 "nbformat": 4,
 "nbformat_minor": 5
}
