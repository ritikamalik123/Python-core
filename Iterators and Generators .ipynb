{
 "cells": [
  {
   "cell_type": "markdown",
   "id": "fd3a8f61",
   "metadata": {},
   "source": [
    "# Iterators and Generators\n"
   ]
  },
  {
   "cell_type": "markdown",
   "id": "49753cc9",
   "metadata": {},
   "source": [
    " Iterators : To perfrom a task repeatily . till now, we have seen with the help of for loop and while loop we can traverse the sequence (list,tuple)or non-sequencr or to handle repeat task.\n",
    "\n",
    " so iterator and generator are the tools for traversing the sequence as well."
   ]
  },
  {
   "cell_type": "markdown",
   "id": "51963f9d",
   "metadata": {},
   "source": [
    "# Iterators\n",
    " \n",
    "- iterator is an object which contains a countable numbers of values  and it is used to iterate over iterable objects like list ,tuple etc.\n",
    "- iterators mostly used to iterate or convert other objects to an iterator using iter() function\n",
    "- iter uses iter() and next() function\n",
    "- Every iterator is not a generator"
   ]
  },
  {
   "cell_type": "code",
   "execution_count": 2,
   "id": "95300fa4",
   "metadata": {},
   "outputs": [
    {
     "data": {
      "text/plain": [
       "list_iterator"
      ]
     },
     "execution_count": 2,
     "metadata": {},
     "output_type": "execute_result"
    }
   ],
   "source": [
    "# so how to creat iterator\n",
    "l=[1,2,3,45,5]\n",
    "a=iter(l)\n",
    "type(a)"
   ]
  },
  {
   "cell_type": "code",
   "execution_count": 3,
   "id": "3dd9dbf5",
   "metadata": {},
   "outputs": [
    {
     "data": {
      "text/plain": [
       "1"
      ]
     },
     "execution_count": 3,
     "metadata": {},
     "output_type": "execute_result"
    }
   ],
   "source": [
    "next(a)"
   ]
  },
  {
   "cell_type": "code",
   "execution_count": 4,
   "id": "c3db10c1",
   "metadata": {},
   "outputs": [
    {
     "data": {
      "text/plain": [
       "2"
      ]
     },
     "execution_count": 4,
     "metadata": {},
     "output_type": "execute_result"
    }
   ],
   "source": [
    "next(a)"
   ]
  },
  {
   "cell_type": "code",
   "execution_count": 5,
   "id": "8b7f652e",
   "metadata": {},
   "outputs": [
    {
     "data": {
      "text/plain": [
       "3"
      ]
     },
     "execution_count": 5,
     "metadata": {},
     "output_type": "execute_result"
    }
   ],
   "source": [
    "next(a)"
   ]
  },
  {
   "cell_type": "code",
   "execution_count": 6,
   "id": "2a5fc3b8",
   "metadata": {},
   "outputs": [
    {
     "data": {
      "text/plain": [
       "45"
      ]
     },
     "execution_count": 6,
     "metadata": {},
     "output_type": "execute_result"
    }
   ],
   "source": [
    "next(a)"
   ]
  },
  {
   "cell_type": "code",
   "execution_count": 7,
   "id": "cc005c1f",
   "metadata": {},
   "outputs": [
    {
     "data": {
      "text/plain": [
       "5"
      ]
     },
     "execution_count": 7,
     "metadata": {},
     "output_type": "execute_result"
    }
   ],
   "source": [
    "next(a)"
   ]
  },
  {
   "cell_type": "code",
   "execution_count": 8,
   "id": "66d97a4a",
   "metadata": {},
   "outputs": [
    {
     "ename": "StopIteration",
     "evalue": "",
     "output_type": "error",
     "traceback": [
      "\u001b[1;31m---------------------------------------------------------------------------\u001b[0m",
      "\u001b[1;31mStopIteration\u001b[0m                             Traceback (most recent call last)",
      "Input \u001b[1;32mIn [8]\u001b[0m, in \u001b[0;36m<cell line: 1>\u001b[1;34m()\u001b[0m\n\u001b[1;32m----> 1\u001b[0m \u001b[38;5;28;43mnext\u001b[39;49m\u001b[43m(\u001b[49m\u001b[43ma\u001b[49m\u001b[43m)\u001b[49m\n",
      "\u001b[1;31mStopIteration\u001b[0m: "
     ]
    }
   ],
   "source": [
    "next(a)"
   ]
  },
  {
   "cell_type": "markdown",
   "id": "8b2a4615",
   "metadata": {},
   "source": [
    "so , it is prettyy much clear that with the helps of loops we can traverse the sequence and non sequence data structure\n",
    "\n",
    "so question comes > \n",
    "\n",
    "### why need iterators and generators if they do same job.\n",
    "\n",
    "\n",
    "### Beacuse \n",
    "\n",
    "- They handles large  stream of data (like millions records ) like large file .\n",
    "so we can not store all the data in the memory. so we fetch the data in the form of chunks according to requirement."
   ]
  },
  {
   "cell_type": "markdown",
   "id": "c9ca05ed",
   "metadata": {},
   "source": [
    "## Iterable vs Iterator\n",
    "\n",
    "### Iterator : object which iterates over iterable\n",
    "### Iterable: object over which we are able to iterate. means capable of returning numbers one by one."
   ]
  },
  {
   "cell_type": "code",
   "execution_count": 13,
   "id": "2246bbe9",
   "metadata": {},
   "outputs": [],
   "source": [
    "\n",
    "def fun(num):\n",
    "    for i in range(num):\n",
    "        print(i)\n",
    "        yield i*i\n",
    "        print(\"hello\")\n",
    "        "
   ]
  },
  {
   "cell_type": "code",
   "execution_count": 14,
   "id": "49d38ca0",
   "metadata": {},
   "outputs": [
    {
     "data": {
      "text/plain": [
       "<generator object fun at 0x000001CD81A2AB30>"
      ]
     },
     "execution_count": 14,
     "metadata": {},
     "output_type": "execute_result"
    }
   ],
   "source": [
    "fun(5)"
   ]
  },
  {
   "cell_type": "code",
   "execution_count": 15,
   "id": "3de709d7",
   "metadata": {},
   "outputs": [
    {
     "data": {
      "text/plain": [
       "<generator object fun at 0x000001CD81A2A9E0>"
      ]
     },
     "execution_count": 15,
     "metadata": {},
     "output_type": "execute_result"
    }
   ],
   "source": [
    "a=fun(5)\n",
    "a"
   ]
  },
  {
   "cell_type": "code",
   "execution_count": 16,
   "id": "4f363e29",
   "metadata": {},
   "outputs": [
    {
     "name": "stdout",
     "output_type": "stream",
     "text": [
      "0\n"
     ]
    },
    {
     "data": {
      "text/plain": [
       "0"
      ]
     },
     "execution_count": 16,
     "metadata": {},
     "output_type": "execute_result"
    }
   ],
   "source": [
    "next(a)"
   ]
  },
  {
   "cell_type": "code",
   "execution_count": 17,
   "id": "576e3f99",
   "metadata": {},
   "outputs": [
    {
     "name": "stdout",
     "output_type": "stream",
     "text": [
      "hello\n",
      "1\n"
     ]
    },
    {
     "data": {
      "text/plain": [
       "1"
      ]
     },
     "execution_count": 17,
     "metadata": {},
     "output_type": "execute_result"
    }
   ],
   "source": [
    "next(a)"
   ]
  },
  {
   "cell_type": "code",
   "execution_count": 18,
   "id": "3231781c",
   "metadata": {},
   "outputs": [
    {
     "name": "stdout",
     "output_type": "stream",
     "text": [
      "hello\n",
      "2\n"
     ]
    },
    {
     "data": {
      "text/plain": [
       "4"
      ]
     },
     "execution_count": 18,
     "metadata": {},
     "output_type": "execute_result"
    }
   ],
   "source": [
    "next(a)"
   ]
  },
  {
   "cell_type": "code",
   "execution_count": 19,
   "id": "668a0e60",
   "metadata": {},
   "outputs": [
    {
     "name": "stdout",
     "output_type": "stream",
     "text": [
      "hello\n",
      "3\n"
     ]
    },
    {
     "data": {
      "text/plain": [
       "9"
      ]
     },
     "execution_count": 19,
     "metadata": {},
     "output_type": "execute_result"
    }
   ],
   "source": [
    "next(a)"
   ]
  },
  {
   "cell_type": "code",
   "execution_count": 20,
   "id": "f8794a6b",
   "metadata": {},
   "outputs": [
    {
     "name": "stdout",
     "output_type": "stream",
     "text": [
      "hello\n",
      "4\n"
     ]
    },
    {
     "data": {
      "text/plain": [
       "16"
      ]
     },
     "execution_count": 20,
     "metadata": {},
     "output_type": "execute_result"
    }
   ],
   "source": [
    "next(a)"
   ]
  },
  {
   "cell_type": "code",
   "execution_count": 21,
   "id": "d0eb6547",
   "metadata": {},
   "outputs": [
    {
     "name": "stdout",
     "output_type": "stream",
     "text": [
      "hello\n"
     ]
    },
    {
     "ename": "StopIteration",
     "evalue": "",
     "output_type": "error",
     "traceback": [
      "\u001b[1;31m---------------------------------------------------------------------------\u001b[0m",
      "\u001b[1;31mStopIteration\u001b[0m                             Traceback (most recent call last)",
      "Input \u001b[1;32mIn [21]\u001b[0m, in \u001b[0;36m<cell line: 1>\u001b[1;34m()\u001b[0m\n\u001b[1;32m----> 1\u001b[0m \u001b[38;5;28;43mnext\u001b[39;49m\u001b[43m(\u001b[49m\u001b[43ma\u001b[49m\u001b[43m)\u001b[49m\n",
      "\u001b[1;31mStopIteration\u001b[0m: "
     ]
    }
   ],
   "source": [
    "next(a)"
   ]
  },
  {
   "cell_type": "markdown",
   "id": "e6b69fe9",
   "metadata": {},
   "source": [
    "## Note:-\n",
    "\n",
    "\n",
    "- generators can be only made when you add yeild keyword in the function\n"
   ]
  },
  {
   "cell_type": "code",
   "execution_count": 22,
   "id": "247eaa84",
   "metadata": {},
   "outputs": [
    {
     "name": "stdout",
     "output_type": "stream",
     "text": [
      "hi\n",
      "2\n"
     ]
    }
   ],
   "source": [
    "def abc():\n",
    "    print(\"hi\")\n",
    "    return 2\n",
    "    print(\"hello\")\n",
    "k=abc()\n",
    "print(k)"
   ]
  },
  {
   "cell_type": "markdown",
   "id": "5e9d78d3",
   "metadata": {},
   "source": [
    "# Lambda (Annonymous Function)\n",
    "\n",
    "- These functions are called annonymous because they are not declared in the standard manner by using the def keyword.\n",
    "- you can use the lambda keyword to create small anonymons functions.\n"
   ]
  },
  {
   "cell_type": "code",
   "execution_count": 23,
   "id": "97ac4198",
   "metadata": {},
   "outputs": [],
   "source": [
    "# it is the function whicch can take any numbers of arguments but has only one expression\n"
   ]
  },
  {
   "cell_type": "code",
   "execution_count": 24,
   "id": "78e5cf25",
   "metadata": {},
   "outputs": [
    {
     "data": {
      "text/plain": [
       "function"
      ]
     },
     "execution_count": 24,
     "metadata": {},
     "output_type": "execute_result"
    }
   ],
   "source": [
    "#waf to give sum of two numbers\n",
    "\n",
    "a=lambda num1,num2:num1+num2\n",
    "type(a)"
   ]
  },
  {
   "cell_type": "code",
   "execution_count": 26,
   "id": "6c1b25ce",
   "metadata": {},
   "outputs": [
    {
     "data": {
      "text/plain": [
       "5"
      ]
     },
     "execution_count": 26,
     "metadata": {},
     "output_type": "execute_result"
    }
   ],
   "source": [
    "(lambda num1,num2:num1+num2)(2,3)"
   ]
  },
  {
   "cell_type": "code",
   "execution_count": 27,
   "id": "73572284",
   "metadata": {},
   "outputs": [
    {
     "name": "stdout",
     "output_type": "stream",
     "text": [
      "enter the first number10\n",
      "Enter the sec number30\n"
     ]
    },
    {
     "data": {
      "text/plain": [
       "40"
      ]
     },
     "execution_count": 27,
     "metadata": {},
     "output_type": "execute_result"
    }
   ],
   "source": [
    "(lambda num1,num2:num1+num2)(int(input(\"enter the first number\")),int(input(\"Enter the sec number\")))"
   ]
  },
  {
   "cell_type": "code",
   "execution_count": 28,
   "id": "908cf8f0",
   "metadata": {},
   "outputs": [
    {
     "data": {
      "text/plain": [
       "6"
      ]
     },
     "execution_count": 28,
     "metadata": {},
     "output_type": "execute_result"
    }
   ],
   "source": [
    "a=lambda num1,num2:num1+num2\n",
    "a(2,4)"
   ]
  },
  {
   "cell_type": "code",
   "execution_count": 29,
   "id": "b0062b36",
   "metadata": {},
   "outputs": [
    {
     "data": {
      "text/plain": [
       "16"
      ]
     },
     "execution_count": 29,
     "metadata": {},
     "output_type": "execute_result"
    }
   ],
   "source": [
    "a(7,9)"
   ]
  },
  {
   "cell_type": "code",
   "execution_count": 30,
   "id": "e6937514",
   "metadata": {},
   "outputs": [
    {
     "name": "stdout",
     "output_type": "stream",
     "text": [
      "Enter the first number10\n",
      "Enter the sec number30\n"
     ]
    },
    {
     "data": {
      "text/plain": [
       "40"
      ]
     },
     "execution_count": 30,
     "metadata": {},
     "output_type": "execute_result"
    }
   ],
   "source": [
    "a(int(input(\"Enter the first number\")),int(input(\"Enter the sec number\")))"
   ]
  },
  {
   "cell_type": "code",
   "execution_count": 32,
   "id": "8247e1d0",
   "metadata": {},
   "outputs": [
    {
     "data": {
      "text/plain": [
       "89"
      ]
     },
     "execution_count": 32,
     "metadata": {},
     "output_type": "execute_result"
    }
   ],
   "source": [
    "# waf to find the largest amoung two numbers\n",
    "(lambda num1,num2:num1 if num1>num2 else num2)(45,89)"
   ]
  },
  {
   "cell_type": "code",
   "execution_count": 33,
   "id": "b6e1b45b",
   "metadata": {},
   "outputs": [],
   "source": [
    "#wap to find given strings starts with given character using lambda"
   ]
  },
  {
   "cell_type": "code",
   "execution_count": 41,
   "id": "76a8deb7",
   "metadata": {},
   "outputs": [
    {
     "name": "stdout",
     "output_type": "stream",
     "text": [
      "enter the letter :r\n",
      "Enter the string :tanu\n"
     ]
    },
    {
     "data": {
      "text/plain": [
       "'no'"
      ]
     },
     "execution_count": 41,
     "metadata": {},
     "output_type": "execute_result"
    }
   ],
   "source": [
    "(lambda l,s:s if l==s[0] else 'no')(input(\"enter the letter :\"),input(\"Enter the string :\"))"
   ]
  },
  {
   "cell_type": "code",
   "execution_count": 42,
   "id": "f15e7a1b",
   "metadata": {},
   "outputs": [
    {
     "name": "stdout",
     "output_type": "stream",
     "text": [
      "Enter the string : ritika\n",
      "Enter the letterl\n"
     ]
    },
    {
     "data": {
      "text/plain": [
       "'no'"
      ]
     },
     "execution_count": 42,
     "metadata": {},
     "output_type": "execute_result"
    }
   ],
   "source": [
    "(lambda l,s: s if s.startswith(l) else 'no')(input(\"Enter the string : \"),input(\"Enter the letter\"))"
   ]
  },
  {
   "cell_type": "code",
   "execution_count": 43,
   "id": "710ae284",
   "metadata": {},
   "outputs": [],
   "source": [
    "#waf if the given string is a number or not using lambda"
   ]
  },
  {
   "cell_type": "code",
   "execution_count": 44,
   "id": "9b128e1a",
   "metadata": {},
   "outputs": [
    {
     "name": "stdout",
     "output_type": "stream",
     "text": [
      "Enter the string457\n"
     ]
    },
    {
     "data": {
      "text/plain": [
       "'is numeric'"
      ]
     },
     "execution_count": 44,
     "metadata": {},
     "output_type": "execute_result"
    }
   ],
   "source": [
    "(lambda a:'is numeric' if a.isdigit() else 'not numeric')(input(\"Enter the string\"))"
   ]
  },
  {
   "cell_type": "code",
   "execution_count": 56,
   "id": "58e661a8",
   "metadata": {},
   "outputs": [
    {
     "name": "stdout",
     "output_type": "stream",
     "text": [
      "Enter the string : ritika\n",
      "not nueric\n"
     ]
    }
   ],
   "source": [
    "a=input(\"Enter the string : \")\n",
    "if a.isdigit():\n",
    "    print(\"it is numeric\")\n",
    "else:\n",
    "    print(\"not numeric\")"
   ]
  },
  {
   "cell_type": "code",
   "execution_count": 45,
   "id": "1263571e",
   "metadata": {},
   "outputs": [],
   "source": [
    "#wap to sort the dictionary using values"
   ]
  },
  {
   "cell_type": "code",
   "execution_count": 46,
   "id": "7b78ea8a",
   "metadata": {},
   "outputs": [
    {
     "data": {
      "text/plain": [
       "['five', 'one', 'two']"
      ]
     },
     "execution_count": 46,
     "metadata": {},
     "output_type": "execute_result"
    }
   ],
   "source": [
    "d={\"one\":1,\"five\":5,\"two\":2}\n",
    "sorted(d)"
   ]
  },
  {
   "cell_type": "code",
   "execution_count": 47,
   "id": "828fc265",
   "metadata": {},
   "outputs": [
    {
     "data": {
      "text/plain": [
       "[('one', 1), ('two', 2), ('five', 5)]"
      ]
     },
     "execution_count": 47,
     "metadata": {},
     "output_type": "execute_result"
    }
   ],
   "source": [
    "sorted(d.items(),key=lambda t:t[1])"
   ]
  },
  {
   "cell_type": "code",
   "execution_count": 48,
   "id": "5ccf4fe0",
   "metadata": {},
   "outputs": [
    {
     "data": {
      "text/plain": [
       "[('five', 5), ('one', 1), ('two', 2)]"
      ]
     },
     "execution_count": 48,
     "metadata": {},
     "output_type": "execute_result"
    }
   ],
   "source": [
    "sorted(d.items(),key=lambda t:t[0])"
   ]
  },
  {
   "cell_type": "code",
   "execution_count": 50,
   "id": "2d35b1e8",
   "metadata": {},
   "outputs": [
    {
     "data": {
      "text/plain": [
       "[('one', (1, 2)), ('two', (2, 5)), ('five', (5, 4))]"
      ]
     },
     "execution_count": 50,
     "metadata": {},
     "output_type": "execute_result"
    }
   ],
   "source": [
    "d={\"one\":(1,2),\"five\":(5,4),\"two\":(2,5)}\n",
    "sorted(d.items(),key=lambda t:t[1])"
   ]
  },
  {
   "cell_type": "code",
   "execution_count": null,
   "id": "77213611",
   "metadata": {},
   "outputs": [],
   "source": [
    "#1. sort this list based on alphanumbric\n",
    "#2. sort this list based on the len of the words in decresing order\n"
   ]
  },
  {
   "cell_type": "code",
   "execution_count": 51,
   "id": "b3e88333",
   "metadata": {},
   "outputs": [
    {
     "data": {
      "text/plain": [
       "['balmeet', 'hello', 'hi', 'how', 'meet']"
      ]
     },
     "execution_count": 51,
     "metadata": {},
     "output_type": "execute_result"
    }
   ],
   "source": [
    "l=[\"hello\",\"hi\",\"how\",\"balmeet\",\"meet\"]\n",
    "sorted(l)"
   ]
  },
  {
   "cell_type": "code",
   "execution_count": 55,
   "id": "b161904a",
   "metadata": {},
   "outputs": [
    {
     "data": {
      "text/plain": [
       "['balmeet', 'hello', 'meet', 'how', 'hi']"
      ]
     },
     "execution_count": 55,
     "metadata": {},
     "output_type": "execute_result"
    }
   ],
   "source": [
    "sorted(l,key=lambda s:len(s),reverse=True)"
   ]
  },
  {
   "cell_type": "markdown",
   "id": "aa118659",
   "metadata": {},
   "source": [
    "# Map()"
   ]
  },
  {
   "cell_type": "code",
   "execution_count": 57,
   "id": "4826e447",
   "metadata": {},
   "outputs": [
    {
     "name": "stdout",
     "output_type": "stream",
     "text": [
      "['apple', 'avacado']\n"
     ]
    }
   ],
   "source": [
    "# to get the fruits starts with a \n",
    "l=[\"apple\",\"avacado\",\"banana\",\"cherry\"]\n",
    "l1=[]\n",
    "for i in l:\n",
    "    if i.startswith(\"a\"):\n",
    "        l1.append(i)\n",
    "print(l1)"
   ]
  },
  {
   "cell_type": "code",
   "execution_count": 59,
   "id": "7228bd9b",
   "metadata": {},
   "outputs": [
    {
     "data": {
      "text/plain": [
       "['apple', 'avacado']"
      ]
     },
     "execution_count": 59,
     "metadata": {},
     "output_type": "execute_result"
    }
   ],
   "source": [
    "[i for i in l if i.startswith(\"a\")]"
   ]
  },
  {
   "cell_type": "markdown",
   "id": "f90b6928",
   "metadata": {},
   "source": [
    "### Why we need map()\n",
    "- Map is a function which is high order function\n",
    "- the map() function iterates through all items in the given iterable and executes the function we passed as an argument on each of them"
   ]
  },
  {
   "cell_type": "code",
   "execution_count": 2,
   "id": "5ade7e43",
   "metadata": {},
   "outputs": [
    {
     "data": {
      "text/plain": [
       "['apple', 'avacado', '', '']"
      ]
     },
     "execution_count": 2,
     "metadata": {},
     "output_type": "execute_result"
    }
   ],
   "source": [
    "# using map\n",
    "l=[\"apple\",\"avacado\",\"banana\",\"cherry\"]\n",
    "list(map(lambda s: s if s.startswith(\"a\") else \"\",l))\n"
   ]
  },
  {
   "cell_type": "code",
   "execution_count": 27,
   "id": "0f761272",
   "metadata": {},
   "outputs": [],
   "source": [
    "def fruit_a(fruit):\n",
    "    if fruit.startswith(\"a\"):\n",
    "        return fruit\n",
    "    else:\n",
    "        return \"\"\n"
   ]
  },
  {
   "cell_type": "code",
   "execution_count": 28,
   "id": "76889747",
   "metadata": {},
   "outputs": [
    {
     "data": {
      "text/plain": [
       "['apple', 'avacado', '', '']"
      ]
     },
     "execution_count": 28,
     "metadata": {},
     "output_type": "execute_result"
    }
   ],
   "source": [
    "list(map(fruit_a,fruits))"
   ]
  },
  {
   "cell_type": "code",
   "execution_count": 30,
   "id": "3bfd6736",
   "metadata": {},
   "outputs": [
    {
     "data": {
      "text/plain": [
       "<map at 0x1f3bfd05e20>"
      ]
     },
     "execution_count": 30,
     "metadata": {},
     "output_type": "execute_result"
    }
   ],
   "source": [
    "a=map(fruit_a,fruits)\n",
    "a"
   ]
  },
  {
   "cell_type": "code",
   "execution_count": 31,
   "id": "f8019869",
   "metadata": {},
   "outputs": [
    {
     "data": {
      "text/plain": [
       "'apple'"
      ]
     },
     "execution_count": 31,
     "metadata": {},
     "output_type": "execute_result"
    }
   ],
   "source": [
    "next(a)"
   ]
  },
  {
   "cell_type": "markdown",
   "id": "88016a36",
   "metadata": {},
   "source": [
    "## wap\n",
    "1. l1=[12,3,4]\n",
    "2.  l2=[2,3,4]\n",
    "3.  l3=[14,6,8]"
   ]
  },
  {
   "cell_type": "code",
   "execution_count": 32,
   "id": "a752131f",
   "metadata": {},
   "outputs": [
    {
     "data": {
      "text/plain": [
       "[14, 6, 8]"
      ]
     },
     "execution_count": 32,
     "metadata": {},
     "output_type": "execute_result"
    }
   ],
   "source": [
    "l1=[12,3,4]\n",
    "l2=[2,3,4]\n",
    "l3=[14,6,8]\n",
    "list(map(lambda x,y:x+y,l1,l2))"
   ]
  },
  {
   "cell_type": "code",
   "execution_count": 33,
   "id": "da331538",
   "metadata": {},
   "outputs": [
    {
     "data": {
      "text/plain": [
       "[4, 64, 6]"
      ]
     },
     "execution_count": 33,
     "metadata": {},
     "output_type": "execute_result"
    }
   ],
   "source": [
    "base_list=[2,4,6]\n",
    "power_list=[2,3,1]\n",
    "list(map(lambda x,y:x**y,base_list,power_list))"
   ]
  },
  {
   "cell_type": "markdown",
   "id": "e8ee4dfc",
   "metadata": {},
   "source": [
    " ### Filter():\n",
    " \n",
    "- Filter is also a high order function \n",
    "- it gives the output after , if condition gets true"
   ]
  },
  {
   "cell_type": "code",
   "execution_count": 34,
   "id": "02890202",
   "metadata": {},
   "outputs": [
    {
     "data": {
      "text/plain": [
       "['apple', 'avacado']"
      ]
     },
     "execution_count": 34,
     "metadata": {},
     "output_type": "execute_result"
    }
   ],
   "source": [
    "list(filter(lambda s: s if s.startswith(\"a\") else \"\",l))"
   ]
  },
  {
   "cell_type": "code",
   "execution_count": 35,
   "id": "bdd9bfbe",
   "metadata": {},
   "outputs": [
    {
     "data": {
      "text/plain": [
       "[4, 9, 16]"
      ]
     },
     "execution_count": 35,
     "metadata": {},
     "output_type": "execute_result"
    }
   ],
   "source": [
    "l=[2,3,4]\n",
    "list(map(lambda s:s**2 ,l))"
   ]
  },
  {
   "cell_type": "code",
   "execution_count": 36,
   "id": "ae702537",
   "metadata": {},
   "outputs": [
    {
     "data": {
      "text/plain": [
       "[2, 3, 4]"
      ]
     },
     "execution_count": 36,
     "metadata": {},
     "output_type": "execute_result"
    }
   ],
   "source": [
    "l=[2,3,4]\n",
    "list(filter(lambda s:s**2 ,l))"
   ]
  },
  {
   "cell_type": "markdown",
   "id": "126e1fb4",
   "metadata": {},
   "source": [
    "### Reduce()\n",
    "- high order function\n",
    "- reduce function works differently than map() and filter().it does not return a new datastype list of tuple like a map and filter.it return communicative from"
   ]
  },
  {
   "cell_type": "code",
   "execution_count": 38,
   "id": "c687cf53",
   "metadata": {},
   "outputs": [
    {
     "data": {
      "text/plain": [
       "47"
      ]
     },
     "execution_count": 38,
     "metadata": {},
     "output_type": "execute_result"
    }
   ],
   "source": [
    "from functools import reduce\n",
    "li=[47,11,42,13]\n",
    "# Returns the sum of all the elements using `reduce`\n",
    "reduce(lambda a,b:a if a>b else b,li)"
   ]
  },
  {
   "cell_type": "code",
   "execution_count": 43,
   "id": "9f5dc333",
   "metadata": {},
   "outputs": [
    {
     "data": {
      "text/plain": [
       "113"
      ]
     },
     "execution_count": 43,
     "metadata": {},
     "output_type": "execute_result"
    }
   ],
   "source": [
    "li=[47,11,42,13]\n",
    "# Returns the sum of all the elements using `reduce`\n",
    "reduce(lambda a,b:a+b,li)"
   ]
  },
  {
   "cell_type": "code",
   "execution_count": null,
   "id": "f08ca74d",
   "metadata": {},
   "outputs": [],
   "source": []
  }
 ],
 "metadata": {
  "kernelspec": {
   "display_name": "Python 3 (ipykernel)",
   "language": "python",
   "name": "python3"
  },
  "language_info": {
   "codemirror_mode": {
    "name": "ipython",
    "version": 3
   },
   "file_extension": ".py",
   "mimetype": "text/x-python",
   "name": "python",
   "nbconvert_exporter": "python",
   "pygments_lexer": "ipython3",
   "version": "3.9.12"
  }
 },
 "nbformat": 4,
 "nbformat_minor": 5
}
