{
 "cells": [
  {
   "cell_type": "code",
   "execution_count": null,
   "id": "e329fb66",
   "metadata": {},
   "outputs": [],
   "source": [
    "a=2\n",
    "a"
   ]
  },
  {
   "cell_type": "markdown",
   "id": "3199f708",
   "metadata": {},
   "source": [
    "# my first program\n"
   ]
  },
  {
   "cell_type": "markdown",
   "id": "5bdcc6e4",
   "metadata": {},
   "source": [
    "## my first progam"
   ]
  },
  {
   "cell_type": "markdown",
   "id": "3e05627d",
   "metadata": {},
   "source": [
    "hi **ritika** how are you"
   ]
  },
  {
   "cell_type": "code",
   "execution_count": 1,
   "id": "a7d8e4e0",
   "metadata": {},
   "outputs": [
    {
     "name": "stdout",
     "output_type": "stream",
     "text": [
      "hello\n"
     ]
    }
   ],
   "source": [
    "print(\"hello\")"
   ]
  },
  {
   "cell_type": "code",
   "execution_count": 2,
   "id": "92593453",
   "metadata": {},
   "outputs": [
    {
     "name": "stdout",
     "output_type": "stream",
     "text": [
      "hello\n"
     ]
    }
   ],
   "source": [
    "print(\"hello\")"
   ]
  },
  {
   "cell_type": "markdown",
   "id": "dac256d6",
   "metadata": {},
   "source": [
    "# i am ritika"
   ]
  },
  {
   "cell_type": "code",
   "execution_count": null,
   "id": "cba849bb",
   "metadata": {},
   "outputs": [],
   "source": [
    "a=input (\"enter the number\")"
   ]
  },
  {
   "cell_type": "markdown",
   "id": "8d03a9d2",
   "metadata": {},
   "source": [
    "## i am ritika"
   ]
  },
  {
   "cell_type": "markdown",
   "id": "ea860d93",
   "metadata": {},
   "source": []
  },
  {
   "cell_type": "markdown",
   "id": "aaa9b150",
   "metadata": {},
   "source": []
  },
  {
   "cell_type": "code",
   "execution_count": null,
   "id": "b8a6f0c7",
   "metadata": {},
   "outputs": [],
   "source": []
  }
 ],
 "metadata": {
  "kernelspec": {
   "display_name": "Python 3 (ipykernel)",
   "language": "python",
   "name": "python3"
  },
  "language_info": {
   "codemirror_mode": {
    "name": "ipython",
    "version": 3
   },
   "file_extension": ".py",
   "mimetype": "text/x-python",
   "name": "python",
   "nbconvert_exporter": "python",
   "pygments_lexer": "ipython3",
   "version": "3.9.12"
  }
 },
 "nbformat": 4,
 "nbformat_minor": 5
}
