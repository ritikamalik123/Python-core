{
 "cells": [
  {
   "cell_type": "markdown",
   "id": "05e41e1f",
   "metadata": {},
   "source": [
    "# Wap to check the program the number is positive or negative or zero"
   ]
  },
  {
   "cell_type": "code",
   "execution_count": 1,
   "id": "e329a96e",
   "metadata": {},
   "outputs": [
    {
     "name": "stdout",
     "output_type": "stream",
     "text": [
      "Enter the number0\n",
      "it's zero\n"
     ]
    }
   ],
   "source": [
    "a=int(input(\"Enter the number\"))\n",
    "if a>0:\n",
    "    print(\"it's positive number\")\n",
    "elif a<0:\n",
    "    print(\"it's negative number\")\n",
    "else:\n",
    "    print(\"it's zero\")"
   ]
  },
  {
   "cell_type": "markdown",
   "id": "43dae634",
   "metadata": {},
   "source": [
    "# WAP to take a number from user and check if number is divisble by 7 or not, also check if it is divisble by 5 or not , and if the no is divisible by both 5 and 7 print as magic no'"
   ]
  },
  {
   "cell_type": "code",
   "execution_count": 2,
   "id": "3697a9e7",
   "metadata": {},
   "outputs": [
    {
     "name": "stdout",
     "output_type": "stream",
     "text": [
      "Enter the number78\n",
      "Invalid\n"
     ]
    }
   ],
   "source": [
    "a=int(input(\"Enter the number\"))\n",
    "if a%5==0 and a%7==0:\n",
    "    print(\"it's divisible by 5 and 7 both it's a magic no.\")\n",
    "elif a%5==0:\n",
    "    print(\"it's divisible by 5\")\n",
    "elif a%7==0:\n",
    "    print(\"it's divisible by 7\")\n",
    "else:\n",
    "    print(\"Invalid\")"
   ]
  },
  {
   "cell_type": "markdown",
   "id": "5acaf086",
   "metadata": {},
   "source": [
    "# WAP to check wether the entered number is odd or even if it is odd then also check it is divisble by 7 if it is divisble by 7 then compute its cube'''\n"
   ]
  },
  {
   "cell_type": "code",
   "execution_count": 3,
   "id": "a9a663c6",
   "metadata": {},
   "outputs": [
    {
     "name": "stdout",
     "output_type": "stream",
     "text": [
      "Enter the number66\n",
      "it is even number\n",
      "it's is not divisible by 7\n"
     ]
    }
   ],
   "source": [
    "a=int(input(\"Enter the number\"))\n",
    "if a%2==0:\n",
    "    print(\"it is even number\")\n",
    "    if a%7==0:\n",
    "        print(\"yes it is divisible by 7\")\n",
    "        b=a**3\n",
    "        print(b)\n",
    "    else:\n",
    "        print(\"it's is not divisible by 7\")\n",
    "else:\n",
    "    print(\"it's odd number\")"
   ]
  },
  {
   "cell_type": "markdown",
   "id": "77c93044",
   "metadata": {},
   "source": [
    "# write a program to take a username and password from the user and if it matches with 'pramod123' and '123456789'. welcome to the website else report invalid username and password"
   ]
  },
  {
   "cell_type": "code",
   "execution_count": 4,
   "id": "80f44879",
   "metadata": {},
   "outputs": [
    {
     "name": "stdout",
     "output_type": "stream",
     "text": [
      "Enter the user name90\n",
      "Enter the password89\n",
      "Invalid\n"
     ]
    }
   ],
   "source": [
    "a=str(input(\"Enter the user name\"))\n",
    "b=int(input(\"Enter the password\"))\n",
    "if a==\"pramod123\" and b==123456789:\n",
    "    print(\"Welcome to the website\")\n",
    "else:\n",
    "    print(\"Invalid\")"
   ]
  },
  {
   "cell_type": "markdown",
   "id": "06d8fe00",
   "metadata": {},
   "source": [
    "# . The given number is of one digited or two digited or three digited or more than three digited..\n",
    "# INPUT: 945 \n",
    "# OUTPUT: Three digit number\n"
   ]
  },
  {
   "cell_type": "code",
   "execution_count": 1,
   "id": "971ab3e4",
   "metadata": {},
   "outputs": [
    {
     "name": "stdout",
     "output_type": "stream",
     "text": [
      "Enter a value90\n",
      "it's two digit number\n"
     ]
    }
   ],
   "source": [
    "a=int(input(\"Enter a value\"))\n",
    "if a>0 and a<10:\n",
    "    print(\"it's one digit number\")\n",
    "elif a>=10 and a<100:\n",
    "    print(\"it's two digit number\")\n",
    "elif a>=100 and a<1000:\n",
    "    print(\"it's three digit number\")\n",
    "else:\n",
    "    print(\"invalid\")\n",
    "    "
   ]
  },
  {
   "cell_type": "markdown",
   "id": "2c946042",
   "metadata": {},
   "source": [
    "# Write a python program to take the three numbers as input and find the largest number.\n"
   ]
  },
  {
   "cell_type": "code",
   "execution_count": 10,
   "id": "cd73b509",
   "metadata": {},
   "outputs": [
    {
     "name": "stdout",
     "output_type": "stream",
     "text": [
      "Enter the number1  20\n",
      "Enter the number2  30\n",
      "Enter the number3  30\n",
      "num2 and num3 both are same and largest number\n"
     ]
    }
   ],
   "source": [
    "a=int(input(\"Enter the number1  \"))\n",
    "b=int(input(\"Enter the number2  \"))\n",
    "c=int(input(\"Enter the number3  \"))\n",
    "if a>b and a>c:\n",
    "    print(a ,\"is largest number\")\n",
    "elif b>c and b>a :\n",
    "    print(b , \"is lagest number\")\n",
    "elif c>a and c>b :\n",
    "    print(c ,\"is largest number\")\n",
    "elif a==b and a>c :\n",
    "    print(\"num1 and num2 both are same and largest number\")\n",
    "elif b==c and c>a :\n",
    "    print(\"num2 and num3 both are same and largest number\")\n",
    "elif c==a and a>b :\n",
    "    print(\"num1 and num3 both are same and largest number\")\n",
    "else:\n",
    "    print(\"all the numbers are same\")"
   ]
  },
  {
   "cell_type": "markdown",
   "id": "87312e4e",
   "metadata": {},
   "source": [
    "# Write a python  program that reads three positive numbers a, b, c and determines whether they can form the three sides of a triangle.\n",
    "# HINT: in triangle the sum of two side is greater than third side\n",
    "\n"
   ]
  },
  {
   "cell_type": "code",
   "execution_count": 2,
   "id": "bf7bf60c",
   "metadata": {},
   "outputs": [
    {
     "name": "stdout",
     "output_type": "stream",
     "text": [
      "Enter the side of triangle 3\n",
      "enter the side of triangle 9\n",
      "Enter the side of triangle 2\n",
      "it can form triangle\n"
     ]
    }
   ],
   "source": [
    "a=int(input(\"Enter the side of triangle \"))\n",
    "b=int(input(\"enter the side of triangle \"))\n",
    "c=int(input(\"Enter the side of triangle \"))\n",
    "if c<a+b:\n",
    "    print(\"it can form triangle\")\n",
    "elif a<b+c:\n",
    "    print(\"it can form triangle\")\n",
    "elif b<a+c:\n",
    "    print(\"it can form triangle\")\n",
    "else:\n",
    "    print(\"it can't form triangle\")"
   ]
  },
  {
   "cell_type": "markdown",
   "id": "1aa9a01f",
   "metadata": {},
   "source": [
    "\n",
    "# write a python to check  Whether the triangle will be an obtuse-angle, or a right-angle or an acute-angle triangle.\n",
    "# HINT: \n",
    "# In Right angle triangle the square of the length of the longest side of a triangle is equal to the sum of the squares of the other two sides \n",
    "\n",
    "# In Obtuse Triangle  the sum of the squares of the two shorter sides of a triangle is smaller than the square of the longest side, the triangle is obtuse.\n",
    "\n",
    "# In Acute angle triangle the sum of the squares of the two shorter sides of a triangle is greater than the square of the longest side, the triangle is acute\n",
    "\n"
   ]
  },
  {
   "cell_type": "code",
   "execution_count": 8,
   "id": "252e1d5b",
   "metadata": {},
   "outputs": [
    {
     "name": "stdout",
     "output_type": "stream",
     "text": [
      "enter the hypotenus of triangle5\n",
      "Enter the base of triangle4\n",
      "Enter the perpendicular of triangle3\n",
      "it is right angle triangle\n"
     ]
    }
   ],
   "source": [
    "a=int(input(\"enter the hypotenus of triangle\"))\n",
    "b=int(input(\"Enter the base of triangle\"))\n",
    "c=int(input(\"Enter the perpendicular of triangle\"))\n",
    "x=a**2\n",
    "y=b**2\n",
    "z=c**2\n",
    "if x==y+z :\n",
    "    print(\"it is right angle triangle\")\n",
    "elif x>y+z:\n",
    "    print(\"it is an obtuse triangle\")\n",
    "elif x<y+z:\n",
    "    print(\"it is an acute angle\")\n",
    "else:\n",
    "    print(\"invalid\")"
   ]
  },
  {
   "cell_type": "markdown",
   "id": "b59480de",
   "metadata": {},
   "source": [
    "# "
   ]
  },
  {
   "cell_type": "markdown",
   "id": "88682426",
   "metadata": {},
   "source": [
    "# Write a python program  to check the triangle , is equilateral, isosceles, or scalene.\n",
    "# HINT:\n",
    "# In Equilateral triangle all three sides are equal\n",
    "# In isosceles triangle any two side are equal\n",
    "# In scalene triangle all three side are unequal\n",
    "\n"
   ]
  },
  {
   "cell_type": "code",
   "execution_count": 13,
   "id": "4bc8162c",
   "metadata": {},
   "outputs": [
    {
     "name": "stdout",
     "output_type": "stream",
     "text": [
      "Enter the side of triangle3\n",
      "Enter the side of the triangle4\n",
      "Enter theside of the triangle 5\n",
      "scalene triangle\n"
     ]
    }
   ],
   "source": [
    "a=int(input(\"Enter the side of triangle\"))\n",
    "b=int(input(\"Enter the side of the triangle\"))\n",
    "c=int(input(\"Enter theside of the triangle \"))\n",
    "if a==b and b==c:\n",
    "    print(\"Enter it is equilateral triangle\")\n",
    "elif a==b or b==c or c==a:\n",
    "    print(\"it is isosles triangle\")\n",
    "elif a!=b and b!=c and c!=a:\n",
    "    print('scalene triangle')\n",
    "else:\n",
    "    print(\"invalid\")"
   ]
  },
  {
   "cell_type": "markdown",
   "id": "dcbf6478",
   "metadata": {},
   "source": [
    "# A toy vendor supplies three types of toys: Battery Based Toys, Key-based Toys, and Electrical Charging Based Toys. The vendor gives a discount of 10% on orders for battery-based toys if the order is for more than Rs. 1000. On orders of more than Rs. 100 for key-based toys, a discount of 5% is given, and a discount of 10% is given on orders for electrical charging based toys of value more than Rs. 500. Assume that the numeric codes 1,2 and 3 are used for battery based toys, key-based toys, and electrical charging based toys respectively. Write a program that reads the product code and the order amount and prints out the net amount that the customer is required to pay after the discount.\n"
   ]
  },
  {
   "cell_type": "code",
   "execution_count": 6,
   "id": "60a5dbb8",
   "metadata": {},
   "outputs": [
    {
     "name": "stdout",
     "output_type": "stream",
     "text": [
      "welcome to my shop \n",
      " press 1--------battery based \n",
      " press 2. --------key based \n",
      " press 3.--------electric based\n",
      "enter your choice1\n",
      "you choice battery based toy if you buy toy more than 1000 rs than you can get 10% off\n",
      "Enter your order amount5000\n",
      "500.0 after discount\n"
     ]
    }
   ],
   "source": [
    "print(\"welcome to my shop \\n press 1--------battery based \\n press 2. --------key based \\n press 3.--------electric based\")\n",
    "choice=input(\"enter your choice\")\n",
    "if choice==\"1\":\n",
    "    print(\"you choice battery based toy if you buy toy more than 1000 rs than you can get 10% off\")\n",
    "    order=int(input(\"Enter your order amount\"))\n",
    "    if order>1000:\n",
    "        amt=order*10/100\n",
    "        print(amt, \"after discount\")\n",
    "    else:\n",
    "        print(a)\n",
    "elif choice==\"2\":\n",
    "    print(\"you choice key based toy if you buy toy more than 100 rs than you get 5% off\")\n",
    "    if order>100:\n",
    "        amt=order*5/100\n",
    "        print(amt, \"after discount\")\n",
    "    else:\n",
    "        print(a)\n",
    "elif choice==\"3\":\n",
    "    print(\"you choice electrical based toy if you buy toy more than 100 rs than you get 5% off\")\n",
    "    if order>500:\n",
    "        amt=order*10/100\n",
    "        print(amt, \"after discount\")\n",
    "    else:\n",
    "            print(a)\n",
    "else:\n",
    "    print(\"invalid\")\n",
    "        \n",
    "    "
   ]
  },
  {
   "cell_type": "markdown",
   "id": "6a611153",
   "metadata": {},
   "source": [
    "#  A function f is defined as follows :\n",
    "     f(x)   =    ax3 – bx2 + cx –d,                  if x > k\n",
    "        f(x)          =    0,                                   if x = k\n",
    "        f(x)  =    -ax3 + bx2 – cx +d,                 if x < k"
   ]
  },
  {
   "cell_type": "code",
   "execution_count": 2,
   "id": "6042e349",
   "metadata": {},
   "outputs": [
    {
     "name": "stdout",
     "output_type": "stream",
     "text": [
      "enter the value of a9\n",
      "enter the value of b9\n",
      "enter the value of k7\n",
      "enter the value of c6\n",
      "enter the value of d8\n",
      "enter the value of x10\n",
      "8152\n"
     ]
    }
   ],
   "source": [
    "a=int(input(\"enter the value of a\"))\n",
    "b=int(input(\"enter the value of b\"))\n",
    "k=int(input(\"enter the value of k\"))\n",
    "c=int(input(\"enter the value of c\"))\n",
    "d=int(input(\"enter the value of d\"))\n",
    "x=int(input(\"enter the value of x\"))\n",
    "if x>k:\n",
    "    print(a*(x**3)-b*(x**2)+c*x-d)\n",
    "elif x==0:\n",
    "    print(\"0\")\n",
    "else:\n",
    "    print(-a*(x**3)+b*(x**2)-c*x+d)"
   ]
  },
  {
   "cell_type": "markdown",
   "id": "3f01177a",
   "metadata": {},
   "source": [
    "# 12. The Paschim Gujarat Vij Company Ltd. computes the electricity bill based on the following table:\n"
   ]
  },
  {
   "cell_type": "code",
   "execution_count": 11,
   "id": "ce9382fa",
   "metadata": {},
   "outputs": [
    {
     "name": "stdout",
     "output_type": "stream",
     "text": [
      "enter the previousn reading0\n",
      "enter the current reading90\n",
      "90\n",
      "45.0\n"
     ]
    }
   ],
   "source": [
    "a=int(input(\"enter the previousn reading\"))\n",
    "b=int(input(\"enter the current reading\"))\n",
    "c=b-a\n",
    "print(c)\n",
    "if(0<c<=100):\n",
    "    d=c*0.50\n",
    "    print(d)\n",
    "elif(100<c<=200):\n",
    "    d=c*50\n",
    "    print(d)\n",
    "elif(200<c<=300):\n",
    "    d=c*150\n",
    "    print(d)\n",
    "elif(c>300):\n",
    "    d=c*300\n",
    "    print(d)\n",
    "else:\n",
    "    print(\"invalid\")"
   ]
  },
  {
   "cell_type": "markdown",
   "id": "d71618d8",
   "metadata": {},
   "source": [
    "# Consider you have your own restaurant : three item choices  is there :\n",
    "1: pizza\n",
    "2:  burger\n",
    "3:  hotdog\n",
    "toppings available for pizza: paneer, mushrooms, and capsicum\n",
    "fillings avialable for burger and hot dog is  single layer cheeze and double layer cheese\n",
    "and side order menu is softdrinks\n",
    "WAP TO CALCULATE THE COST OF ITEM which user ordered BASED ON THE MENU OF RESTAURANT'''\n"
   ]
  },
  {
   "cell_type": "code",
   "execution_count": 8,
   "id": "d33f139a",
   "metadata": {},
   "outputs": [
    {
     "name": "stdout",
     "output_type": "stream",
     "text": [
      "welcome to the restaurant \n",
      " what you want to have \n",
      " 1.---pizza--200 \n",
      " 2.---burger--100 \n",
      " 3.---hotdog--80\n",
      "enter your choice2\n",
      "you want to have burgur \n",
      " how many layers do you want \n",
      " 1.single layer cheese--20 \n",
      "2.double layer cheese--50\n",
      "enter your choise2\n",
      "you want a burger with double layered cheese \n",
      " your total is  150\n",
      "Do you want to have coldrinks ? reply with y for yes and n for no :- \n",
      "y\n",
      "you want to have coldrinks \n",
      " which flavour do you want \n",
      "1.Coco cola --60\n",
      "2.sprite---50\n",
      "3.string---30\n",
      "pleasae select your choice : - \n",
      "1\n",
      "thanks for ordering coco cola your total amount is  210\n",
      "your order is now complete\n",
      "your total is 210\n"
     ]
    }
   ],
   "source": [
    "print(\"welcome to the restaurant \\n what you want to have \\n 1.---pizza--200 \\n 2.---burger--100 \\n 3.---hotdog--80\")\n",
    "total = 0;\n",
    "choise=input(\"enter your choice\")\n",
    "if choise==\"1\":\n",
    "    total = 200;\n",
    "    print(\"you want to have pizza \\n which kind off topings you want to have \\n 1.--paneer--50 \\n 2.---mushroom--30 \\n3.--capsicum--10\")\n",
    "    order=int(input(\"Enter your choise\"))\n",
    "    if order==1:\n",
    "        total+=50;\n",
    "        print(\"you want to have a pizza with paneer toping \\n your total is \" , total)\n",
    "    elif order==2:\n",
    "        total+=30;\n",
    "        print(\"you want to have a pizza with mushroom toping \\n your total is \" , total)\n",
    "    elif order==3:\n",
    "        total += 10;\n",
    "        print(\"you want to have a pizza with capsicum toping \\n your total is \" , total)\n",
    "    else:\n",
    "        print(\"this toping is not avilable\")\n",
    "elif choise==\"2\":\n",
    "    total = 100;\n",
    "    print(\"you want to have burgur \\n how many layers do you want \\n 1.single layer cheese--20 \\n2.double layer cheese--50\")\n",
    "    order=int(input(\"enter your choise\"))\n",
    "    if order==1:\n",
    "        total += 20;\n",
    "        print(\"you want a burger with single layered cheese \\n your total is \" , total)\n",
    "    elif order==2:\n",
    "        total += 50;\n",
    "        print(\"you want a burger with double layered cheese \\n your total is \" , total)\n",
    "    else:\n",
    "        print(\"invalid choice\")\n",
    "elif choise==\"3\":\n",
    "    total = 80;\n",
    "    print(\"you want to have hotdog \\n how many layers do you want \\n 1.single layer cheese--20 \\n2.double layer cheese--50\")\n",
    "    order=int(input(\"enter your choise\"))\n",
    "    if order==1:\n",
    "        total += 20;\n",
    "        print(\"you want a hotdog with single layered cheese \\n your total is \" , total)\n",
    "    elif order==2:\n",
    "        total += 50;\n",
    "        print(\"you want a hotdog with double layered cheese \\n your total is \" , total)\n",
    "    else:\n",
    "        print(\"invalid choice\")\n",
    "else:\n",
    "    print(\"invalid choice\")\n",
    "choice = input(\"Do you want to have coldrinks ? reply with y for yes and n for no :- \\n\")\n",
    "if choice == 'n':\n",
    "    print(\"thanks for order\")\n",
    "elif choice == 'y':\n",
    "    print(\"you want to have coldrinks \\n which flavour do you want \\n1.Coco cola --60\\n2.sprite---50\\n3.string---30\")\n",
    "    order = int(input(\"pleasae select your choice : - \\n\"))\n",
    "    if order ==1:\n",
    "      total += 60;\n",
    "      print(\"thanks for ordering coco cola your total amount is \", total);\n",
    "    elif order ==2:\n",
    "      total += 50;\n",
    "      print(\"thanks for ordering sprite your total amount is \", total);\n",
    "    elif order == 3:\n",
    "      total += 30;\n",
    "      print(\"thanks for ordering sting, your total amount is \", total)\n",
    "    else :\n",
    "      print(\"invalid choice\");\n",
    "print(\"your order is now complete\")\n",
    "print(\"your total is\" , total )"
   ]
  },
  {
   "cell_type": "code",
   "execution_count": null,
   "id": "d015aa42",
   "metadata": {},
   "outputs": [],
   "source": []
  },
  {
   "cell_type": "code",
   "execution_count": null,
   "id": "d40aed51",
   "metadata": {},
   "outputs": [],
   "source": []
  }
 ],
 "metadata": {
  "kernelspec": {
   "display_name": "Python 3 (ipykernel)",
   "language": "python",
   "name": "python3"
  },
  "language_info": {
   "codemirror_mode": {
    "name": "ipython",
    "version": 3
   },
   "file_extension": ".py",
   "mimetype": "text/x-python",
   "name": "python",
   "nbconvert_exporter": "python",
   "pygments_lexer": "ipython3",
   "version": "3.9.12"
  }
 },
 "nbformat": 4,
 "nbformat_minor": 5
}
