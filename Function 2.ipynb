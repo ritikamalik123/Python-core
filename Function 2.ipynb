{
 "cells": [
  {
   "cell_type": "markdown",
   "id": "8f30a98c",
   "metadata": {},
   "source": [
    "# Keywoad argument"
   ]
  },
  {
   "cell_type": "code",
   "execution_count": 1,
   "id": "b3263280",
   "metadata": {},
   "outputs": [
    {
     "name": "stdout",
     "output_type": "stream",
     "text": [
      "('first', 'Gs')\n",
      "('mid', 'for')\n",
      "('last', 'gs')\n",
      "('first', 'ban')\n",
      "('mid', 'ajtak')\n"
     ]
    }
   ],
   "source": [
    "def myfun(**kwargs):\n",
    "    for key, value in kwargs.items():\n",
    "        print((key,value))\n",
    "        \n",
    "        \n",
    "#drive code\n",
    "myfun(first='Gs',mid='for',last='gs')\n",
    "myfun(first='ban',mid='ajtak')"
   ]
  },
  {
   "cell_type": "code",
   "execution_count": 3,
   "id": "f6bcba77",
   "metadata": {},
   "outputs": [
    {
     "name": "stdout",
     "output_type": "stream",
     "text": [
      "('first', 'Gs')\n",
      "('mid', 'for')\n",
      "('last', 'gs')\n",
      "('first', 'ban')\n",
      "('mid', 'ajtak')\n"
     ]
    }
   ],
   "source": [
    "def myfun(**k):\n",
    "    for key, value in k.items():\n",
    "        print((key,value))\n",
    "        \n",
    "        \n",
    "#drive code\n",
    "myfun(first='Gs',mid='for',last='gs')\n",
    "myfun(first='ban',mid='ajtak')"
   ]
  },
  {
   "cell_type": "markdown",
   "id": "343f2831",
   "metadata": {},
   "source": [
    "## Scope and Lifetime of Variables in Python\n",
    "A variable isn’t visible everywhere and alive every time. We study this in functions because the scope and lifetime for a variable depend on whether it is inside a function.\n",
    "\n",
    "A variable’s scope tells us where in the program it is visible. A variable may have local or global scope.\n",
    "\n",
    "a) Local Scope- A variable that is declared inside a function has a local scope. In other words, it is local to that function. Local variables will only have their existence inside a function. Which means you cannot use a local variable outside a function.\n",
    "\n",
    "b) Global Scope-:\n",
    "\n",
    "When you declare a variable outside python function, or inside a function with global keyword then that variable will be called as global variable. It means that it is visible everywhere within the program. Global variable can be accessed inside a function or outside a function.\n",
    "\n",
    "note-: However, you can’t change its value from inside a local scope (here, inside a function). To do so, you must declare it global inside the function, using the ‘global’ keyword."
   ]
  },
  {
   "cell_type": "markdown",
   "id": "7d26c159",
   "metadata": {},
   "source": [
    "### Scope and Lifetime\n",
    "\n",
    "scope define area and region \n",
    " 1. #syntax\n",
    "        global b=4\n",
    "        def check()\n",
    "            a=2\n",
    "            print(a)\n",
    "        print(a)\n",
    "        \n",
    "# lifetime\n",
    "\n",
    "It stay in the memorey unless and untill u came out from the program\n",
    "\n",
    "2. #syntax  \n",
    "      a=20\n",
    "       def check():\n",
    "         b=3\n",
    "         print(\"b---------\",b)\n",
    "         print(\"a---------\",a)\n",
    "       check()\n",
    "       print(\"global a\",a)\n",
    "       print(\"global b\",b)"
   ]
  },
  {
   "cell_type": "code",
   "execution_count": 3,
   "id": "3aac8c9e",
   "metadata": {},
   "outputs": [
    {
     "name": "stdout",
     "output_type": "stream",
     "text": [
      "b----------- 3\n",
      "a----------- 20\n",
      "global a 20\n"
     ]
    }
   ],
   "source": [
    "a=20\n",
    "def check():\n",
    "    b=3\n",
    "    print(\"b-----------\",b)\n",
    "    print(\"a-----------\",a)\n",
    "check()\n",
    "print(\"global a\",a)\n"
   ]
  },
  {
   "cell_type": "code",
   "execution_count": 6,
   "id": "ffdac3fe",
   "metadata": {},
   "outputs": [
    {
     "name": "stdout",
     "output_type": "stream",
     "text": [
      "b----------- 3\n",
      "a----------- 5\n",
      "global a 20\n"
     ]
    }
   ],
   "source": [
    "a=20\n",
    "def check():\n",
    "    a=5\n",
    "    b=3\n",
    "    print(\"b-----------\",b)\n",
    "    print(\"a-----------\",a)\n",
    "check()\n",
    "print(\"global a\",a)\n"
   ]
  },
  {
   "cell_type": "code",
   "execution_count": 1,
   "id": "9d65284d",
   "metadata": {},
   "outputs": [
    {
     "name": "stdout",
     "output_type": "stream",
     "text": [
      "b----- 21\n"
     ]
    },
    {
     "ename": "NameError",
     "evalue": "name 'a' is not defined",
     "output_type": "error",
     "traceback": [
      "\u001b[1;31m---------------------------------------------------------------------------\u001b[0m",
      "\u001b[1;31mNameError\u001b[0m                                 Traceback (most recent call last)",
      "Input \u001b[1;32mIn [1]\u001b[0m, in \u001b[0;36m<cell line: 9>\u001b[1;34m()\u001b[0m\n\u001b[0;32m      7\u001b[0m     a\u001b[38;5;241m=\u001b[39m\u001b[38;5;241m3\u001b[39m\n\u001b[0;32m      8\u001b[0m     \u001b[38;5;28mprint\u001b[39m(\u001b[38;5;124m\"\u001b[39m\u001b[38;5;124ma-------\u001b[39m\u001b[38;5;124m\"\u001b[39m,a)\n\u001b[1;32m----> 9\u001b[0m \u001b[43mcheck\u001b[49m\u001b[43m(\u001b[49m\u001b[43m)\u001b[49m\n\u001b[0;32m     10\u001b[0m \u001b[38;5;28mprint\u001b[39m(\u001b[38;5;124m\"\u001b[39m\u001b[38;5;124mglobal \u001b[39m\u001b[38;5;124m\"\u001b[39m,a)\n",
      "Input \u001b[1;32mIn [1]\u001b[0m, in \u001b[0;36mcheck\u001b[1;34m()\u001b[0m\n\u001b[0;32m      4\u001b[0m \u001b[38;5;28;01mglobal\u001b[39;00m a\n\u001b[0;32m      5\u001b[0m \u001b[38;5;28mprint\u001b[39m(\u001b[38;5;124m\"\u001b[39m\u001b[38;5;124mb-----\u001b[39m\u001b[38;5;124m\"\u001b[39m,b)\n\u001b[1;32m----> 6\u001b[0m \u001b[38;5;28mprint\u001b[39m(\u001b[43ma\u001b[49m)\n\u001b[0;32m      7\u001b[0m a\u001b[38;5;241m=\u001b[39m\u001b[38;5;241m3\u001b[39m\n\u001b[0;32m      8\u001b[0m \u001b[38;5;28mprint\u001b[39m(\u001b[38;5;124m\"\u001b[39m\u001b[38;5;124ma-------\u001b[39m\u001b[38;5;124m\"\u001b[39m,a)\n",
      "\u001b[1;31mNameError\u001b[0m: name 'a' is not defined"
     ]
    }
   ],
   "source": [
    "b=20\n",
    "b=21\n",
    "def check():\n",
    "    global a\n",
    "    print(\"b-----\",b)\n",
    "    print(a)\n",
    "    a=3\n",
    "    print(\"a-------\",a)\n",
    "check()\n",
    "print(\"global \",a)"
   ]
  },
  {
   "cell_type": "code",
   "execution_count": 11,
   "id": "3e48894e",
   "metadata": {},
   "outputs": [
    {
     "name": "stdout",
     "output_type": "stream",
     "text": [
      "hello hi\n",
      "python is boring\n",
      "how are you \n",
      "data science\n"
     ]
    },
    {
     "data": {
      "text/plain": [
       "'how are you '"
      ]
     },
     "execution_count": 11,
     "metadata": {},
     "output_type": "execute_result"
    }
   ],
   "source": [
    "a=\"hello\"\n",
    "b=\"hi\"\n",
    "def madrid(aa,bb):\n",
    "    print(aa,bb)\n",
    "    aa=\"python is boring\"\n",
    "    print(aa)\n",
    "    a1=\"how are you \"\n",
    "    print(a1)\n",
    "    a=\"data science\"\n",
    "    print(a)\n",
    "    return a1\n",
    "madrid(a,b)\n"
   ]
  },
  {
   "cell_type": "code",
   "execution_count": 13,
   "id": "c3f5af22",
   "metadata": {},
   "outputs": [
    {
     "name": "stdout",
     "output_type": "stream",
     "text": [
      "hello hi\n",
      "python is boring\n",
      "how are you \n",
      "data science\n",
      "how are you \n",
      "hello hi\n"
     ]
    }
   ],
   "source": [
    "a=\"hello\"\n",
    "b=\"hi\"\n",
    "def madrid(aa,bb):\n",
    "    print(aa,bb)\n",
    "    aa=\"python is boring\"\n",
    "    print(aa)\n",
    "    a1=\"how are you \"\n",
    "    print(a1)\n",
    "    a=\"data science\"\n",
    "    print(a)\n",
    "    return a1\n",
    "k=madrid(a,b)\n",
    "print(k)\n",
    "print(a,b)"
   ]
  },
  {
   "cell_type": "code",
   "execution_count": 14,
   "id": "ea32ace0",
   "metadata": {},
   "outputs": [
    {
     "name": "stdout",
     "output_type": "stream",
     "text": [
      "hello hi\n",
      "python is boring\n",
      "how are you \n",
      "hello\n",
      "how are you \n",
      "data science hi\n"
     ]
    }
   ],
   "source": [
    "a=\"hello\"\n",
    "b=\"hi\"\n",
    "def madrid(aa,bb):\n",
    "    global a\n",
    "    print(aa,bb)\n",
    "    aa=\"python is boring\"\n",
    "    print(aa)\n",
    "    a1=\"how are you \"\n",
    "    print(a1)\n",
    "    print(a)\n",
    "    a=\"data science\"\n",
    "    return a1\n",
    "k=madrid(a,b)\n",
    "print(k)\n",
    "print(a,b)"
   ]
  },
  {
   "cell_type": "markdown",
   "id": "52b42e6b",
   "metadata": {},
   "source": [
    "# RECURSION\n",
    "## Why we need it ?? : reusability\n",
    "( do not need to write the code u can use ready made functionalities with the help of modulues like math .. in case of developing any computing app . you do not need to write your own code just import math and use its functions like pow,floor etc\n",
    "\n",
    "\n",
    "\n",
    "## A function is said to a recursive function if it calls itself."
   ]
  },
  {
   "cell_type": "code",
   "execution_count": 15,
   "id": "16b57ea0",
   "metadata": {},
   "outputs": [],
   "source": [
    "def fn():\n",
    "    #........\n",
    "    fn()\n",
    "    #........"
   ]
  },
  {
   "cell_type": "code",
   "execution_count": 1,
   "id": "4310702e",
   "metadata": {},
   "outputs": [
    {
     "name": "stdout",
     "output_type": "stream",
     "text": [
      "Enter the number4\n",
      "24\n"
     ]
    }
   ],
   "source": [
    "n=int(input(\"Enter the number\"))\n",
    "def factorial(num):\n",
    "    if num==1:\n",
    "        return 1\n",
    "    else:\n",
    "        return num*factorial(num-1)\n",
    "if n<0:\n",
    "    print(\"factorial does not exist\")\n",
    "elif n==0 or n==1:\n",
    "    print(\"factorial of 1\",1)\n",
    "else:\n",
    "    result=factorial(n)\n",
    "    print(result)\n",
    "    "
   ]
  },
  {
   "cell_type": "code",
   "execution_count": 6,
   "id": "c8ebfa21",
   "metadata": {},
   "outputs": [
    {
     "name": "stdout",
     "output_type": "stream",
     "text": [
      "Enter the number7\n",
      "7 6 5 4 3 2 1 "
     ]
    }
   ],
   "source": [
    "# take the value from the user you have to print reverse counting for using the resursion\n",
    "n=int(input(\"Enter the number\"))\n",
    "def reverse(num):\n",
    "    for i in range(num,0,-1):\n",
    "        print(i, end=\" \")\n",
    "reverse(n)"
   ]
  },
  {
   "cell_type": "markdown",
   "id": "9c2e32d4",
   "metadata": {},
   "source": [
    "# Modules : library/package which contains function definition ..\n",
    "Module is simply a .py file which contains set of functions to include in your applications\n",
    "\n",
    "1. math\n",
    "2. random\n",
    "3. time\n",
    "4. system"
   ]
  },
  {
   "cell_type": "code",
   "execution_count": 20,
   "id": "45400871",
   "metadata": {},
   "outputs": [
    {
     "data": {
      "text/plain": [
       "['__doc__',\n",
       " '__loader__',\n",
       " '__name__',\n",
       " '__package__',\n",
       " '__spec__',\n",
       " 'acos',\n",
       " 'acosh',\n",
       " 'asin',\n",
       " 'asinh',\n",
       " 'atan',\n",
       " 'atan2',\n",
       " 'atanh',\n",
       " 'ceil',\n",
       " 'comb',\n",
       " 'copysign',\n",
       " 'cos',\n",
       " 'cosh',\n",
       " 'degrees',\n",
       " 'dist',\n",
       " 'e',\n",
       " 'erf',\n",
       " 'erfc',\n",
       " 'exp',\n",
       " 'expm1',\n",
       " 'fabs',\n",
       " 'factorial',\n",
       " 'floor',\n",
       " 'fmod',\n",
       " 'frexp',\n",
       " 'fsum',\n",
       " 'gamma',\n",
       " 'gcd',\n",
       " 'hypot',\n",
       " 'inf',\n",
       " 'isclose',\n",
       " 'isfinite',\n",
       " 'isinf',\n",
       " 'isnan',\n",
       " 'isqrt',\n",
       " 'lcm',\n",
       " 'ldexp',\n",
       " 'lgamma',\n",
       " 'log',\n",
       " 'log10',\n",
       " 'log1p',\n",
       " 'log2',\n",
       " 'modf',\n",
       " 'nan',\n",
       " 'nextafter',\n",
       " 'perm',\n",
       " 'pi',\n",
       " 'pow',\n",
       " 'prod',\n",
       " 'radians',\n",
       " 'remainder',\n",
       " 'sin',\n",
       " 'sinh',\n",
       " 'sqrt',\n",
       " 'tan',\n",
       " 'tanh',\n",
       " 'tau',\n",
       " 'trunc',\n",
       " 'ulp']"
      ]
     },
     "execution_count": 20,
     "metadata": {},
     "output_type": "execute_result"
    }
   ],
   "source": [
    "dir(math)"
   ]
  },
  {
   "cell_type": "code",
   "execution_count": 29,
   "id": "a0df2bc7",
   "metadata": {},
   "outputs": [
    {
     "data": {
      "text/plain": [
       "2"
      ]
     },
     "execution_count": 29,
     "metadata": {},
     "output_type": "execute_result"
    }
   ],
   "source": [
    "math.floor(2.1)"
   ]
  },
  {
   "cell_type": "code",
   "execution_count": 25,
   "id": "bc795f40",
   "metadata": {},
   "outputs": [
    {
     "data": {
      "text/plain": [
       "6.283185307179586"
      ]
     },
     "execution_count": 25,
     "metadata": {},
     "output_type": "execute_result"
    }
   ],
   "source": [
    "math.pi*2"
   ]
  },
  {
   "cell_type": "code",
   "execution_count": 30,
   "id": "ffad0e89",
   "metadata": {},
   "outputs": [
    {
     "data": {
      "text/plain": [
       "3"
      ]
     },
     "execution_count": 30,
     "metadata": {},
     "output_type": "execute_result"
    }
   ],
   "source": [
    "math.ceil(2.5)"
   ]
  },
  {
   "cell_type": "code",
   "execution_count": 31,
   "id": "0910b810",
   "metadata": {},
   "outputs": [
    {
     "data": {
      "text/plain": [
       "-2"
      ]
     },
     "execution_count": 31,
     "metadata": {},
     "output_type": "execute_result"
    }
   ],
   "source": [
    "math.ceil(-2.1)"
   ]
  },
  {
   "cell_type": "code",
   "execution_count": 33,
   "id": "c232a54d",
   "metadata": {},
   "outputs": [
    {
     "data": {
      "text/plain": [
       "2"
      ]
     },
     "execution_count": 33,
     "metadata": {},
     "output_type": "execute_result"
    }
   ],
   "source": [
    "math.ceil(2)"
   ]
  },
  {
   "cell_type": "code",
   "execution_count": 37,
   "id": "556eb747",
   "metadata": {},
   "outputs": [
    {
     "data": {
      "text/plain": [
       "3"
      ]
     },
     "execution_count": 37,
     "metadata": {},
     "output_type": "execute_result"
    }
   ],
   "source": [
    "round(2.9561,)"
   ]
  },
  {
   "cell_type": "code",
   "execution_count": 39,
   "id": "4738bf6a",
   "metadata": {},
   "outputs": [
    {
     "data": {
      "text/plain": [
       "5040"
      ]
     },
     "execution_count": 39,
     "metadata": {},
     "output_type": "execute_result"
    }
   ],
   "source": [
    "math.factorial(7)"
   ]
  },
  {
   "cell_type": "code",
   "execution_count": 45,
   "id": "136fe2f6",
   "metadata": {},
   "outputs": [
    {
     "data": {
      "text/plain": [
       "94"
      ]
     },
     "execution_count": 45,
     "metadata": {},
     "output_type": "execute_result"
    }
   ],
   "source": [
    "import random\n",
    "random.randint(1,100)"
   ]
  },
  {
   "cell_type": "code",
   "execution_count": 50,
   "id": "92c472e5",
   "metadata": {},
   "outputs": [
    {
     "data": {
      "text/plain": [
       "[2, 4, 3, 5]"
      ]
     },
     "execution_count": 50,
     "metadata": {},
     "output_type": "execute_result"
    }
   ],
   "source": [
    "a=[2,3,4,5]\n",
    "random.shuffle(a)\n",
    "a"
   ]
  },
  {
   "cell_type": "code",
   "execution_count": 51,
   "id": "6020a2ae",
   "metadata": {},
   "outputs": [
    {
     "data": {
      "text/plain": [
       "1664267802.0314515"
      ]
     },
     "execution_count": 51,
     "metadata": {},
     "output_type": "execute_result"
    }
   ],
   "source": [
    "import time\n",
    "time.time()"
   ]
  },
  {
   "cell_type": "code",
   "execution_count": 52,
   "id": "3a6e0a73",
   "metadata": {},
   "outputs": [
    {
     "data": {
      "text/plain": [
       "'Tue Sep 27 14:07:15 2022'"
      ]
     },
     "execution_count": 52,
     "metadata": {},
     "output_type": "execute_result"
    }
   ],
   "source": [
    "time.ctime()"
   ]
  },
  {
   "cell_type": "code",
   "execution_count": 53,
   "id": "9eff5349",
   "metadata": {},
   "outputs": [
    {
     "data": {
      "text/plain": [
       "['_STRUCT_TM_ITEMS',\n",
       " '__doc__',\n",
       " '__loader__',\n",
       " '__name__',\n",
       " '__package__',\n",
       " '__spec__',\n",
       " 'altzone',\n",
       " 'asctime',\n",
       " 'ctime',\n",
       " 'daylight',\n",
       " 'get_clock_info',\n",
       " 'gmtime',\n",
       " 'localtime',\n",
       " 'mktime',\n",
       " 'monotonic',\n",
       " 'monotonic_ns',\n",
       " 'perf_counter',\n",
       " 'perf_counter_ns',\n",
       " 'process_time',\n",
       " 'process_time_ns',\n",
       " 'sleep',\n",
       " 'strftime',\n",
       " 'strptime',\n",
       " 'struct_time',\n",
       " 'thread_time',\n",
       " 'thread_time_ns',\n",
       " 'time',\n",
       " 'time_ns',\n",
       " 'timezone',\n",
       " 'tzname']"
      ]
     },
     "execution_count": 53,
     "metadata": {},
     "output_type": "execute_result"
    }
   ],
   "source": [
    "dir(time)"
   ]
  },
  {
   "cell_type": "code",
   "execution_count": 54,
   "id": "f6966934",
   "metadata": {},
   "outputs": [
    {
     "name": "stdout",
     "output_type": "stream",
     "text": [
      "hello\n",
      "hi\n"
     ]
    }
   ],
   "source": [
    "print(\"hello\")\n",
    "time.sleep(2)\n",
    "print(\"hi\")"
   ]
  },
  {
   "cell_type": "code",
   "execution_count": 55,
   "id": "a985222a",
   "metadata": {},
   "outputs": [
    {
     "data": {
      "text/plain": [
       "'C:\\\\Users\\\\Ritika\\\\python code'"
      ]
     },
     "execution_count": 55,
     "metadata": {},
     "output_type": "execute_result"
    }
   ],
   "source": [
    "import os\n",
    "os.getcwd()"
   ]
  },
  {
   "cell_type": "code",
   "execution_count": 56,
   "id": "93502d5b",
   "metadata": {},
   "outputs": [
    {
     "data": {
      "text/plain": [
       "['.ipynb_checkpoints',\n",
       " '10 th class.ipynb',\n",
       " '6th class.ipynb',\n",
       " '7 th class.ipynb',\n",
       " '9 th class.ipynb',\n",
       " 'fifth class.ipynb',\n",
       " 'first class.ipynb',\n",
       " 'for loop 8 th class.ipynb',\n",
       " 'fouth class.ipynb',\n",
       " 'Function class12.ipynb',\n",
       " 'Functions 11 class.ipynb',\n",
       " 'ritika assignment 1.ipynb',\n",
       " 'Ritika Assignment 2.ipynb',\n",
       " 'ritika assignment 3.ipynb',\n",
       " 'second class.ipynb',\n",
       " 'third class',\n",
       " 'third class.ipynb']"
      ]
     },
     "execution_count": 56,
     "metadata": {},
     "output_type": "execute_result"
    }
   ],
   "source": [
    "os.listdir()"
   ]
  },
  {
   "cell_type": "code",
   "execution_count": 1,
   "id": "134109cf",
   "metadata": {},
   "outputs": [],
   "source": [
    "def add(n1,n2):\n",
    "    '''this is for addition for two numbers'''\n",
    "    s=n1+n2\n",
    "    print(s)"
   ]
  },
  {
   "cell_type": "code",
   "execution_count": 2,
   "id": "a7544753",
   "metadata": {},
   "outputs": [
    {
     "ename": "TypeError",
     "evalue": "add() missing 2 required positional arguments: 'n1' and 'n2'",
     "output_type": "error",
     "traceback": [
      "\u001b[1;31m---------------------------------------------------------------------------\u001b[0m",
      "\u001b[1;31mTypeError\u001b[0m                                 Traceback (most recent call last)",
      "Input \u001b[1;32mIn [2]\u001b[0m, in \u001b[0;36m<cell line: 1>\u001b[1;34m()\u001b[0m\n\u001b[1;32m----> 1\u001b[0m \u001b[43madd\u001b[49m\u001b[43m(\u001b[49m\u001b[43m)\u001b[49m\n",
      "\u001b[1;31mTypeError\u001b[0m: add() missing 2 required positional arguments: 'n1' and 'n2'"
     ]
    }
   ],
   "source": [
    "add()\n"
   ]
  },
  {
   "cell_type": "code",
   "execution_count": 3,
   "id": "e24df8e3",
   "metadata": {},
   "outputs": [
    {
     "name": "stdout",
     "output_type": "stream",
     "text": [
      "this is for addition for two numbers\n"
     ]
    }
   ],
   "source": [
    "print(add.__doc__)"
   ]
  },
  {
   "cell_type": "code",
   "execution_count": null,
   "id": "9d7cac06",
   "metadata": {},
   "outputs": [],
   "source": []
  }
 ],
 "metadata": {
  "kernelspec": {
   "display_name": "Python 3 (ipykernel)",
   "language": "python",
   "name": "python3"
  },
  "language_info": {
   "codemirror_mode": {
    "name": "ipython",
    "version": 3
   },
   "file_extension": ".py",
   "mimetype": "text/x-python",
   "name": "python",
   "nbconvert_exporter": "python",
   "pygments_lexer": "ipython3",
   "version": "3.9.12"
  }
 },
 "nbformat": 4,
 "nbformat_minor": 5
}
