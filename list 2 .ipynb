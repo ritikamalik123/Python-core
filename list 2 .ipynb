{
 "cells": [
  {
   "cell_type": "code",
   "execution_count": 5,
   "id": "8d61e31e",
   "metadata": {},
   "outputs": [
    {
     "name": "stdout",
     "output_type": "stream",
     "text": [
      "[2, 4, 6, 8, 10]\n"
     ]
    }
   ],
   "source": [
    "# wap to print the even numbers between 1 to 10\n",
    "l=[]\n",
    "for i in range(1,11):\n",
    "    if i%2==0:\n",
    "        l.append(i)\n",
    "print(l)"
   ]
  },
  {
   "cell_type": "markdown",
   "id": "06f00865",
   "metadata": {},
   "source": [
    "### List Compressions"
   ]
  },
  {
   "cell_type": "code",
   "execution_count": 7,
   "id": "47f56c3e",
   "metadata": {},
   "outputs": [
    {
     "data": {
      "text/plain": [
       "['even', 'even', 'even', 'even', 'even']"
      ]
     },
     "execution_count": 7,
     "metadata": {},
     "output_type": "execute_result"
    }
   ],
   "source": [
    "[\"even\" for i in range(1,11) if i%2==0]"
   ]
  },
  {
   "cell_type": "code",
   "execution_count": 8,
   "id": "d818fbef",
   "metadata": {},
   "outputs": [
    {
     "data": {
      "text/plain": [
       "[2, 4, 6, 8, 10]"
      ]
     },
     "execution_count": 8,
     "metadata": {},
     "output_type": "execute_result"
    }
   ],
   "source": [
    "[i for i in range(1,11) if i%2==0]"
   ]
  },
  {
   "cell_type": "code",
   "execution_count": 10,
   "id": "b3891b60",
   "metadata": {},
   "outputs": [
    {
     "data": {
      "text/plain": [
       "['odd', 'even', 'odd', 'even', 'odd', 'even', 'odd', 'even', 'odd', 'even']"
      ]
     },
     "execution_count": 10,
     "metadata": {},
     "output_type": "execute_result"
    }
   ],
   "source": [
    "[\"even\" if i%2==0 else \"odd\" for i in range(1,11) ]"
   ]
  },
  {
   "cell_type": "code",
   "execution_count": 13,
   "id": "8f67e407",
   "metadata": {},
   "outputs": [
    {
     "data": {
      "text/plain": [
       "[1, 4, 9, 16, 25, 36, 49, 64, 81, 100]"
      ]
     },
     "execution_count": 13,
     "metadata": {},
     "output_type": "execute_result"
    }
   ],
   "source": [
    "l=[]\n",
    "for i in range(1,11):\n",
    "    i=i*i\n",
    "    l.append(i)\n",
    "l"
   ]
  },
  {
   "cell_type": "code",
   "execution_count": 12,
   "id": "aab2fcb4",
   "metadata": {},
   "outputs": [
    {
     "data": {
      "text/plain": [
       "[1, 4, 9, 16, 25, 36, 49, 64, 81, 100]"
      ]
     },
     "execution_count": 12,
     "metadata": {},
     "output_type": "execute_result"
    }
   ],
   "source": [
    "[i*i for i in range(1,11) ]"
   ]
  },
  {
   "cell_type": "markdown",
   "id": "ac1dee75",
   "metadata": {},
   "source": [
    "# zip"
   ]
  },
  {
   "cell_type": "code",
   "execution_count": 29,
   "id": "af0b2b05",
   "metadata": {},
   "outputs": [
    {
     "name": "stdout",
     "output_type": "stream",
     "text": [
      "['meet simran', 'meet asees', 'preet simran', 'preet asees']\n",
      "[' meet', ' meet simran', ' preet', ' preet asees']\n"
     ]
    }
   ],
   "source": [
    "'''l1=[\"meet\",\"preet\"]\n",
    "   l2=[\"simran\",\"asees\"]\n",
    "   1.output=[\"meet simran\",\"meet asees\",\"preet simran\",\"preet asees\"]\n",
    "   2. output: [\"meet simran\",\"preet asses\"]'''\n",
    "\n",
    "l=[]\n",
    "l1=[\"meet\",\"preet\",\"kitty\"]\n",
    "l2=[\"simran\",\"asees\"]\n",
    "for i in l1:\n",
    "    for j in l2:\n",
    "        l.append(i+\" \"+j)\n",
    "print(l)\n",
    "ll=[]\n",
    "\n",
    "l1=list(zip(l1,l2))\n",
    "for i in l1:\n",
    "    s=\"\"\n",
    "    for j in i:\n",
    "        s=s+\" \"+j\n",
    "        ll.append(s)\n",
    "print(ll)\n",
    "        "
   ]
  },
  {
   "cell_type": "code",
   "execution_count": 32,
   "id": "9e04f02b",
   "metadata": {},
   "outputs": [
    {
     "data": {
      "text/plain": [
       "[' meet', ' meet simran', ' preet', ' preet asees']"
      ]
     },
     "execution_count": 32,
     "metadata": {},
     "output_type": "execute_result"
    }
   ],
   "source": [
    "l1=[]\n",
    "for i in l1:\n",
    "    s=\" \"\n",
    "    for j in i:\n",
    "        s=s+\" \"+j\n",
    "        ll.append(s)\n",
    "ll"
   ]
  },
  {
   "cell_type": "code",
   "execution_count": 41,
   "id": "47e2fa79",
   "metadata": {},
   "outputs": [
    {
     "data": {
      "text/plain": [
       "(('meet', 'preet'), ('simran', 'asees'))"
      ]
     },
     "execution_count": 41,
     "metadata": {},
     "output_type": "execute_result"
    }
   ],
   "source": [
    "l1=[\"meet\",\"preet\",\"kitty\"]\n",
    "l2=[\"simran\",\"asees\"]\n",
    "l=(list(zip(l1,l2)))\n",
    "l\n",
    "a1,a2=list(zip(*l))\n",
    "a1,a2"
   ]
  },
  {
   "cell_type": "code",
   "execution_count": 1,
   "id": "9745cc23",
   "metadata": {},
   "outputs": [
    {
     "data": {
      "text/plain": [
       "[('meet', 'simran'), ('preet', 'asees')]"
      ]
     },
     "execution_count": 1,
     "metadata": {},
     "output_type": "execute_result"
    }
   ],
   "source": [
    "l1=[\"meet\",\"preet\",\"kitty\"]\n",
    "l2=[\"simran\",\"asees\"]\n",
    "l=list(zip(l1,l2))\n",
    "l"
   ]
  },
  {
   "cell_type": "code",
   "execution_count": 2,
   "id": "744166c5",
   "metadata": {},
   "outputs": [
    {
     "data": {
      "text/plain": [
       "(('meet', 'preet'), ('simran', 'asees'))"
      ]
     },
     "execution_count": 2,
     "metadata": {},
     "output_type": "execute_result"
    }
   ],
   "source": [
    "a1,a2=list(zip(*l))\n",
    "a1,a2"
   ]
  },
  {
   "cell_type": "code",
   "execution_count": 3,
   "id": "928702ba",
   "metadata": {},
   "outputs": [
    {
     "data": {
      "text/plain": [
       "['apple', 'advocado']"
      ]
     },
     "execution_count": 3,
     "metadata": {},
     "output_type": "execute_result"
    }
   ],
   "source": [
    "# wap to fetch those fruits which starts with \"a \" using list comprension\n",
    "fruits=[\"apple\",\"advocado\",\"kiwi\",\"cherry\"]\n",
    "[i for i in fruits if i.startswith(\"a\")]"
   ]
  },
  {
   "cell_type": "code",
   "execution_count": 46,
   "id": "0aee4ead",
   "metadata": {},
   "outputs": [
    {
     "name": "stdout",
     "output_type": "stream",
     "text": [
      "['hello', 2, 'hi', 'meet']\n"
     ]
    }
   ],
   "source": [
    "# wap to remove the dublecant element from the list\n",
    "\n",
    "l=[\"hello\",\"hello\",2,\"hi\",\"meet\",\"meet\"]\n",
    "u_l=[]\n",
    "for i in l:\n",
    "    if i not in u_l:\n",
    "        u_l.append(i)\n",
    "print(u_l)"
   ]
  },
  {
   "cell_type": "code",
   "execution_count": 47,
   "id": "beefe5c1",
   "metadata": {},
   "outputs": [
    {
     "data": {
      "text/plain": [
       "['a', 'brown', 'dog', 'fox', 'jumps', 'lazy', 'over', 'quick', 'the']"
      ]
     },
     "execution_count": 47,
     "metadata": {},
     "output_type": "execute_result"
    }
   ],
   "source": [
    "li=['a','quick','brown','fox','jumps','over','the','lazy','dog']\n",
    "'''task 1: sort the list alphabrtically\n",
    "task 2: count the occurances of each element in the list\n",
    "task 3:count the occurances of each present as element of list.'''\n",
    "\n",
    "\n",
    "\n",
    "sorted(li)"
   ]
  },
  {
   "cell_type": "code",
   "execution_count": 51,
   "id": "05fbe1c3",
   "metadata": {},
   "outputs": [
    {
     "name": "stdout",
     "output_type": "stream",
     "text": [
      "a --------------- 1\n",
      "quick --------------- 1\n",
      "brown --------------- 1\n",
      "fox --------------- 1\n",
      "jumps --------------- 1\n",
      "over --------------- 1\n",
      "the --------------- 1\n",
      "lazy --------------- 1\n",
      "dog --------------- 1\n"
     ]
    }
   ],
   "source": [
    "for i in li:\n",
    "    print(i,\"---------------\",li.count(i))"
   ]
  },
  {
   "cell_type": "code",
   "execution_count": 1,
   "id": "4d5ee7d6",
   "metadata": {},
   "outputs": [
    {
     "data": {
      "text/plain": [
       "['mehak', 'nikki', 'sana', 'sanju', 'tanu']"
      ]
     },
     "execution_count": 1,
     "metadata": {},
     "output_type": "execute_result"
    }
   ],
   "source": [
    "l=[\"tanu\",\"sana\",\"mehak\",\"nikki\",\"sanju\"]\n",
    "sorted(l)\n"
   ]
  },
  {
   "cell_type": "code",
   "execution_count": 52,
   "id": "706d5152",
   "metadata": {},
   "outputs": [
    {
     "name": "stdout",
     "output_type": "stream",
     "text": [
      "['a', 'q', 'u', 'i', 'c', 'k', 'b', 'r', 'o', 'w', 'n', 'f', 'o', 'x', 'j', 'u', 'm', 'p', 's', 'o', 'v', 'e', 'r', 't', 'h', 'e', 'l', 'a', 'z', 'y', 'd', 'o', 'g']\n"
     ]
    }
   ],
   "source": [
    "cl=[]\n",
    "for i in li:\n",
    "    for j in i:\n",
    "        cl.append(j)\n",
    "print(cl)"
   ]
  },
  {
   "cell_type": "code",
   "execution_count": 53,
   "id": "b3240504",
   "metadata": {},
   "outputs": [
    {
     "name": "stdout",
     "output_type": "stream",
     "text": [
      "a -------------------------- 2\n",
      "q -------------------------- 1\n",
      "u -------------------------- 2\n",
      "i -------------------------- 1\n",
      "c -------------------------- 1\n",
      "k -------------------------- 1\n",
      "b -------------------------- 1\n",
      "r -------------------------- 2\n",
      "o -------------------------- 4\n",
      "w -------------------------- 1\n",
      "n -------------------------- 1\n",
      "f -------------------------- 1\n",
      "o -------------------------- 4\n",
      "x -------------------------- 1\n",
      "j -------------------------- 1\n",
      "u -------------------------- 2\n",
      "m -------------------------- 1\n",
      "p -------------------------- 1\n",
      "s -------------------------- 1\n",
      "o -------------------------- 4\n",
      "v -------------------------- 1\n",
      "e -------------------------- 2\n",
      "r -------------------------- 2\n",
      "t -------------------------- 1\n",
      "h -------------------------- 1\n",
      "e -------------------------- 2\n",
      "l -------------------------- 1\n",
      "a -------------------------- 2\n",
      "z -------------------------- 1\n",
      "y -------------------------- 1\n",
      "d -------------------------- 1\n",
      "o -------------------------- 4\n",
      "g -------------------------- 1\n"
     ]
    }
   ],
   "source": [
    "for k in cl:\n",
    "    print(k,'--------------------------',cl.count(k))"
   ]
  },
  {
   "cell_type": "code",
   "execution_count": 57,
   "id": "e5ba05d7",
   "metadata": {},
   "outputs": [
    {
     "data": {
      "text/plain": [
       "Counter({'a': 2,\n",
       "         'q': 1,\n",
       "         'u': 2,\n",
       "         'i': 1,\n",
       "         'c': 1,\n",
       "         'k': 1,\n",
       "         'b': 1,\n",
       "         'r': 2,\n",
       "         'o': 4,\n",
       "         'w': 1,\n",
       "         'n': 1,\n",
       "         'f': 1,\n",
       "         'x': 1,\n",
       "         'j': 1,\n",
       "         'm': 1,\n",
       "         'p': 1,\n",
       "         's': 1,\n",
       "         'v': 1,\n",
       "         'e': 2,\n",
       "         't': 1,\n",
       "         'h': 1,\n",
       "         'l': 1,\n",
       "         'z': 1,\n",
       "         'y': 1,\n",
       "         'd': 1,\n",
       "         'g': 1})"
      ]
     },
     "execution_count": 57,
     "metadata": {},
     "output_type": "execute_result"
    }
   ],
   "source": [
    "from collections import Counter\n",
    "Counter(cl)"
   ]
  },
  {
   "cell_type": "code",
   "execution_count": 59,
   "id": "8dd4fc57",
   "metadata": {},
   "outputs": [
    {
     "name": "stdout",
     "output_type": "stream",
     "text": [
      "['a', 'q', 'u', 'i', 'c', 'k', 'b', 'r', 'o', 'w', 'n', 'f', 'x', 'j', 'm', 'p', 's', 'v', 'e', 't', 'h', 'l', 'z', 'y', 'd', 'g']\n"
     ]
    }
   ],
   "source": [
    "# count the district elements\n",
    "p=[]\n",
    "for i in cl:\n",
    "    if i not in p:\n",
    "        p.append(i)\n",
    "print(p)\n"
   ]
  },
  {
   "cell_type": "code",
   "execution_count": 62,
   "id": "43c2abb6",
   "metadata": {},
   "outputs": [
    {
     "data": {
      "text/plain": [
       "26"
      ]
     },
     "execution_count": 62,
     "metadata": {},
     "output_type": "execute_result"
    }
   ],
   "source": [
    "len(p)"
   ]
  },
  {
   "cell_type": "code",
   "execution_count": 1,
   "id": "9dfd22b1",
   "metadata": {},
   "outputs": [
    {
     "name": "stdout",
     "output_type": "stream",
     "text": [
      "['862', '880', '4000']\n"
     ]
    }
   ],
   "source": [
    "# wap to print all the numbers in a list whose all digits are div by 2 and the range is 100-400\n",
    "l=[234,678,990,862,880,4000]\n",
    "ll=[]\n",
    "for i in l:\n",
    "    count=0\n",
    "    i=str(i)\n",
    "    li=len(i)\n",
    "    for j in i:\n",
    "        j=int(j)\n",
    "        if j%2==0:\n",
    "            count=count+1 \n",
    "    if count==li:\n",
    "        ll.append(i)\n",
    "print(ll)\n",
    "        \n",
    "            \n"
   ]
  },
  {
   "cell_type": "markdown",
   "id": "9085ae73",
   "metadata": {},
   "source": [
    "- take a list from the user and also take the element which is used to searched in the list form the user as well and display wether the element is present or not .if it is present then display its location as well.\n",
    "- wap to display the smallest and largest element in the list\n",
    "- original list=[[1,3],[5,7],[9,11]]\n",
    "                 [2,4],[6,8],[10,11,12]\n",
    "                 "
   ]
  },
  {
   "cell_type": "code",
   "execution_count": 12,
   "id": "344ea043",
   "metadata": {},
   "outputs": [
    {
     "ename": "NameError",
     "evalue": "name 'st1' is not defined",
     "output_type": "error",
     "traceback": [
      "\u001b[1;31m---------------------------------------------------------------------------\u001b[0m",
      "\u001b[1;31mNameError\u001b[0m                                 Traceback (most recent call last)",
      "Input \u001b[1;32mIn [12]\u001b[0m, in \u001b[0;36m<cell line: 1>\u001b[1;34m()\u001b[0m\n\u001b[1;32m----> 1\u001b[0m l\u001b[38;5;241m=\u001b[39m[[\u001b[43mst1\u001b[49m,[age,gender],old\u001b[38;5;241m/\u001b[39myoung]]\n",
      "\u001b[1;31mNameError\u001b[0m: name 'st1' is not defined"
     ]
    }
   ],
   "source": [
    "l=[[st1,[age,gender],old/young]]"
   ]
  },
  {
   "cell_type": "code",
   "execution_count": 2,
   "id": "bf4981af",
   "metadata": {},
   "outputs": [
    {
     "name": "stdout",
     "output_type": "stream",
     "text": [
      "Enter the number of student2\n",
      "Enter the studentriya\n",
      "Enter the age 20\n",
      "Enter the genderfemale\n",
      "Enter the studenttanu\n",
      "Enter the age 30\n",
      "Enter the genderfemale\n",
      "[['riya', [20, 'female'], 'young'], ['tanu', [30, 'female'], 'young']]\n"
     ]
    }
   ],
   "source": [
    "outer_list=[]\n",
    "n=int(input(\"Enter the number of student\"))\n",
    "for i in range(0,n):\n",
    "    ag=[]\n",
    "    st=[]\n",
    "    name=input(\"Enter the student\")\n",
    "    age=int(input(\"Enter the age \"))\n",
    "    gender=input(\"Enter the gender\")\n",
    "    if age>40:\n",
    "        status=\"old\"\n",
    "    else:\n",
    "        status=\"young\"\n",
    "    ag.append(age)\n",
    "    ag.append(gender)\n",
    "    st.append(name)\n",
    "    st.append(ag)\n",
    "    st.append(status)\n",
    "    outer_list.append(st)\n",
    "print(outer_list)"
   ]
  },
  {
   "cell_type": "code",
   "execution_count": 10,
   "id": "b4cb1cad",
   "metadata": {},
   "outputs": [
    {
     "name": "stdout",
     "output_type": "stream",
     "text": [
      "Enter the number1\n",
      "Enter the number2\n",
      "Enter the number3\n",
      "Enter the number4\n",
      "Enter the number5\n",
      "Enter the number6\n",
      "Enter the number7\n",
      "Enter the number8\n",
      "Enter the number9\n",
      "Enter the number11\n",
      "[1, 2, 3, 4, 5, 6, 7, 8, 9, 11]\n",
      "Enter the number to be searched11\n",
      "the element is present\n",
      "Position of the number 9\n"
     ]
    }
   ],
   "source": [
    "l=[]\n",
    "for i in range(1,11):\n",
    "    i=int(input(\"Enter the number\"))\n",
    "    l.append(i)\n",
    "print(l)\n",
    "element=int(input(\"Enter the number to be searched\"))\n",
    "if element in l: \n",
    "    print(\"the element is present\")\n",
    "else:\n",
    "    print(\"the element is not present\")\n",
    "\n",
    "print(\"Position of the number\", l.index(element))"
   ]
  }
 ],
 "metadata": {
  "kernelspec": {
   "display_name": "Python 3 (ipykernel)",
   "language": "python",
   "name": "python3"
  },
  "language_info": {
   "codemirror_mode": {
    "name": "ipython",
    "version": 3
   },
   "file_extension": ".py",
   "mimetype": "text/x-python",
   "name": "python",
   "nbconvert_exporter": "python",
   "pygments_lexer": "ipython3",
   "version": "3.9.12"
  }
 },
 "nbformat": 4,
 "nbformat_minor": 5
}
