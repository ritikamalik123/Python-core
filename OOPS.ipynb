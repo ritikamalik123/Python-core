{
 "cells": [
  {
   "cell_type": "markdown",
   "id": "194b62f9",
   "metadata": {},
   "source": [
    "## Object Oriented programming"
   ]
  },
  {
   "cell_type": "markdown",
   "id": "7fd0bb4a",
   "metadata": {},
   "source": [
    "Object-oriented programming is a **programming paradigm** that provides a means of structuring programs so that properties and behaviours are bundled into individual objects. \n",
    "\n",
    "For instance, an object could represent a person with properties like a name, age, and address and behaviours such as walking, talking, breathing, and running. Or it could represent an email with properties like a recipient list, subject, and body and behaviours like adding attachments and sending.\n",
    "\n",
    "Python is an object-oriented programming language. Almost everything in Python is an object, with its properties and methods."
   ]
  },
  {
   "cell_type": "markdown",
   "id": "3d241f2d",
   "metadata": {},
   "source": [
    "### Why to Choose ObjectOriented Programming?\n",
    "Python was designed with an object-oriented approach. OOP offers the following advantages:\n",
    "- Provides a clear program structure, which makes it easy to map real world problems\n",
    "and their solutions.\n",
    "\n",
    "\n",
    "- Facilitates easy maintenance and modification of existing code.\n",
    "\n",
    "\n",
    "- Enhances program modularity because each object exists independently and new\n",
    "features can be added easily without disturbing the existing ones.\n",
    "\n",
    "-  Presents a good framework for code libraries where supplied components can be\n",
    "easily adapted and modified by the programmer.\n",
    "\n",
    "\n",
    "-  Imparts code reusability(creating neat and reusable code instead of a redundant one.)\n"
   ]
  },
  {
   "cell_type": "markdown",
   "id": "4097bda8",
   "metadata": {},
   "source": [
    "## Four Pillars of OOPS\n",
    "1. Encapsulation\n",
    "2. Inheritance\n",
    "3. Polymorphism\n",
    "4. Abstraction"
   ]
  },
  {
   "cell_type": "markdown",
   "id": "8bb73e0d",
   "metadata": {},
   "source": [
    "Class defines the blueprint of the objects. And defines how object looks and defines the properties of the object"
   ]
  },
  {
   "cell_type": "markdown",
   "id": "600dbc82",
   "metadata": {},
   "source": [
    "Syntax\n",
    "Class,Person (convention: first word of the name to be in caps)"
   ]
  },
  {
   "cell_type": "markdown",
   "id": "de180f8c",
   "metadata": {},
   "source": [
    "1. Instance variable: Object properties\n",
    "2. Methods: Object behaviour"
   ]
  },
  {
   "cell_type": "code",
   "execution_count": 1,
   "id": "e4529137",
   "metadata": {},
   "outputs": [],
   "source": [
    "class Animal:\n",
    "    country=\"india\"\n",
    "    def __init__(self,name,color,age,category):\n",
    "        print(\"i am in the constructor\")\n",
    "        self.a_name=name\n",
    "        self.a_color=color\n",
    "        self.a_age=age\n",
    "        self.a_category=category\n",
    "    def sleeping(self):\n",
    "        print(self.a_name, \"is sleeping\")\n",
    "    def animal_details(self):\n",
    "        print(\"animal name is: \", self.a_name)\n",
    "        print(\"animal color is: \", self.a_color)\n",
    "        print(\"animal age is: \", self.a_age)\n",
    "        print(\"animal category is: \", self.a_category)\n",
    "        "
   ]
  },
  {
   "cell_type": "code",
   "execution_count": null,
   "id": "be3156f9",
   "metadata": {},
   "outputs": [],
   "source": [
    "type(Animal())"
   ]
  },
  {
   "cell_type": "code",
   "execution_count": 2,
   "id": "0236e246",
   "metadata": {},
   "outputs": [
    {
     "name": "stdout",
     "output_type": "stream",
     "text": [
      "i am in the constructor\n"
     ]
    },
    {
     "data": {
      "text/plain": [
       "<__main__.Animal at 0x1b9bb7f4760>"
      ]
     },
     "execution_count": 2,
     "metadata": {},
     "output_type": "execute_result"
    }
   ],
   "source": [
    "A1=Animal(\"dollar\",\"white\",5,\"pet\")\n",
    "A1"
   ]
  },
  {
   "cell_type": "code",
   "execution_count": 3,
   "id": "21bfb719",
   "metadata": {},
   "outputs": [
    {
     "name": "stdout",
     "output_type": "stream",
     "text": [
      "i am in the constructor\n"
     ]
    },
    {
     "data": {
      "text/plain": [
       "<__main__.Animal at 0x1b9bb7f4910>"
      ]
     },
     "execution_count": 3,
     "metadata": {},
     "output_type": "execute_result"
    }
   ],
   "source": [
    "A2=Animal(\"euro\",\"brown\",10,\"pet\")\n",
    "A2"
   ]
  },
  {
   "cell_type": "code",
   "execution_count": 4,
   "id": "9fed6f1d",
   "metadata": {},
   "outputs": [
    {
     "name": "stdout",
     "output_type": "stream",
     "text": [
      "animal name is:  euro\n",
      "animal color is:  brown\n",
      "animal age is:  10\n",
      "animal category is:  pet\n"
     ]
    },
    {
     "data": {
      "text/plain": [
       "'euro'"
      ]
     },
     "execution_count": 4,
     "metadata": {},
     "output_type": "execute_result"
    }
   ],
   "source": [
    "A2.animal_details()\n",
    "A2.a_name"
   ]
  },
  {
   "cell_type": "code",
   "execution_count": 5,
   "id": "1d06ac4c",
   "metadata": {},
   "outputs": [
    {
     "data": {
      "text/plain": [
       "<__main__.Animal at 0x1b9bb7f4910>"
      ]
     },
     "execution_count": 5,
     "metadata": {},
     "output_type": "execute_result"
    }
   ],
   "source": [
    "A2"
   ]
  },
  {
   "cell_type": "code",
   "execution_count": 6,
   "id": "8e27812f",
   "metadata": {},
   "outputs": [
    {
     "name": "stdout",
     "output_type": "stream",
     "text": [
      "i am in the constructor\n"
     ]
    }
   ],
   "source": [
    "A2=Animal(\"euro\",\"brown\",10,\"pet\")"
   ]
  },
  {
   "cell_type": "code",
   "execution_count": null,
   "id": "cb44f5c6",
   "metadata": {},
   "outputs": [],
   "source": [
    "for i in range(1,6):\n",
    "    l=input(\"enter the animal name: \")\n",
    "    l1=input(\"enter the animal color: \")\n",
    "    l2=int(input(\"enter the animal age: \"))\n",
    "    l3=input(\"enter the animal category: \")\n",
    "    x=Animal(l,l1,l2,l3)\n",
    "    print(x.animal_details())\n",
    "    \n",
    "    pass"
   ]
  },
  {
   "cell_type": "code",
   "execution_count": null,
   "id": "55c60248",
   "metadata": {},
   "outputs": [],
   "source": [
    "l=[1,2,3,45,65]\n",
    "print(type(l))\n",
    "l."
   ]
  },
  {
   "cell_type": "code",
   "execution_count": 7,
   "id": "408fb991",
   "metadata": {},
   "outputs": [],
   "source": [
    "class Bank:\n",
    "    def __init__(self):\n",
    "        self.balance=10000\n",
    "        self.withdraw=0\n",
    "        self.deposit=0\n",
    "        print(\"Welcome to HDFC\\n 1:Withdraw \\n 2:deposit\\n 3:Check balance\")\n",
    "        ch=input(\"enter your choice: \")\n",
    "        if ch==\"1\":\n",
    "            self.Withdraw1\n",
    "        elif ch==\"2\":\n",
    "            self.deposit1\n",
    "        elif ch==\"3\":\n",
    "            self.checkbalance1\n",
    "        else:\n",
    "            print(\"invalid choice\")\n",
    "    \n",
    "    \n",
    "    def Withdraw1(self):\n",
    "        amt=int(input(\"Enter to amt to be withdrawn: \"))\n",
    "        if self.balance>=amt:\n",
    "            print(\"withdrawal successful\")\n",
    "            self.balance=self.balance-self.withdraw\n",
    "            print(self.check_balance1)\n",
    "        else:\n",
    "            print(\"insufficient funds\")\n",
    "            \n",
    "    def deposit1(self):\n",
    "        amt=int(input(\"Enter to amt to be deposited: \"))\n",
    "        self.balance=self.balance+amt\n",
    "        print(self.balance)\n",
    "        print(\"deposition successful\")\n",
    "        \n",
    "    def check_balance1(self):\n",
    "        print(\"the balance is\",self.balance)\n",
    "        \n",
    "        "
   ]
  },
  {
   "cell_type": "code",
   "execution_count": 11,
   "id": "a6086c41",
   "metadata": {},
   "outputs": [
    {
     "name": "stdout",
     "output_type": "stream",
     "text": [
      "Welcome to HDFC\n",
      " 1:Withdraw \n",
      " 2:deposit\n",
      " 3:Check balance\n",
      "enter your choice: 2\n"
     ]
    },
    {
     "data": {
      "text/plain": [
       "<__main__.Bank at 0x1b9bb8395b0>"
      ]
     },
     "execution_count": 11,
     "metadata": {},
     "output_type": "execute_result"
    }
   ],
   "source": [
    "hdfc=Bank()\n",
    "hdfc"
   ]
  },
  {
   "cell_type": "code",
   "execution_count": 12,
   "id": "de1422c6",
   "metadata": {},
   "outputs": [
    {
     "data": {
      "text/plain": [
       "<bound method Bank.deposit1 of <__main__.Bank object at 0x000001B9BB8395B0>>"
      ]
     },
     "execution_count": 12,
     "metadata": {},
     "output_type": "execute_result"
    }
   ],
   "source": [
    "hdfc.deposit1"
   ]
  },
  {
   "cell_type": "code",
   "execution_count": 13,
   "id": "f94aa93f",
   "metadata": {},
   "outputs": [
    {
     "data": {
      "text/plain": [
       "<bound method Bank.deposit1 of <__main__.Bank object at 0x000001B9BB8395B0>>"
      ]
     },
     "execution_count": 13,
     "metadata": {},
     "output_type": "execute_result"
    }
   ],
   "source": [
    "hdfc.deposit1"
   ]
  },
  {
   "cell_type": "code",
   "execution_count": 16,
   "id": "e342138c",
   "metadata": {},
   "outputs": [],
   "source": [
    "class Bank:\n",
    "    def __init__(self):\n",
    "        self.balance=10000\n",
    "        self.withdraw=0\n",
    "        self.deposit=0\n",
    "        print(\"Welcome to HDFC\\n 1:Withdraw \\n2:deposit\\n 3:Check balance\")\n",
    "        ch=input(\"enter your choice: \")\n",
    "        if ch==\"1\":\n",
    "            self.Withdraw1\n",
    "        elif ch==\"2\":\n",
    "            self.deposit1\n",
    "        elif ch==\"3\":\n",
    "            self.checkbalance1\n",
    "        else:\n",
    "            print(\"invalid choice\")\n",
    "    \n",
    "    \n",
    "    def Withdraw1(self):\n",
    "        amt=int(input(\"Enter to amt to be withdrawn: \"))\n",
    "        if self.balance>=amt:\n",
    "            print(\"withdrawal successful\")\n",
    "            self.balance=self.balance-self.withdraw\n",
    "            print(self.check_balance1)\n",
    "        else:\n",
    "            print(\"insufficient funds\")\n",
    "            \n",
    "    def deposit1(self):\n",
    "        amt=int(input(\"Enter to amt to be deposited: \"))\n",
    "        self.balance=self.balance+amt\n",
    "        print(self.balance)\n",
    "        print(\"deposition successful\")"
   ]
  },
  {
   "cell_type": "markdown",
   "id": "d0c129c1",
   "metadata": {},
   "source": [
    "### understanding self : why every methods use as parameter ?\n",
    "here,self means current object"
   ]
  },
  {
   "cell_type": "code",
   "execution_count": 17,
   "id": "2851eb09",
   "metadata": {},
   "outputs": [
    {
     "name": "stdout",
     "output_type": "stream",
     "text": [
      "1897226540944\n",
      "1897226539168\n",
      "1897226540944\n",
      "1897226539168\n"
     ]
    }
   ],
   "source": [
    "class student:  ##class name pascalname\n",
    "    studentsclass=\"A\"\n",
    "    def __init__(self,name,age):\n",
    "        self.name=name\n",
    "        self.age=age\n",
    "        print(id(self))\n",
    "    def get_age(self):\n",
    "        print(self.age)\n",
    "s1=student(\"priya\",45)\n",
    "s2=student(\"riya\",50)\n",
    "print(id(s1))\n",
    "print(id(s2))"
   ]
  },
  {
   "cell_type": "code",
   "execution_count": 19,
   "id": "dda4b11c",
   "metadata": {},
   "outputs": [],
   "source": [
    "class ola:\n",
    "    def __init__(self,loc,t):\n",
    "        self.location=loc\n",
    "        self.driver_no=123234494043\n",
    "        self.__driver_commission=10000  ## DATA HIDING\n",
    "        self.type=t\n",
    "    def details(self):\n",
    "        print(\"the car type is\",self.type)\n",
    "        print(\"the location is\",self.location)\n",
    "        print(\"the driver number is \",self.driver_no)#print(\"the driver commison  is \",self.__driver_commission)"
   ]
  },
  {
   "cell_type": "code",
   "execution_count": 20,
   "id": "438089f6",
   "metadata": {},
   "outputs": [
    {
     "name": "stdout",
     "output_type": "stream",
     "text": [
      "enter the car typebrezza\n",
      "enter the locationsaket\n"
     ]
    }
   ],
   "source": [
    "t1=input(\"enter the car type\")\n",
    "l=input(\"enter the location\")\n",
    "ola1=ola(l,t1)"
   ]
  },
  {
   "cell_type": "code",
   "execution_count": 21,
   "id": "edbfdf6f",
   "metadata": {},
   "outputs": [
    {
     "name": "stdout",
     "output_type": "stream",
     "text": [
      "the car type is maruti\n",
      "the location is saket\n",
      "the driver number is  123234494043\n"
     ]
    }
   ],
   "source": [
    "ola1.type=\"maruti\"\n",
    "ola1.details()"
   ]
  },
  {
   "cell_type": "code",
   "execution_count": 22,
   "id": "0a353f6d",
   "metadata": {},
   "outputs": [
    {
     "data": {
      "text/plain": [
       "10000"
      ]
     },
     "execution_count": 22,
     "metadata": {},
     "output_type": "execute_result"
    }
   ],
   "source": [
    "ola1._ola__driver_commission"
   ]
  },
  {
   "cell_type": "code",
   "execution_count": 23,
   "id": "6519d1ba",
   "metadata": {},
   "outputs": [],
   "source": [
    "#single inheritance\n",
    "\n",
    "\n",
    "class father:\n",
    "    def profession(self):\n",
    "        print(\"I am business man\")\n",
    "    height=\"6 feet\"\n",
    "    \n",
    "class son(father): ##single inheritance\n",
    "    def profession(self):\n",
    "        super().profession()\n",
    "        print(\"I am engineer\")\n",
    "    def dancing(self):\n",
    "        print(\"I am good at dancing\")"
   ]
  },
  {
   "cell_type": "code",
   "execution_count": 24,
   "id": "b1170de2",
   "metadata": {},
   "outputs": [
    {
     "name": "stdout",
     "output_type": "stream",
     "text": [
      "I am business man\n",
      "I am engineer\n"
     ]
    }
   ],
   "source": [
    "s1=son()\n",
    "s1.profession()"
   ]
  },
  {
   "cell_type": "code",
   "execution_count": 25,
   "id": "011de7fa",
   "metadata": {},
   "outputs": [],
   "source": [
    "#dry \"don't repeat your self\" + optimlity"
   ]
  },
  {
   "cell_type": "code",
   "execution_count": 26,
   "id": "ee18f7d0",
   "metadata": {},
   "outputs": [],
   "source": [
    "class student:\n",
    "    def __init__(self,name,cname,ph,city):\n",
    "        self.name=name\n",
    "        self.cname=cname\n",
    "        self.ph=ph\n",
    "        self._fees=\"50k\"\n",
    "        self.__city=city\n",
    "    def review(self):\n",
    "        print(\"good\")\n",
    "class Trainer(student):\n",
    "    salary=\"10lpa\"\n",
    "    def teaching(self):\n",
    "        print(\"data science\")\n",
    "    def get_details(self):\n",
    "        print(\"student name\",self.name)\n",
    "        print(\"student cource name\",self.cname)  \n",
    "        print(\"student phone number\",self.ph)\n",
    "        #print(\"student city\",self.__city)\n",
    "        print(\"student fees\",self._fees)\n"
   ]
  },
  {
   "cell_type": "markdown",
   "id": "da9ea11a",
   "metadata": {},
   "source": [
    "Trainer() # when there is no constructer in child class then the constructor or parent class work.It means the constructor of child class \n",
    "is inheriterd by the parent class\n",
    "\n",
    "\n",
    "#private member can't be inherited\n"
   ]
  },
  {
   "cell_type": "code",
   "execution_count": 30,
   "id": "1edb06d4",
   "metadata": {},
   "outputs": [
    {
     "name": "stdout",
     "output_type": "stream",
     "text": [
      "student name ritika\n",
      "student cource name ds\n",
      "student phone number 9711862075\n",
      "student fees 50k\n"
     ]
    }
   ],
   "source": [
    "t1=Trainer(\"ritika\",\"ds\",\"9711862075\",\"saket\")\n",
    "t1.get_details()"
   ]
  },
  {
   "cell_type": "code",
   "execution_count": 31,
   "id": "c7b5e191",
   "metadata": {},
   "outputs": [
    {
     "data": {
      "text/plain": [
       "'50k'"
      ]
     },
     "execution_count": 31,
     "metadata": {},
     "output_type": "execute_result"
    }
   ],
   "source": [
    "t1._fees"
   ]
  },
  {
   "cell_type": "markdown",
   "id": "fd113719",
   "metadata": {},
   "source": [
    "What child inherits?\n",
    "- data members/data methods\n",
    "- protected membered"
   ]
  },
  {
   "cell_type": "markdown",
   "id": "322f0ee7",
   "metadata": {},
   "source": [
    "What child not inherits?\n",
    "- private propertes"
   ]
  },
  {
   "cell_type": "markdown",
   "id": "c3d0daeb",
   "metadata": {},
   "source": [
    "# Heirarichal"
   ]
  },
  {
   "cell_type": "code",
   "execution_count": 3,
   "id": "fc38c8b3",
   "metadata": {},
   "outputs": [],
   "source": [
    "class User:\n",
    "    def attendance(self):\n",
    "        print(\"attendance\")\n",
    "    def login(self):\n",
    "        print(\"login successfully\")\n",
    "    def registration(self):\n",
    "        print(\"registration\")\n",
    "class Student(User):\n",
    "    def enroll(self):\n",
    "        print(\"enrolled\")\n",
    "    def review(self):\n",
    "        print(\"review\")\n",
    "class Trainer(User):\n",
    "    def teaching(self):\n",
    "        print(\"teaching done\")\n"
   ]
  },
  {
   "cell_type": "code",
   "execution_count": 4,
   "id": "488c3cd7",
   "metadata": {},
   "outputs": [
    {
     "data": {
      "text/plain": [
       "<__main__.Student at 0x172de325c40>"
      ]
     },
     "execution_count": 4,
     "metadata": {},
     "output_type": "execute_result"
    }
   ],
   "source": [
    "a=Student()\n",
    "a"
   ]
  },
  {
   "cell_type": "code",
   "execution_count": 5,
   "id": "ce4ae9f3",
   "metadata": {},
   "outputs": [
    {
     "data": {
      "text/plain": [
       "<__main__.Trainer at 0x172de325dc0>"
      ]
     },
     "execution_count": 5,
     "metadata": {},
     "output_type": "execute_result"
    }
   ],
   "source": [
    "b=Trainer()\n",
    "b."
   ]
  },
  {
   "cell_type": "code",
   "execution_count": 6,
   "id": "cea2e6c8",
   "metadata": {},
   "outputs": [
    {
     "name": "stdout",
     "output_type": "stream",
     "text": [
      "Help on module __main__:\n",
      "\n",
      "NAME\n",
      "    __main__ - Automatically created module for IPython interactive environment\n",
      "\n",
      "CLASSES\n",
      "    builtins.object\n",
      "        User\n",
      "            Student\n",
      "            Trainer\n",
      "    \n",
      "    class Student(User)\n",
      "     |  Method resolution order:\n",
      "     |      Student\n",
      "     |      User\n",
      "     |      builtins.object\n",
      "     |  \n",
      "     |  Methods defined here:\n",
      "     |  \n",
      "     |  enroll(self)\n",
      "     |  \n",
      "     |  review(self)\n",
      "     |  \n",
      "     |  ----------------------------------------------------------------------\n",
      "     |  Methods inherited from User:\n",
      "     |  \n",
      "     |  attendance(self)\n",
      "     |  \n",
      "     |  login(self)\n",
      "     |  \n",
      "     |  registration(self)\n",
      "     |  \n",
      "     |  ----------------------------------------------------------------------\n",
      "     |  Data descriptors inherited from User:\n",
      "     |  \n",
      "     |  __dict__\n",
      "     |      dictionary for instance variables (if defined)\n",
      "     |  \n",
      "     |  __weakref__\n",
      "     |      list of weak references to the object (if defined)\n",
      "    \n",
      "    class Trainer(User)\n",
      "     |  Method resolution order:\n",
      "     |      Trainer\n",
      "     |      User\n",
      "     |      builtins.object\n",
      "     |  \n",
      "     |  Methods defined here:\n",
      "     |  \n",
      "     |  teaching(self)\n",
      "     |  \n",
      "     |  ----------------------------------------------------------------------\n",
      "     |  Methods inherited from User:\n",
      "     |  \n",
      "     |  attendance(self)\n",
      "     |  \n",
      "     |  login(self)\n",
      "     |  \n",
      "     |  registration(self)\n",
      "     |  \n",
      "     |  ----------------------------------------------------------------------\n",
      "     |  Data descriptors inherited from User:\n",
      "     |  \n",
      "     |  __dict__\n",
      "     |      dictionary for instance variables (if defined)\n",
      "     |  \n",
      "     |  __weakref__\n",
      "     |      list of weak references to the object (if defined)\n",
      "    \n",
      "    class User(builtins.object)\n",
      "     |  Methods defined here:\n",
      "     |  \n",
      "     |  attendance(self)\n",
      "     |  \n",
      "     |  login(self)\n",
      "     |  \n",
      "     |  registration(self)\n",
      "     |  \n",
      "     |  ----------------------------------------------------------------------\n",
      "     |  Data descriptors defined here:\n",
      "     |  \n",
      "     |  __dict__\n",
      "     |      dictionary for instance variables (if defined)\n",
      "     |  \n",
      "     |  __weakref__\n",
      "     |      list of weak references to the object (if defined)\n",
      "\n",
      "DATA\n",
      "    In = ['', 'class user:\\n    def attendence(self):\\n        pr...ef tea...\n",
      "    Out = {4: <__main__.Student object>, 5: <__main__.Trainer object>}\n",
      "    __ = <__main__.Student object>\n",
      "    ___ = ''\n",
      "    a = <__main__.Student object>\n",
      "    b = <__main__.Trainer object>\n",
      "    exit = <IPython.core.autocall.ZMQExitAutocall object>\n",
      "    quit = <IPython.core.autocall.ZMQExitAutocall object>\n",
      "\n",
      "FILE\n",
      "    (built-in)\n",
      "\n",
      "\n"
     ]
    }
   ],
   "source": [
    "import __main__\n",
    "help (__main__)"
   ]
  },
  {
   "cell_type": "markdown",
   "id": "79f779a0",
   "metadata": {},
   "source": [
    "# Multiple Inheritence"
   ]
  },
  {
   "cell_type": "markdown",
   "id": "9a2662f3",
   "metadata": {},
   "source": [
    "MRO (Method Resolution Order)"
   ]
  },
  {
   "cell_type": "code",
   "execution_count": 10,
   "id": "337dc9c4",
   "metadata": {},
   "outputs": [
    {
     "name": "stdout",
     "output_type": "stream",
     "text": [
      "buying smartphone\n"
     ]
    }
   ],
   "source": [
    "class phone:\n",
    "    def buy(self):\n",
    "        print(\"buying phone\")\n",
    "class smartphone:\n",
    "    def buy(self):\n",
    "        print(\"buying smartphone\")\n",
    "class smartwatch(smartphone,phone): ### smartwatch inherits buy method from both parent but method is same so based on MRO(METHOD RESOLUTION ORDER ) METHOD OF THAT CLASS IS OVER RIDDEN \n",
    "\n",
    "    pass\n",
    "s=smartwatch()\n",
    "s.buy()"
   ]
  },
  {
   "cell_type": "markdown",
   "id": "1b8ca102",
   "metadata": {},
   "source": [
    "# Polymorphism"
   ]
  },
  {
   "cell_type": "markdown",
   "id": "76800dec",
   "metadata": {},
   "source": [
    "They are two kinds of Polymorphism\n",
    "- Overloading: \n",
    "    - Two or more with different signatures(it is not 100% applicable in python)\n",
    "- Overriding:\n",
    "    - Replacing "
   ]
  },
  {
   "cell_type": "markdown",
   "id": "270d1ad4",
   "metadata": {},
   "source": [
    "## Data Abstraction"
   ]
  },
  {
   "cell_type": "code",
   "execution_count": 11,
   "id": "29e31be5",
   "metadata": {},
   "outputs": [],
   "source": [
    "from abc import ABC, abstractmethod\n",
    "class Animal(ABC): ## absttact class atleat one abstract method\n",
    "    def sleep(self): ## concrete/normal method\n",
    "        print(\"i am going to sleep in while\")\n",
    "    @abstractmethod   # decorator\n",
    "    def sound(self):  ## abstract method  whose implementation needs to be given by child class.\n",
    "        pass\n",
    "class Dog(Animal):\n",
    "    def sound(self):   ## implementation\n",
    "        print(\"i can bark\")\n",
    "class cat(Animal):\n",
    "    def sound(Self):\n",
    "        print(\" i can mewo\")\n"
   ]
  },
  {
   "cell_type": "code",
   "execution_count": 15,
   "id": "481c3372",
   "metadata": {},
   "outputs": [
    {
     "name": "stdout",
     "output_type": "stream",
     "text": [
      "i can bark\n"
     ]
    }
   ],
   "source": [
    "d=Dog()\n",
    "d.sound()"
   ]
  },
  {
   "cell_type": "code",
   "execution_count": 16,
   "id": "84616afe",
   "metadata": {},
   "outputs": [
    {
     "name": "stdout",
     "output_type": "stream",
     "text": [
      "i am going to sleep in while\n"
     ]
    }
   ],
   "source": [
    "c=cat()\n",
    "c.sleep()"
   ]
  },
  {
   "cell_type": "code",
   "execution_count": null,
   "id": "da276689",
   "metadata": {},
   "outputs": [],
   "source": []
  }
 ],
 "metadata": {
  "kernelspec": {
   "display_name": "Python 3 (ipykernel)",
   "language": "python",
   "name": "python3"
  },
  "language_info": {
   "codemirror_mode": {
    "name": "ipython",
    "version": 3
   },
   "file_extension": ".py",
   "mimetype": "text/x-python",
   "name": "python",
   "nbconvert_exporter": "python",
   "pygments_lexer": "ipython3",
   "version": "3.9.12"
  }
 },
 "nbformat": 4,
 "nbformat_minor": 5
}
