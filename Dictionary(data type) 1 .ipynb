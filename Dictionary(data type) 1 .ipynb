{
 "cells": [
  {
   "cell_type": "markdown",
   "id": "dd78bf9f",
   "metadata": {},
   "source": [
    "## Dictionary Data type"
   ]
  },
  {
   "cell_type": "markdown",
   "id": "31069981",
   "metadata": {},
   "source": [
    "### What is Dictionary?\n",
    "Dictionary is an unordered and  non-homogeneous  data structure  which stores element as key value pairs. \n",
    "\n",
    "\n",
    "Use {} curly brackets to construct the dictionary, and [] square brackets to index it. Separate the key and\n",
    "value with colons: and with commas, between each pair. Dictionaries are mutable, which means\n",
    "they can be changed.\n",
    "Creating a Dictionary\n",
    "In Python, a Dictionary can be created by placing a sequence of elements within curly {} braces,\n",
    "separated by ‘comma’. Dictionary holds pairs of values, one being the Key and the other\n",
    "corresponding pair element being its Key:value. Values in a dictionary can be of any data type\n",
    "and can be duplicated, whereas keys can’t be repeated and must be immutable.\n",
    "Note – Dictionary keys are case sensitive, the same name but different cases of Key will be\n",
    "treated distinctly.\n"
   ]
  },
  {
   "cell_type": "markdown",
   "id": "5e08af3c",
   "metadata": {},
   "source": [
    "### Dictionary Properties\n",
    "1. Dictionary has no indexing\n",
    "2. dictionary is mutable\n",
    "3. keys are immutable\n",
    "4. Values can be mutable\n",
    "5. Keys should be unique\n",
    "\n",
    "\n",
    "\n",
    "\n",
    "## How to create dictionary\n"
   ]
  },
  {
   "cell_type": "code",
   "execution_count": 1,
   "id": "35d578d5",
   "metadata": {},
   "outputs": [
    {
     "data": {
      "text/plain": [
       "dict"
      ]
     },
     "execution_count": 1,
     "metadata": {},
     "output_type": "execute_result"
    }
   ],
   "source": [
    "d={}\n",
    "type(d)"
   ]
  },
  {
   "cell_type": "code",
   "execution_count": 2,
   "id": "2cd43800",
   "metadata": {},
   "outputs": [
    {
     "data": {
      "text/plain": [
       "{}"
      ]
     },
     "execution_count": 2,
     "metadata": {},
     "output_type": "execute_result"
    }
   ],
   "source": [
    "### empty dict\n",
    "d={}\n",
    "d"
   ]
  },
  {
   "cell_type": "code",
   "execution_count": 4,
   "id": "05b8479b",
   "metadata": {},
   "outputs": [
    {
     "data": {
      "text/plain": [
       "{1: ' one', 2: 'two', 3: 'three'}"
      ]
     },
     "execution_count": 4,
     "metadata": {},
     "output_type": "execute_result"
    }
   ],
   "source": [
    "d={1:\" one\",2: \"two\",3:\"three\"}\n",
    "d"
   ]
  },
  {
   "cell_type": "code",
   "execution_count": 10,
   "id": "0e90f904",
   "metadata": {},
   "outputs": [
    {
     "ename": "TypeError",
     "evalue": "unhashable type: 'list'",
     "output_type": "error",
     "traceback": [
      "\u001b[1;31m---------------------------------------------------------------------------\u001b[0m",
      "\u001b[1;31mTypeError\u001b[0m                                 Traceback (most recent call last)",
      "Input \u001b[1;32mIn [10]\u001b[0m, in \u001b[0;36m<cell line: 2>\u001b[1;34m()\u001b[0m\n\u001b[0;32m      1\u001b[0m \u001b[38;5;66;03m# keys should be immutable\u001b[39;00m\n\u001b[1;32m----> 2\u001b[0m d\u001b[38;5;241m=\u001b[39m{[\u001b[38;5;241m1\u001b[39m,\u001b[38;5;241m2\u001b[39m,\u001b[38;5;241m3\u001b[39m]:\u001b[38;5;124m\"\u001b[39m\u001b[38;5;124mhello\u001b[39m\u001b[38;5;124m\"\u001b[39m}\n",
      "\u001b[1;31mTypeError\u001b[0m: unhashable type: 'list'"
     ]
    }
   ],
   "source": [
    "# keys should be immutable\n",
    "d={[1,2,3]:\"hello\"}"
   ]
  },
  {
   "cell_type": "code",
   "execution_count": 8,
   "id": "7bda6fff",
   "metadata": {},
   "outputs": [
    {
     "data": {
      "text/plain": [
       "{'key': 'three elements', 2.8: 'float', 'data': [12, 34, 56]}"
      ]
     },
     "execution_count": 8,
     "metadata": {},
     "output_type": "execute_result"
    }
   ],
   "source": [
    "d={\"key\":\"three elements\",2.8:\"float\",\"data\":[12,34,56]}\n",
    "d"
   ]
  },
  {
   "cell_type": "code",
   "execution_count": 9,
   "id": "e35e8d5f",
   "metadata": {},
   "outputs": [
    {
     "data": {
      "text/plain": [
       "3"
      ]
     },
     "execution_count": 9,
     "metadata": {},
     "output_type": "execute_result"
    }
   ],
   "source": [
    "len(d)"
   ]
  },
  {
   "cell_type": "markdown",
   "id": "5e8ea941",
   "metadata": {},
   "source": [
    "# How to acess the value ?? Use key as index"
   ]
  },
  {
   "cell_type": "code",
   "execution_count": 15,
   "id": "017f4984",
   "metadata": {},
   "outputs": [
    {
     "data": {
      "text/plain": [
       "'lazy'"
      ]
     },
     "execution_count": 15,
     "metadata": {},
     "output_type": "execute_result"
    }
   ],
   "source": [
    "di={0:\"a\",1:\"quick\",2:\"brown\",3:\"fox\",4:\"jump\",5:\"over\",6:\"a\",7:\"lazy\",8:\"dog\"}\n",
    "di[7]"
   ]
  },
  {
   "cell_type": "code",
   "execution_count": 14,
   "id": "dd43d649",
   "metadata": {},
   "outputs": [
    {
     "data": {
      "text/plain": [
       "{0: 'a',\n",
       " 1: 'quick',\n",
       " 2: 'brown',\n",
       " 3: 'fox',\n",
       " 4: 'jump',\n",
       " 5: 'over',\n",
       " 6: 'a',\n",
       " 7: 'lazy',\n",
       " 8: 'dog',\n",
       " 'hello': 'This is hello word'}"
      ]
     },
     "execution_count": 14,
     "metadata": {},
     "output_type": "execute_result"
    }
   ],
   "source": [
    "di={0:\"a\",1:\"quick\",2:\"brown\",3:\"fox\",4:\"jump\",5:\"over\",6:\"a\",7:\"lazy\",8:\"dog\"}\n",
    "di[\"hello\"]=\"This is hello word\"\n",
    "di"
   ]
  },
  {
   "cell_type": "code",
   "execution_count": 19,
   "id": "06860ffa",
   "metadata": {},
   "outputs": [
    {
     "name": "stdout",
     "output_type": "stream",
     "text": [
      "Enter the number of student 2\n",
      "Enter the student nameritika\n",
      "Enter the student nameriya\n",
      "Enter the student namerishi\n"
     ]
    },
    {
     "data": {
      "text/plain": [
       "{0: 'ritika', 1: 'riya', 2: 'rishi'}"
      ]
     },
     "execution_count": 19,
     "metadata": {},
     "output_type": "execute_result"
    }
   ],
   "source": [
    "di={}\n",
    "n=int(input(\"Enter the number of student \" ))\n",
    "for i in range(0,n+1):\n",
    "    di[i]=input(\"Enter the student name \")\n",
    "di"
   ]
  },
  {
   "cell_type": "code",
   "execution_count": 1,
   "id": "cfca6d59",
   "metadata": {},
   "outputs": [
    {
     "name": "stdout",
     "output_type": "stream",
     "text": [
      "Enter the number of the student 2\n",
      "Enter the student rohit\n",
      "Enter the phone number 8010111485\n",
      "Enter the gender male\n",
      "Enter the student riya\n",
      "Enter the phone number 98987978767\n",
      "Enter the gender female\n"
     ]
    },
    {
     "data": {
      "text/plain": [
       "{1: ['rohit', 8010111485, 'male'], 2: ['riya', 98987978767, 'female']}"
      ]
     },
     "execution_count": 1,
     "metadata": {},
     "output_type": "execute_result"
    }
   ],
   "source": [
    "# q1. [1:[name,ph,gender]2:[]]\n",
    "#q2. range(2,10){2:4,3:9.........}\n",
    "\n",
    "d={}\n",
    "n=int(input(\"Enter the number of the student \"))\n",
    "for i in range(1,n+1):\n",
    "    ag=[]\n",
    "    name=input(\"Enter the student \")\n",
    "    ph=int(input(\"Enter the phone number \"))\n",
    "    gender=input(\"Enter the gender \")\n",
    "    ag.append(name)\n",
    "    ag.append(ph)\n",
    "    ag.append(gender)\n",
    "    d[i]=ag\n",
    "d\n",
    "    \n",
    "    "
   ]
  },
  {
   "cell_type": "code",
   "execution_count": 21,
   "id": "40c74f01",
   "metadata": {},
   "outputs": [
    {
     "data": {
      "text/plain": [
       "{2: 4, 3: 9, 4: 16, 5: 25, 6: 36, 7: 49, 8: 64, 9: 81}"
      ]
     },
     "execution_count": 21,
     "metadata": {},
     "output_type": "execute_result"
    }
   ],
   "source": [
    "s={}\n",
    "for i in range(2,10):\n",
    "    s[i]=i**2\n",
    "s"
   ]
  },
  {
   "cell_type": "code",
   "execution_count": 22,
   "id": "5c75f59d",
   "metadata": {},
   "outputs": [
    {
     "data": {
      "text/plain": [
       "['__class__',\n",
       " '__class_getitem__',\n",
       " '__contains__',\n",
       " '__delattr__',\n",
       " '__delitem__',\n",
       " '__dir__',\n",
       " '__doc__',\n",
       " '__eq__',\n",
       " '__format__',\n",
       " '__ge__',\n",
       " '__getattribute__',\n",
       " '__getitem__',\n",
       " '__gt__',\n",
       " '__hash__',\n",
       " '__init__',\n",
       " '__init_subclass__',\n",
       " '__ior__',\n",
       " '__iter__',\n",
       " '__le__',\n",
       " '__len__',\n",
       " '__lt__',\n",
       " '__ne__',\n",
       " '__new__',\n",
       " '__or__',\n",
       " '__reduce__',\n",
       " '__reduce_ex__',\n",
       " '__repr__',\n",
       " '__reversed__',\n",
       " '__ror__',\n",
       " '__setattr__',\n",
       " '__setitem__',\n",
       " '__sizeof__',\n",
       " '__str__',\n",
       " '__subclasshook__',\n",
       " 'clear',\n",
       " 'copy',\n",
       " 'fromkeys',\n",
       " 'get',\n",
       " 'items',\n",
       " 'keys',\n",
       " 'pop',\n",
       " 'popitem',\n",
       " 'setdefault',\n",
       " 'update',\n",
       " 'values']"
      ]
     },
     "execution_count": 22,
     "metadata": {},
     "output_type": "execute_result"
    }
   ],
   "source": [
    "dir(dict)"
   ]
  },
  {
   "cell_type": "code",
   "execution_count": 23,
   "id": "6446c095",
   "metadata": {},
   "outputs": [
    {
     "data": {
      "text/plain": [
       "dict_keys(['A', 'B'])"
      ]
     },
     "execution_count": 23,
     "metadata": {},
     "output_type": "execute_result"
    }
   ],
   "source": [
    "Dict1={'A':'python','B':'Core'}\n",
    "Dict1.keys()"
   ]
  },
  {
   "cell_type": "code",
   "execution_count": 25,
   "id": "26a8327d",
   "metadata": {},
   "outputs": [
    {
     "data": {
      "text/plain": [
       "dict_values"
      ]
     },
     "execution_count": 25,
     "metadata": {},
     "output_type": "execute_result"
    }
   ],
   "source": [
    "type(Dict1.values())"
   ]
  },
  {
   "cell_type": "code",
   "execution_count": 28,
   "id": "c5f56525",
   "metadata": {},
   "outputs": [
    {
     "data": {
      "text/plain": [
       "['Core', 'python']"
      ]
     },
     "execution_count": 28,
     "metadata": {},
     "output_type": "execute_result"
    }
   ],
   "source": [
    "Dict1={'A':'python','B':'Core'}\n",
    "l=list(Dict1.values())\n",
    "l\n",
    "sorted(l)"
   ]
  },
  {
   "cell_type": "code",
   "execution_count": 29,
   "id": "881d5759",
   "metadata": {},
   "outputs": [
    {
     "data": {
      "text/plain": [
       "dict_items([(0, 'a'), (1, 'quick'), (2, 'brown'), (3, 'fox'), (4, 'jump'), (5, 'over'), (6, 'a'), (7, 'lazy'), (8, 'dog')])"
      ]
     },
     "execution_count": 29,
     "metadata": {},
     "output_type": "execute_result"
    }
   ],
   "source": [
    "di={0:\"a\",1:\"quick\",2:\"brown\",3:\"fox\",4:\"jump\",5:\"over\",6:\"a\",7:\"lazy\",8:\"dog\"}\n",
    "di.items()"
   ]
  },
  {
   "cell_type": "code",
   "execution_count": 5,
   "id": "ba6d4928",
   "metadata": {},
   "outputs": [
    {
     "data": {
      "text/plain": [
       "'uare'"
      ]
     },
     "execution_count": 5,
     "metadata": {},
     "output_type": "execute_result"
    }
   ],
   "source": [
    "d={\"dict1\":{\"colour\":\"red\",\"Shape\":\"square\"},\"dict2\":{\"colour\":\"pink\",\"shape\":\"round\"}}\n",
    "d[\"dict1\"][\"Shape\"][2:]"
   ]
  },
  {
   "cell_type": "code",
   "execution_count": 6,
   "id": "9c0f6b4b",
   "metadata": {},
   "outputs": [
    {
     "data": {
      "text/plain": [
       "[3, 45]"
      ]
     },
     "execution_count": 6,
     "metadata": {},
     "output_type": "execute_result"
    }
   ],
   "source": [
    "d={\"dict1\":{\"colour\":\"red\",\"Shape\":[13,2,3,45]},\"dict2\":{\"colour\":\"pink\",\"shape\":\"round\"}}\n",
    "d[\"dict1\"][\"Shape\"][2:]"
   ]
  },
  {
   "cell_type": "code",
   "execution_count": 10,
   "id": "52c36386",
   "metadata": {},
   "outputs": [
    {
     "data": {
      "text/plain": [
       "{'A': 'python', 'B': 'Core', 0: 'a', 1: 'quick', 2: 'brown', 3: 'fox'}"
      ]
     },
     "execution_count": 10,
     "metadata": {},
     "output_type": "execute_result"
    }
   ],
   "source": [
    "Dict1={'A':'python','B':'Core'}\n",
    "Dict2={0:\"a\",1:\"quick\",2:\"brown\",3:\"fox\"}\n",
    "Dict1.update(Dict2)\n",
    "Dict1"
   ]
  },
  {
   "cell_type": "code",
   "execution_count": 13,
   "id": "73f1a1bd",
   "metadata": {},
   "outputs": [
    {
     "data": {
      "text/plain": [
       "{'A': 'python', 'B': 'Core'}"
      ]
     },
     "execution_count": 13,
     "metadata": {},
     "output_type": "execute_result"
    }
   ],
   "source": [
    "Dict={'A':'python','B':'Core'}\n",
    "d={}\n",
    "d=Dict.copy()\n",
    "d"
   ]
  },
  {
   "cell_type": "code",
   "execution_count": 14,
   "id": "875b82ed",
   "metadata": {},
   "outputs": [
    {
     "data": {
      "text/plain": [
       "'Core'"
      ]
     },
     "execution_count": 14,
     "metadata": {},
     "output_type": "execute_result"
    }
   ],
   "source": [
    "# pop\n",
    "Dict={'A':'python','B':'Core'}\n",
    "Dict.pop('B')"
   ]
  },
  {
   "cell_type": "code",
   "execution_count": 16,
   "id": "b8337b8e",
   "metadata": {},
   "outputs": [
    {
     "data": {
      "text/plain": [
       "'Core'"
      ]
     },
     "execution_count": 16,
     "metadata": {},
     "output_type": "execute_result"
    }
   ],
   "source": [
    "Dict={'A':'python','B':'Core'}\n",
    "s=Dict.pop('B')\n",
    "s"
   ]
  },
  {
   "cell_type": "code",
   "execution_count": 19,
   "id": "a3f60383",
   "metadata": {},
   "outputs": [
    {
     "data": {
      "text/plain": [
       "(8, 'dog')"
      ]
     },
     "execution_count": 19,
     "metadata": {},
     "output_type": "execute_result"
    }
   ],
   "source": [
    "## using popitem(),method\n",
    "### the popitem() deleted the iteams from the dict rendomely\n",
    "di={0:\"a\",1:\"quick\",2:\"brown\",3:\"fox\",4:\"jump\",5:\"over\",6:\"a\",7:\"lazy\",8:\"dog\"}\n",
    "s=di.popitem()\n",
    "s\n",
    "\n"
   ]
  },
  {
   "cell_type": "code",
   "execution_count": 33,
   "id": "ef5ee0f0",
   "metadata": {},
   "outputs": [],
   "source": [
    "## clear\n",
    "###all the items from a dictionary can be deleated at once by using clear\n",
    "di={0:\"a\",1:\"quick\",2:\"brown\",3:\"fox\",4:\"jump\",5:\"over\",6:\"a\",7:\"lazy\",8:\"dog\"}\n",
    "s=di.clear()\n",
    "s"
   ]
  },
  {
   "cell_type": "code",
   "execution_count": 27,
   "id": "3b24612a",
   "metadata": {},
   "outputs": [
    {
     "name": "stdout",
     "output_type": "stream",
     "text": [
      "1 ------ python\n",
      "name ------ madrid\n",
      "3 ------ core\n",
      "4 ------ [1, 23, 3]\n"
     ]
    }
   ],
   "source": [
    "di={1:'python','name':'madrid',3:'core',4:[1,23,3]}\n",
    "for i,j in di.items():\n",
    "    print(i,\"------\",j)"
   ]
  },
  {
   "cell_type": "code",
   "execution_count": 23,
   "id": "bf3f85f1",
   "metadata": {},
   "outputs": [
    {
     "name": "stdout",
     "output_type": "stream",
     "text": [
      "python\n",
      "madrid\n",
      "core\n",
      "[1, 23, 3]\n"
     ]
    }
   ],
   "source": [
    "Dict={1:'python','name':'madrid',3:'core',4:[1,23,3]}\n",
    "for i in Dict.values():\n",
    "    print(i)"
   ]
  },
  {
   "cell_type": "code",
   "execution_count": 29,
   "id": "e9b42cbb",
   "metadata": {},
   "outputs": [
    {
     "data": {
      "text/plain": [
       "[0, 1, 2, 3, 4, 5, 6, 7, 8]"
      ]
     },
     "execution_count": 29,
     "metadata": {},
     "output_type": "execute_result"
    }
   ],
   "source": [
    "di={0:\"a\",1:\"quick\",2:\"brown\",3:\"fox\",4:\"jump\",5:\"over\",6:\"a\",7:\"lazy\",8:\"dog\"}\n",
    "sorted(di)"
   ]
  },
  {
   "cell_type": "code",
   "execution_count": 31,
   "id": "aec0f495",
   "metadata": {},
   "outputs": [
    {
     "data": {
      "text/plain": [
       "[(0, 'a'),\n",
       " (1, 'quick'),\n",
       " (2, 'brown'),\n",
       " (3, 'fox'),\n",
       " (4, 'jump'),\n",
       " (5, 'over'),\n",
       " (6, 'a'),\n",
       " (7, 'lazy'),\n",
       " (8, 'dog')]"
      ]
     },
     "execution_count": 31,
     "metadata": {},
     "output_type": "execute_result"
    }
   ],
   "source": [
    "# it sorted  by default by keys \n",
    "di={0:\"a\",1:\"quick\",2:\"brown\",3:\"fox\",4:\"jump\",5:\"over\",6:\"a\",7:\"lazy\",8:\"dog\"}\n",
    "sorted(di.items())"
   ]
  },
  {
   "cell_type": "code",
   "execution_count": 35,
   "id": "eb5916fa",
   "metadata": {},
   "outputs": [
    {
     "data": {
      "text/plain": [
       "[(8, 'dog'),\n",
       " (7, 'lazy'),\n",
       " (6, 'a'),\n",
       " (5, 'over'),\n",
       " (4, 'jump'),\n",
       " (3, 'fox'),\n",
       " (2, 'brown'),\n",
       " (1, 'quick'),\n",
       " (0, 'a')]"
      ]
     },
     "execution_count": 35,
     "metadata": {},
     "output_type": "execute_result"
    }
   ],
   "source": [
    "di={0:\"a\",1:\"quick\",2:\"brown\",3:\"fox\",4:\"jump\",5:\"over\",6:\"a\",7:\"lazy\",8:\"dog\"}\n",
    "sorted(di.items(),reverse=True)"
   ]
  },
  {
   "cell_type": "code",
   "execution_count": 32,
   "id": "6ed3c25e",
   "metadata": {},
   "outputs": [
    {
     "data": {
      "text/plain": [
       "['a', 'a', 'brown', 'dog', 'fox', 'jump', 'lazy', 'over', 'quick']"
      ]
     },
     "execution_count": 32,
     "metadata": {},
     "output_type": "execute_result"
    }
   ],
   "source": [
    "di={0:\"a\",1:\"quick\",2:\"brown\",3:\"fox\",4:\"jump\",5:\"over\",6:\"a\",7:\"lazy\",8:\"dog\"}\n",
    "sorted(di.values())"
   ]
  },
  {
   "cell_type": "code",
   "execution_count": 39,
   "id": "60ab757e",
   "metadata": {},
   "outputs": [
    {
     "data": {
      "text/plain": [
       "{1: 'one', 2: 'two', '3': 'three'}"
      ]
     },
     "execution_count": 39,
     "metadata": {},
     "output_type": "execute_result"
    }
   ],
   "source": [
    "d={1:\"one\",2:\"two\",\"3\":\"three\"}\n",
    "d"
   ]
  },
  {
   "cell_type": "code",
   "execution_count": 40,
   "id": "378ad800",
   "metadata": {},
   "outputs": [
    {
     "data": {
      "text/plain": [
       "{1: 'one', 2: 'two', '3': 'three', 4: 'four', 3: 'hello'}"
      ]
     },
     "execution_count": 40,
     "metadata": {},
     "output_type": "execute_result"
    }
   ],
   "source": [
    "d[4]=\"four\"\n",
    "d[3]=\"hello\"\n",
    "d"
   ]
  },
  {
   "cell_type": "code",
   "execution_count": 7,
   "id": "4c28619b",
   "metadata": {},
   "outputs": [
    {
     "data": {
      "text/plain": [
       "{3: 'one', 2: 'two', 6: 'three'}"
      ]
     },
     "execution_count": 7,
     "metadata": {},
     "output_type": "execute_result"
    }
   ],
   "source": [
    "# sort the dict on the bases of values \n"
   ]
  },
  {
   "cell_type": "code",
   "execution_count": 2,
   "id": "f767a127",
   "metadata": {},
   "outputs": [
    {
     "data": {
      "text/plain": [
       "{5: 'welcome', 6: 'to', 7: 'madrid', 'A': {}, 8: 'yours'}"
      ]
     },
     "execution_count": 2,
     "metadata": {},
     "output_type": "execute_result"
    }
   ],
   "source": [
    "# del\n",
    "dict={5: \"welcome\",6:\"to\",7:\"madrid\",\"A\":{1:\"python\"},8:\"yours\"}\n",
    "del dict[\"A\"][1]\n",
    "dict"
   ]
  },
  {
   "cell_type": "code",
   "execution_count": null,
   "id": "79b20cb7",
   "metadata": {},
   "outputs": [],
   "source": []
  }
 ],
 "metadata": {
  "kernelspec": {
   "display_name": "Python 3 (ipykernel)",
   "language": "python",
   "name": "python3"
  },
  "language_info": {
   "codemirror_mode": {
    "name": "ipython",
    "version": 3
   },
   "file_extension": ".py",
   "mimetype": "text/x-python",
   "name": "python",
   "nbconvert_exporter": "python",
   "pygments_lexer": "ipython3",
   "version": "3.9.12"
  }
 },
 "nbformat": 4,
 "nbformat_minor": 5
}
