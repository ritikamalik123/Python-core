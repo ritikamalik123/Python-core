{
 "cells": [
  {
   "cell_type": "code",
   "execution_count": 1,
   "id": "8c28c5fa",
   "metadata": {},
   "outputs": [
    {
     "data": {
      "text/plain": [
       "float"
      ]
     },
     "execution_count": 1,
     "metadata": {},
     "output_type": "execute_result"
    }
   ],
   "source": [
    "type(2.4)"
   ]
  },
  {
   "cell_type": "code",
   "execution_count": 2,
   "id": "ae5b35b7",
   "metadata": {},
   "outputs": [
    {
     "data": {
      "text/plain": [
       "int"
      ]
     },
     "execution_count": 2,
     "metadata": {},
     "output_type": "execute_result"
    }
   ],
   "source": [
    "type(2)"
   ]
  },
  {
   "cell_type": "code",
   "execution_count": 3,
   "id": "1b3d7a65",
   "metadata": {},
   "outputs": [
    {
     "data": {
      "text/plain": [
       "complex"
      ]
     },
     "execution_count": 3,
     "metadata": {},
     "output_type": "execute_result"
    }
   ],
   "source": [
    "type(4+3j)"
   ]
  },
  {
   "cell_type": "code",
   "execution_count": 4,
   "id": "356ec9a2",
   "metadata": {},
   "outputs": [
    {
     "data": {
      "text/plain": [
       "str"
      ]
     },
     "execution_count": 4,
     "metadata": {},
     "output_type": "execute_result"
    }
   ],
   "source": [
    "s=\"madrid\"\n",
    "type(s)"
   ]
  },
  {
   "cell_type": "markdown",
   "id": "b97e4829",
   "metadata": {},
   "source": [
    "# write a program to check wheather a person is eligible for voting or not."
   ]
  },
  {
   "cell_type": "code",
   "execution_count": 5,
   "id": "3dc004ca",
   "metadata": {},
   "outputs": [
    {
     "name": "stdout",
     "output_type": "stream",
     "text": [
      "Enter your age:80\n",
      "yes he/she is eligible to vote\n"
     ]
    }
   ],
   "source": [
    "a=int(input(\"Enter your age:\"))\n",
    "if(a>=18):\n",
    "    print(\"yes he/she is eligible to vote\")\n",
    "else:\n",
    "    print(\"he/she is not eligible to vote\")\n",
    "    "
   ]
  },
  {
   "cell_type": "markdown",
   "id": "17b985e6",
   "metadata": {},
   "source": [
    "# write a progam to check wheather a number entered by user is even or odd"
   ]
  },
  {
   "cell_type": "code",
   "execution_count": 6,
   "id": "b332c21a",
   "metadata": {},
   "outputs": [
    {
     "name": "stdout",
     "output_type": "stream",
     "text": [
      "Enter the number90\n",
      "its an even number\n"
     ]
    }
   ],
   "source": [
    "a=int(input(\"Enter the number\"))\n",
    "if(a%2==0):\n",
    "    print(\"its an even number\")\n",
    "else:\n",
    "    print(\"its an odd number\")"
   ]
  },
  {
   "cell_type": "markdown",
   "id": "f3442501",
   "metadata": {},
   "source": [
    "# write a program to check weather a number is divisible by 7 or not."
   ]
  },
  {
   "cell_type": "code",
   "execution_count": 7,
   "id": "b9a7c7cd",
   "metadata": {},
   "outputs": [
    {
     "name": "stdout",
     "output_type": "stream",
     "text": [
      "enter the number50\n",
      "it is not divisible by 7\n"
     ]
    }
   ],
   "source": [
    "a=int(input(\"enter the number\"))\n",
    "if(a%7==0):\n",
    "    print(\"yes it is divisible by 7\")\n",
    "else:\n",
    "    print(\"it is not divisible by 7\")\n",
    "    "
   ]
  },
  {
   "cell_type": "markdown",
   "id": "875212c3",
   "metadata": {},
   "source": [
    "# Write a program to display \"hello\" if a number entered by user is a muliple of five ,otherwise print \"bye\""
   ]
  },
  {
   "cell_type": "code",
   "execution_count": 8,
   "id": "2f062a6d",
   "metadata": {},
   "outputs": [
    {
     "name": "stdout",
     "output_type": "stream",
     "text": [
      "Enter the number79\n",
      "bye\n"
     ]
    }
   ],
   "source": [
    "x=int(input(\"Enter the number\"))\n",
    "if(x%5==0):\n",
    "    print(\"hello\")\n",
    "else:\n",
    "    print(\"bye\")"
   ]
  },
  {
   "cell_type": "markdown",
   "id": "dd4d073a",
   "metadata": {},
   "source": [
    "# write a program to cheak weather a number is divisible by 7 and not divisible by 5"
   ]
  },
  {
   "cell_type": "code",
   "execution_count": 9,
   "id": "77df205d",
   "metadata": {},
   "outputs": [
    {
     "name": "stdout",
     "output_type": "stream",
     "text": [
      "enter the number34\n",
      "its is not divisible by 7\n"
     ]
    }
   ],
   "source": [
    "a=int(input(\"enter the number\"))\n",
    "if(a%7==0 and a%5!=0):\n",
    "    print(\"it is divisible by 7 but not five\")\n",
    "else:\n",
    "    print(\"its is not divisible by 7\")"
   ]
  },
  {
   "cell_type": "code",
   "execution_count": 16,
   "id": "9dc6bf48",
   "metadata": {},
   "outputs": [
    {
     "name": "stdout",
     "output_type": "stream",
     "text": [
      "enter the previousn reading200\n",
      "enter the current reading700\n",
      "500\n",
      "150000\n"
     ]
    }
   ],
   "source": [
    "a=int(input(\"enter the previousn reading\"))\n",
    "b=int(input(\"enter the current reading\"))\n",
    "c=b-a\n",
    "print(c)\n",
    "if(c<=100):\n",
    "    d=c*0.50\n",
    "    print(d)\n",
    "elif(100<c<=200):\n",
    "    d=c*50\n",
    "    print(d)\n",
    "elif(200<c<=300):\n",
    "    d=c*150\n",
    "    print(d)\n",
    "elif(c>300):\n",
    "    d=c*300\n",
    "    print(d)"
   ]
  },
  {
   "cell_type": "code",
   "execution_count": 3,
   "id": "081691e9",
   "metadata": {},
   "outputs": [
    {
     "name": "stdout",
     "output_type": "stream",
     "text": [
      "enter the number9\n",
      "enter the number10\n",
      "enter the number50\n",
      "larger no is c  50\n"
     ]
    }
   ],
   "source": [
    "a=int(input(\"enter the number\"))\n",
    "b=int(input(\"enter the number\"))\n",
    "c=int(input(\"enter the number\"))\n",
    "if(a>b and a>c):\n",
    "    print(\"larger no. is a\",a)\n",
    "elif(b>a and b>c):\n",
    "    print(\"larger no. is b \",b)\n",
    "elif(c>a and c>b):\n",
    "    print(\"larger no is c \",c)\n",
    "elif(a==b and a>c):\n",
    "    print(\"both a and b is same\",a,b)\n",
    "elif(b==c and b>a):\n",
    "    print(\"print b and c is same \",b , c)\n",
    "elif(c==a and c>b):\n",
    "    print(\"print c and a is same \" ,c ,a)"
   ]
  },
  {
   "cell_type": "code",
   "execution_count": null,
   "id": "f934ccff",
   "metadata": {},
   "outputs": [],
   "source": []
  },
  {
   "cell_type": "code",
   "execution_count": null,
   "id": "5d879aa8",
   "metadata": {},
   "outputs": [],
   "source": []
  }
 ],
 "metadata": {
  "kernelspec": {
   "display_name": "Python 3 (ipykernel)",
   "language": "python",
   "name": "python3"
  },
  "language_info": {
   "codemirror_mode": {
    "name": "ipython",
    "version": 3
   },
   "file_extension": ".py",
   "mimetype": "text/x-python",
   "name": "python",
   "nbconvert_exporter": "python",
   "pygments_lexer": "ipython3",
   "version": "3.9.12"
  }
 },
 "nbformat": 4,
 "nbformat_minor": 5
}
