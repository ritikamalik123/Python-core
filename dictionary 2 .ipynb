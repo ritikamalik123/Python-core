{
 "cells": [
  {
   "cell_type": "code",
   "execution_count": 2,
   "id": "5d5606b2",
   "metadata": {},
   "outputs": [
    {
     "name": "stdout",
     "output_type": "stream",
     "text": [
      "{1: 1.0, 2: 'TWO', 3: 3.0, 4: 'FOUR', 5: 5.0}\n"
     ]
    }
   ],
   "source": [
    "''' dict= {1: \"one\",2:\"two\",3:\"three\",4:\"four\",5:\"five\"}\n",
    "if the keyword in your dict is even then its corresponding should be capitalized. and if the keyword in your dict is odd then values should be a float of the keyword.\n",
    "Passcode: TtvUeY!2\n",
    "'''\n",
    "\n",
    "\n",
    "D={1: \"one\",2:\"two\",3:\"three\",4:\"four\",5:\"five\"}\n",
    "for key in D:\n",
    "    if key%2==0:\n",
    "        D[key]=D[key].upper()\n",
    "    else:\n",
    "        D[key]=float(key)\n",
    "print(D)"
   ]
  },
  {
   "cell_type": "code",
   "execution_count": 6,
   "id": "977b79fe",
   "metadata": {},
   "outputs": [
    {
     "name": "stdout",
     "output_type": "stream",
     "text": [
      "{1: 3, 2: 'twotwo', 3: 5, 4: 'fourfour', 5: 4}\n"
     ]
    }
   ],
   "source": [
    "D={1: \"one\",2:\"two\",3:\"three\",4:\"four\",5:\"five\"}\n",
    "for key,value in D.items():\n",
    "    if key%2==0:\n",
    "        D[key]=D[key]*2\n",
    "    else:\n",
    "        D[key]=len(D[key])\n",
    "print(D)"
   ]
  },
  {
   "cell_type": "code",
   "execution_count": 7,
   "id": "cf439f92",
   "metadata": {},
   "outputs": [
    {
     "name": "stdout",
     "output_type": "stream",
     "text": [
      "{'a': 2, ' ': 12, 'q': 2, 'u': 3, 'i': 2, 'c': 2, 'k': 2, 'b': 1, 'r': 2, 'o': 7, 'w': 1, 'n': 1, 'f': 2, 'x': 2, 'j': 1, 'm': 1, 'p': 1, 's': 1, 'v': 1, 'e': 2, 't': 1, 'h': 1, 'l': 1, 'z': 1, 'y': 1, 'd': 3, 'g': 3}\n"
     ]
    }
   ],
   "source": [
    "D={}\n",
    "x='a quick brown fox jumps over the lazy dog dog dog fox quick'\n",
    "for i in x:\n",
    "    D[i]=x.count(i)\n",
    "print(D)"
   ]
  },
  {
   "cell_type": "code",
   "execution_count": 13,
   "id": "76c20ce9",
   "metadata": {},
   "outputs": [
    {
     "name": "stdout",
     "output_type": "stream",
     "text": [
      "{'a': 1, 'quick': 2, 'brown': 1, 'fox': 2, 'jumps': 1, 'over': 1, 'the': 1, 'lazy': 1, 'dog': 3}\n"
     ]
    }
   ],
   "source": [
    "# count the frequency of words in the string x='a quick brown fox jumps over the lazy dog dog dog fox quick'\n",
    "d={}\n",
    "x='a quick brown fox jumps over the lazy dog dog dog fox quick'\n",
    "l=x.split(\" \")\n",
    "for i in l:\n",
    "    d[i]=l.count(i)\n",
    "print(d)"
   ]
  },
  {
   "cell_type": "code",
   "execution_count": 14,
   "id": "5e5e13cf",
   "metadata": {},
   "outputs": [
    {
     "name": "stdout",
     "output_type": "stream",
     "text": [
      "['a', 'quick', 'brown', 'fox', 'jumps', 'over', 'the', 'lazy', 'dog', 'dog', 'dog', 'fox', 'quick']\n"
     ]
    },
    {
     "data": {
      "text/plain": [
       "Counter({'a': 1,\n",
       "         'quick': 2,\n",
       "         'brown': 1,\n",
       "         'fox': 2,\n",
       "         'jumps': 1,\n",
       "         'over': 1,\n",
       "         'the': 1,\n",
       "         'lazy': 1,\n",
       "         'dog': 3})"
      ]
     },
     "execution_count": 14,
     "metadata": {},
     "output_type": "execute_result"
    }
   ],
   "source": [
    "x='a quick brown fox jumps over the lazy dog dog dog fox quick'\n",
    "l=x.split(\" \")\n",
    "print(l)\n",
    "from collections import Counter\n",
    "Counter(l)"
   ]
  },
  {
   "cell_type": "code",
   "execution_count": 15,
   "id": "f0c16352",
   "metadata": {},
   "outputs": [
    {
     "name": "stdout",
     "output_type": "stream",
     "text": [
      "{'key1': 0, 'key2': 0, 'key3': 0}\n"
     ]
    }
   ],
   "source": [
    "### Create a dictionary  with 3 keys, all with the values 0:\n",
    "x=('key1','key2','key3')\n",
    "y=0\n",
    "dicti=dict.fromkeys(x,y)\n",
    "print(dicti)"
   ]
  },
  {
   "cell_type": "code",
   "execution_count": 16,
   "id": "b7e83fe8",
   "metadata": {},
   "outputs": [
    {
     "data": {
      "text/plain": [
       "{1: 'one', 2: 'two', 3: 'three', 4: 'four', 5: 'five'}"
      ]
     },
     "execution_count": 16,
     "metadata": {},
     "output_type": "execute_result"
    }
   ],
   "source": [
    "l1=[1,2,3,4,5]\n",
    "l2=[\"one\",'two','three','four','five']\n",
    "d=dict(zip(l1,l2))\n",
    "d"
   ]
  },
  {
   "cell_type": "code",
   "execution_count": 17,
   "id": "e101e646",
   "metadata": {},
   "outputs": [
    {
     "data": {
      "text/plain": [
       "{'m': 'one', 'a': 'two', 'd': 'three', 'r': 'four', 'i': 'five'}"
      ]
     },
     "execution_count": 17,
     "metadata": {},
     "output_type": "execute_result"
    }
   ],
   "source": [
    "l1=\"madrid\"\n",
    "l2=[\"one\",'two','three','four','five']\n",
    "d=dict(zip(l1,l2))\n",
    "d"
   ]
  },
  {
   "cell_type": "code",
   "execution_count": 18,
   "id": "d2e32087",
   "metadata": {},
   "outputs": [
    {
     "data": {
      "text/plain": [
       "{'m': 'one', 'a': 'two', 'd': 'six', 'r': 'four', 'i': 'five'}"
      ]
     },
     "execution_count": 18,
     "metadata": {},
     "output_type": "execute_result"
    }
   ],
   "source": [
    "l1=\"madrid\"\n",
    "l2=[\"one\",'two','three','four','five','six','seven']\n",
    "d=dict(zip(l1,l2))\n",
    "d"
   ]
  },
  {
   "cell_type": "markdown",
   "id": "e31154dc",
   "metadata": {},
   "source": [
    "## Dictionary Comprehension\n",
    "\n",
    "\n",
    "\n",
    "\n",
    "like list comprehension take, Python allows dictionary comprehensions. We can create dictionaries\n",
    "using simple expression"
   ]
  },
  {
   "cell_type": "code",
   "execution_count": 19,
   "id": "75c20e9c",
   "metadata": {},
   "outputs": [
    {
     "name": "stdout",
     "output_type": "stream",
     "text": [
      "start2\n",
      "end9\n",
      "{2: 4, 3: 9, 4: 16, 5: 25, 6: 36, 7: 49, 8: 64, 9: 81}\n"
     ]
    }
   ],
   "source": [
    "start=int(input(\"start\"))\n",
    "end=int(input(\"end\"))\n",
    "d={}\n",
    "for i in range(start,end+1):\n",
    "    d[i]=i*i\n",
    "print(d)"
   ]
  },
  {
   "cell_type": "code",
   "execution_count": 21,
   "id": "5d61c20a",
   "metadata": {},
   "outputs": [
    {
     "data": {
      "text/plain": [
       "{2: 4,\n",
       " 3: 9,\n",
       " 4: 16,\n",
       " 5: 25,\n",
       " 6: 36,\n",
       " 7: 49,\n",
       " 8: 64,\n",
       " 9: 81,\n",
       " 10: 100,\n",
       " 11: 121,\n",
       " 12: 144}"
      ]
     },
     "execution_count": 21,
     "metadata": {},
     "output_type": "execute_result"
    }
   ],
   "source": [
    "{i:i*i for i in range(2,13)}"
   ]
  },
  {
   "cell_type": "code",
   "execution_count": 22,
   "id": "444a21f3",
   "metadata": {},
   "outputs": [
    {
     "data": {
      "text/plain": [
       "{2: 'even', 4: 'even', 6: 'even', 8: 'even'}"
      ]
     },
     "execution_count": 22,
     "metadata": {},
     "output_type": "execute_result"
    }
   ],
   "source": [
    "{i:\"even\" for i in range(start,end+1) if i%2==0}"
   ]
  },
  {
   "cell_type": "code",
   "execution_count": 24,
   "id": "67e6a492",
   "metadata": {},
   "outputs": [
    {
     "name": "stdout",
     "output_type": "stream",
     "text": [
      "start1\n",
      "end15\n"
     ]
    },
    {
     "data": {
      "text/plain": [
       "{1: 'odd',\n",
       " 2: 'even',\n",
       " 3: 'odd',\n",
       " 4: 'even',\n",
       " 5: 'odd',\n",
       " 6: 'even',\n",
       " 7: 'odd',\n",
       " 8: 'even',\n",
       " 9: 'odd',\n",
       " 10: 'even',\n",
       " 11: 'odd',\n",
       " 12: 'even',\n",
       " 13: 'odd',\n",
       " 14: 'even',\n",
       " 15: 'odd'}"
      ]
     },
     "execution_count": 24,
     "metadata": {},
     "output_type": "execute_result"
    }
   ],
   "source": [
    "start=int(input(\"start\"))\n",
    "end=int(input(\"end\"))\n",
    "{i:\"even\" if i%2==0 else \"odd\" for i in range(start,end+1) }"
   ]
  },
  {
   "cell_type": "code",
   "execution_count": 28,
   "id": "28efd38b",
   "metadata": {},
   "outputs": [
    {
     "name": "stdout",
     "output_type": "stream",
     "text": [
      "young\n",
      "old\n",
      "old\n",
      "old\n",
      "young\n"
     ]
    }
   ],
   "source": [
    "d = {\"Aman\":29,\"Ramesh\":44,\"Golu\":56,\"Raju\":45,\"Molu\":28}\n",
    "for i in d:\n",
    "    if d[i]>=40:\n",
    "        print(\"old\")\n",
    "    else :\n",
    "        print(\"young\")\n",
    "    "
   ]
  },
  {
   "cell_type": "code",
   "execution_count": 30,
   "id": "113bfd98",
   "metadata": {},
   "outputs": [
    {
     "data": {
      "text/plain": [
       "{'Aman': 'young',\n",
       " 'Ramesh': 'old',\n",
       " 'Golu': 'old',\n",
       " 'Raju': 'old',\n",
       " 'Molu': 'young'}"
      ]
     },
     "execution_count": 30,
     "metadata": {},
     "output_type": "execute_result"
    }
   ],
   "source": [
    "d = {\"Aman\":29,\"Ramesh\":44,\"Golu\":56,\"Raju\":45,\"Molu\":28}\n",
    "{i:\"old\" if d[i]>40 else \"young\" for i in d }"
   ]
  },
  {
   "cell_type": "code",
   "execution_count": 36,
   "id": "2ef1e419",
   "metadata": {},
   "outputs": [
    {
     "data": {
      "text/plain": [
       "{'C': 'ccc', 'O': 'ooo', 'D': 'ddd', 'I': 'iii', 'N': 'nnn', 'G': 'ggg'}"
      ]
     },
     "execution_count": 36,
     "metadata": {},
     "output_type": "execute_result"
    }
   ],
   "source": [
    "s=\"coding\"\n",
    "{ i.upper():i*3 for i in s }"
   ]
  },
  {
   "cell_type": "code",
   "execution_count": 44,
   "id": "3f0a86a9",
   "metadata": {},
   "outputs": [
    {
     "data": {
      "text/plain": [
       "{10: 'ten', 200: 'two hundred', 30: 'thirty'}"
      ]
     },
     "execution_count": 44,
     "metadata": {},
     "output_type": "execute_result"
    }
   ],
   "source": [
    "d={\"1 0\": \"ten\",\"2 0 0\":\"two hundred\",\"3 0\":\"thirty\"}\n",
    "d={\"10\": \"ten\",\"200\":\"two hundred\",\"30\":\"thirty\"}\n",
    "{int(i.replace(\" \",\"\")):d[i] for i in d}"
   ]
  },
  {
   "cell_type": "markdown",
   "id": "6c1e6b22",
   "metadata": {},
   "source": [
    "### Q1 {'Math': [88, 89, 90], 'Physics': [92, 94, 87], 'Chemistry': [90, 87, 93]}\n",
    "Update the list values of the said dictionary:\n",
    " {'Math': [89, 90, 91], 'Physics': [90, 92, 87], 'Chemistry': [90, 87, 93]}\n"
   ]
  },
  {
   "cell_type": "code",
   "execution_count": 64,
   "id": "caa6cdff",
   "metadata": {},
   "outputs": [
    {
     "name": "stdout",
     "output_type": "stream",
     "text": [
      "{'Math': [88, 89, 90], 'Physics': [92, 94, 88], 'Chemistry': [90, 87, 93]}\n"
     ]
    }
   ],
   "source": [
    "d={'Math': [88, 89, 90], 'Physics': [92, 94, 87], 'Chemistry': [90, 87, 93]}\n",
    "for key in d:\n",
    "    if key=='Physics':\n",
    "        d[key][0]=92\n",
    "        d[key][1]=94\n",
    "        d[key][2]=88\n",
    "    elif key==\"Math\":\n",
    "        d[key][0]=88\n",
    "        d[key][1]=89\n",
    "        d[key][2]=90\n",
    "print(d)"
   ]
  },
  {
   "cell_type": "markdown",
   "id": "3b721cc0",
   "metadata": {},
   "source": [
    "\n",
    "## Q2 [{'id': '#FF0000', 'color': 'Red'}, {'id': '#800000', 'color': 'Maroon'}, {'id': '#FFFF00', 'color': 'Yellow'}, {'id': '#808000', 'color': 'Olive'}]\n",
    "Remove id #FF0000 from the said list of dictionary:\n",
    "[{'id': '#800000', 'color': 'Maroon'}, {'id': '#FFFF00', 'color': 'Yellow'}, \n",
    "{'id': '#808000', 'color': 'Olive'}] \n",
    "'''\n"
   ]
  },
  {
   "cell_type": "code",
   "execution_count": 67,
   "id": "297f4d06",
   "metadata": {},
   "outputs": [
    {
     "data": {
      "text/plain": [
       "[{'id': '#800000', 'color': 'Maroon'},\n",
       " {'id': '#FFFF00', 'color': 'Yellow'},\n",
       " {'id': '#808000', 'color': 'Olive'}]"
      ]
     },
     "execution_count": 67,
     "metadata": {},
     "output_type": "execute_result"
    }
   ],
   "source": [
    "l= [{'id': '#FF0000', 'color': 'Red'}, {'id': '#800000', 'color': 'Maroon'}, {'id': '#FFFF00', 'color': 'Yellow'}, {'id': '#808000', 'color': 'Olive'}]\n",
    "del l[0]\n",
    "l"
   ]
  },
  {
   "cell_type": "markdown",
   "id": "f2cca0cf",
   "metadata": {},
   "source": [
    "# Q3 Wap to convert dictionary of list to list of dictionaries \n",
    "d = {1:[1,2],2:[3,4],3:[5,6]}\n",
    "output\n",
    "l = [{1:[1,2]},{2:[3,4]},{3:[5,6]}]\n"
   ]
  },
  {
   "cell_type": "code",
   "execution_count": 66,
   "id": "393ee9e5",
   "metadata": {},
   "outputs": [
    {
     "name": "stdout",
     "output_type": "stream",
     "text": [
      "[{1: [1, 2]}, {2: [3, 4]}, {3: [5, 6]}]\n"
     ]
    }
   ],
   "source": [
    "d={1:[1,2],2:[3,4],3:[5,6]}\n",
    "l=[]\n",
    "for key,value in d.items():\n",
    "    d1={}\n",
    "    d1[key]=value\n",
    "    l.append(d1)\n",
    "print(l)"
   ]
  },
  {
   "cell_type": "code",
   "execution_count": null,
   "id": "da7527ce",
   "metadata": {},
   "outputs": [],
   "source": []
  },
  {
   "cell_type": "code",
   "execution_count": null,
   "id": "4d1e631a",
   "metadata": {},
   "outputs": [],
   "source": []
  }
 ],
 "metadata": {
  "kernelspec": {
   "display_name": "Python 3 (ipykernel)",
   "language": "python",
   "name": "python3"
  },
  "language_info": {
   "codemirror_mode": {
    "name": "ipython",
    "version": 3
   },
   "file_extension": ".py",
   "mimetype": "text/x-python",
   "name": "python",
   "nbconvert_exporter": "python",
   "pygments_lexer": "ipython3",
   "version": "3.9.12"
  }
 },
 "nbformat": 4,
 "nbformat_minor": 5
}
