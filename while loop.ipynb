{
 "cells": [
  {
   "cell_type": "code",
   "execution_count": 3,
   "id": "be5b6e88",
   "metadata": {},
   "outputs": [
    {
     "name": "stdout",
     "output_type": "stream",
     "text": [
      "55\n"
     ]
    }
   ],
   "source": [
    "#wap to diplay the sum of numbers of the list\n",
    "l=[1,2,3,45,4]\n",
    "sum=0\n",
    "for i in l:\n",
    "    sum=sum+i\n",
    "print(sum)"
   ]
  },
  {
   "cell_type": "markdown",
   "id": "81d1b91a",
   "metadata": {},
   "source": [
    "# while loop"
   ]
  },
  {
   "cell_type": "code",
   "execution_count": 2,
   "id": "3eefd6df",
   "metadata": {},
   "outputs": [
    {
     "name": "stdout",
     "output_type": "stream",
     "text": [
      "hello hello hello hello hello "
     ]
    }
   ],
   "source": [
    "i=1\n",
    "while(i<=5):\n",
    "    print(\"hello\",end=\" \")\n",
    "    i=i+1"
   ]
  },
  {
   "cell_type": "code",
   "execution_count": 3,
   "id": "b0b3aab5",
   "metadata": {},
   "outputs": [
    {
     "name": "stdout",
     "output_type": "stream",
     "text": [
      "hello\n",
      "hello\n",
      "hello\n",
      "hello\n",
      "hello\n",
      "hello\n"
     ]
    }
   ],
   "source": [
    "i=5\n",
    "while(i<=10):\n",
    "    print(\"hello\")\n",
    "    i=i+1"
   ]
  },
  {
   "cell_type": "markdown",
   "id": "fc557f5f",
   "metadata": {},
   "source": [
    "# Wap to display the table"
   ]
  },
  {
   "cell_type": "code",
   "execution_count": 4,
   "id": "697e153b",
   "metadata": {},
   "outputs": [
    {
     "name": "stdout",
     "output_type": "stream",
     "text": [
      "enter the number5\n",
      "5 * 1 = 5\n",
      "5 * 2 = 10\n",
      "5 * 3 = 15\n",
      "5 * 4 = 20\n",
      "5 * 5 = 25\n",
      "5 * 6 = 30\n",
      "5 * 7 = 35\n",
      "5 * 8 = 40\n",
      "5 * 9 = 45\n",
      "5 * 10 = 50\n"
     ]
    }
   ],
   "source": [
    "num=int(input(\"enter the number\"))\n",
    "i=1\n",
    "while(i<=10):\n",
    "    print(num,\"*\",i,\"=\",num*i)\n",
    "    i=i+1\n"
   ]
  },
  {
   "cell_type": "markdown",
   "id": "43ac9b96",
   "metadata": {},
   "source": [
    "# wap to diplay the reverse table"
   ]
  },
  {
   "cell_type": "code",
   "execution_count": 5,
   "id": "9ce8e0ea",
   "metadata": {},
   "outputs": [
    {
     "name": "stdout",
     "output_type": "stream",
     "text": [
      "enter the number5\n",
      "5 * 10 = 50\n",
      "5 * 9 = 45\n",
      "5 * 8 = 40\n",
      "5 * 7 = 35\n",
      "5 * 6 = 30\n",
      "5 * 5 = 25\n",
      "5 * 4 = 20\n",
      "5 * 3 = 15\n",
      "5 * 2 = 10\n",
      "5 * 1 = 5\n"
     ]
    }
   ],
   "source": [
    "num=int(input(\"enter the number\"))\n",
    "i=10\n",
    "while(i>=1):\n",
    "    print(num,\"*\",i,\"=\",num*i)\n",
    "    i=i-1"
   ]
  },
  {
   "cell_type": "markdown",
   "id": "54297c6c",
   "metadata": {},
   "source": [
    "# Wap to display the factors of a given number"
   ]
  },
  {
   "cell_type": "code",
   "execution_count": 1,
   "id": "d6d9155c",
   "metadata": {},
   "outputs": [
    {
     "name": "stdout",
     "output_type": "stream",
     "text": [
      "Enter the number5\n",
      "1 is the factor of  5\n",
      "5 is the factor of  5\n"
     ]
    }
   ],
   "source": [
    "num=int(input(\"Enter the number\"))\n",
    "for i in range(1,num+1):\n",
    "    if num%i==0:\n",
    "        print(i,\"is the factor of \",num)"
   ]
  },
  {
   "cell_type": "code",
   "execution_count": 1,
   "id": "ffb46745",
   "metadata": {},
   "outputs": [
    {
     "name": "stdout",
     "output_type": "stream",
     "text": [
      "enter the number8\n",
      "1 is the factor of 8\n",
      "2 is the factor of 8\n",
      "4 is the factor of 8\n"
     ]
    }
   ],
   "source": [
    "num=int(input(\"enter the number\"))\n",
    "i=1\n",
    "while(i<num):\n",
    "    if num%i==0:\n",
    "        print(i,\"is the factor of\",num)\n",
    "    i=i+1"
   ]
  },
  {
   "cell_type": "markdown",
   "id": "44393abf",
   "metadata": {},
   "source": [
    "# wap to display prime number or composite number"
   ]
  },
  {
   "cell_type": "code",
   "execution_count": 2,
   "id": "8c3ab76b",
   "metadata": {},
   "outputs": [
    {
     "name": "stdout",
     "output_type": "stream",
     "text": [
      "enter the number2\n",
      "prime\n"
     ]
    }
   ],
   "source": [
    "num=int(input(\"enter the number\"))\n",
    "count=0\n",
    "for i in range(1,num+1):\n",
    "    if num%i==0:\n",
    "        count=count+1\n",
    "if count==2:\n",
    "    print(\"prime\")\n",
    "else:\n",
    "    print(\"composite\")\n"
   ]
  },
  {
   "cell_type": "code",
   "execution_count": 4,
   "id": "02f78767",
   "metadata": {},
   "outputs": [
    {
     "name": "stdout",
     "output_type": "stream",
     "text": [
      "enter the number2\n",
      "prime\n"
     ]
    }
   ],
   "source": [
    "num=int(input(\"enter the number\"))\n",
    "count=0\n",
    "i=1\n",
    "while(i<=num):\n",
    "    if num%i==0:\n",
    "        count=count+1\n",
    "    i=i+1\n",
    "if count==2:\n",
    "    print(\"prime\")\n",
    "else:\n",
    "    print(\"composite\")"
   ]
  },
  {
   "cell_type": "markdown",
   "id": "ea20329f",
   "metadata": {},
   "source": [
    "# LOOP CONTROLING STATEMENT\n",
    "1.BREAK          \n",
    "\n",
    "\n",
    "\n",
    "\n",
    "\n",
    "\n",
    "\n",
    "\n",
    "\n",
    "2.CONTINUE"
   ]
  },
  {
   "cell_type": "code",
   "execution_count": 2,
   "id": "36e659da",
   "metadata": {},
   "outputs": [
    {
     "name": "stdout",
     "output_type": "stream",
     "text": [
      "1\n",
      "2\n",
      "3\n",
      "4\n",
      "5\n",
      "6\n",
      "7\n",
      "8\n",
      "9\n",
      "10\n",
      "11\n",
      "12\n",
      "13\n",
      "14\n",
      "15\n",
      "16\n",
      "17\n",
      "18\n",
      "19\n",
      "20\n",
      "21\n",
      "22\n",
      "23\n",
      "24\n",
      "25\n"
     ]
    }
   ],
   "source": [
    "for i in range(1,100):\n",
    "    print(i)\n",
    "    if i==25:\n",
    "        break"
   ]
  },
  {
   "cell_type": "code",
   "execution_count": 1,
   "id": "e2fadf95",
   "metadata": {},
   "outputs": [
    {
     "name": "stdout",
     "output_type": "stream",
     "text": [
      "hello\n",
      "hi how are you\n"
     ]
    }
   ],
   "source": [
    "while(1):\n",
    "    print(\"hello\")\n",
    "    break\n",
    "print(\"hi how are you\")"
   ]
  },
  {
   "cell_type": "code",
   "execution_count": 1,
   "id": "558a71d0",
   "metadata": {},
   "outputs": [
    {
     "name": "stdout",
     "output_type": "stream",
     "text": [
      "hello\n",
      "hi how are you\n"
     ]
    }
   ],
   "source": [
    "while(1):\n",
    "    print(\"hello\")\n",
    "    break\n",
    "print(\"hi how are you\")"
   ]
  },
  {
   "cell_type": "code",
   "execution_count": 2,
   "id": "d2f2aeea",
   "metadata": {},
   "outputs": [
    {
     "name": "stdout",
     "output_type": "stream",
     "text": [
      "hello\n",
      "hi how are you\n",
      "hello\n",
      "hi how are you\n",
      "hello\n",
      "hello\n",
      "hi how are you\n",
      "hello\n",
      "hi how are you\n",
      "hii\n"
     ]
    }
   ],
   "source": [
    "i=1\n",
    "while(i<=5):\n",
    "    print(\"hello\")\n",
    "    i=i+1\n",
    "    if i==4:\n",
    "        continue\n",
    "    print(\"hi how are you\")\n",
    "print(\"hii\")"
   ]
  },
  {
   "cell_type": "code",
   "execution_count": 7,
   "id": "b0746d87",
   "metadata": {},
   "outputs": [],
   "source": [
    "a=0\n",
    "if (a==2):\n",
    "    pass"
   ]
  },
  {
   "cell_type": "markdown",
   "id": "e1d69cda",
   "metadata": {},
   "source": [
    "# Wap to enter the number till the user wants and at the end it should display the sum of all the numbers entered"
   ]
  },
  {
   "cell_type": "code",
   "execution_count": 10,
   "id": "0aa49f2f",
   "metadata": {},
   "outputs": [
    {
     "name": "stdout",
     "output_type": "stream",
     "text": [
      "enter the number7\n",
      "would you like to give more number \n",
      " press1 :for more no. else 2. no\n",
      "enter the choice1\n",
      "enter the number7\n",
      "would you like to give more number \n",
      " press1 :for more no. else 2. no\n",
      "enter the choice2\n",
      "7\n"
     ]
    }
   ],
   "source": [
    "sum1=0\n",
    "while(True):\n",
    "    sum1=0\n",
    "    num=int(input(\"enter the number\"))\n",
    "    sum1=sum1+num\n",
    "    print(\"would you like to give more number \\n press1 :for more no. else 2. no\")\n",
    "    choice=input(\"enter the choice\")\n",
    "    if choice==\"1\":\n",
    "        continue\n",
    "    else:\n",
    "        break\n",
    "print(sum1)"
   ]
  },
  {
   "cell_type": "code",
   "execution_count": 1,
   "id": "25a4c417",
   "metadata": {},
   "outputs": [
    {
     "name": "stdout",
     "output_type": "stream",
     "text": [
      "Enter usernameritika\n",
      "enter passwordritika@123\n",
      "Enter usernameritika\n",
      "Enter the passwordritika@123\n",
      "login\n"
     ]
    }
   ],
   "source": [
    "#wap to take username and password feom user.then next program take input as login credentials.if wrong ,user can try 5 times if still\n",
    "\n",
    "user_name=input(\"Enter username\")\n",
    "password=input(\"enter password\")\n",
    "\n",
    "i=0\n",
    "for i in range(5):\n",
    "    name=input(\"Enter username\")\n",
    "    _password=input(\"Enter the password\")\n",
    "    if(name==user_name and _password==password):\n",
    "        print(\"login\")\n",
    "        break\n",
    "    else:\n",
    "        print(\"wrong credentials try again\")\n",
    "if(i>4):\n",
    "    print(\"you have reached your limits\")\n",
    "\n",
    "        "
   ]
  }
 ],
 "metadata": {
  "kernelspec": {
   "display_name": "Python 3 (ipykernel)",
   "language": "python",
   "name": "python3"
  },
  "language_info": {
   "codemirror_mode": {
    "name": "ipython",
    "version": 3
   },
   "file_extension": ".py",
   "mimetype": "text/x-python",
   "name": "python",
   "nbconvert_exporter": "python",
   "pygments_lexer": "ipython3",
   "version": "3.9.12"
  }
 },
 "nbformat": 4,
 "nbformat_minor": 5
}
