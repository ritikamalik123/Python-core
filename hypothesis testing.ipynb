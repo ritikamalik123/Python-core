{
 "cells": [
  {
   "cell_type": "code",
   "execution_count": 42,
   "id": "b74b6057",
   "metadata": {},
   "outputs": [],
   "source": [
    "import numpy as np\n",
    "import pandas as pd \n",
    "import seaborn as sns\n",
    "import scipy.stats\n",
    "import matplotlib.pyplot as plt\n"
   ]
  },
  {
   "cell_type": "code",
   "execution_count": 15,
   "id": "263450ce",
   "metadata": {},
   "outputs": [
    {
     "data": {
      "text/html": [
       "<div>\n",
       "<style scoped>\n",
       "    .dataframe tbody tr th:only-of-type {\n",
       "        vertical-align: middle;\n",
       "    }\n",
       "\n",
       "    .dataframe tbody tr th {\n",
       "        vertical-align: top;\n",
       "    }\n",
       "\n",
       "    .dataframe thead th {\n",
       "        text-align: right;\n",
       "    }\n",
       "</style>\n",
       "<table border=\"1\" class=\"dataframe\">\n",
       "  <thead>\n",
       "    <tr style=\"text-align: right;\">\n",
       "      <th></th>\n",
       "      <th>patient</th>\n",
       "      <th>sex</th>\n",
       "      <th>agegrp</th>\n",
       "      <th>bp_before</th>\n",
       "      <th>bp_after</th>\n",
       "    </tr>\n",
       "  </thead>\n",
       "  <tbody>\n",
       "    <tr>\n",
       "      <th>0</th>\n",
       "      <td>1</td>\n",
       "      <td>Male</td>\n",
       "      <td>30-45</td>\n",
       "      <td>143</td>\n",
       "      <td>153</td>\n",
       "    </tr>\n",
       "    <tr>\n",
       "      <th>1</th>\n",
       "      <td>2</td>\n",
       "      <td>Male</td>\n",
       "      <td>30-45</td>\n",
       "      <td>163</td>\n",
       "      <td>170</td>\n",
       "    </tr>\n",
       "    <tr>\n",
       "      <th>2</th>\n",
       "      <td>3</td>\n",
       "      <td>Male</td>\n",
       "      <td>30-45</td>\n",
       "      <td>153</td>\n",
       "      <td>168</td>\n",
       "    </tr>\n",
       "    <tr>\n",
       "      <th>3</th>\n",
       "      <td>4</td>\n",
       "      <td>Male</td>\n",
       "      <td>30-45</td>\n",
       "      <td>153</td>\n",
       "      <td>142</td>\n",
       "    </tr>\n",
       "    <tr>\n",
       "      <th>4</th>\n",
       "      <td>5</td>\n",
       "      <td>Male</td>\n",
       "      <td>30-45</td>\n",
       "      <td>146</td>\n",
       "      <td>141</td>\n",
       "    </tr>\n",
       "    <tr>\n",
       "      <th>...</th>\n",
       "      <td>...</td>\n",
       "      <td>...</td>\n",
       "      <td>...</td>\n",
       "      <td>...</td>\n",
       "      <td>...</td>\n",
       "    </tr>\n",
       "    <tr>\n",
       "      <th>115</th>\n",
       "      <td>116</td>\n",
       "      <td>Female</td>\n",
       "      <td>60+</td>\n",
       "      <td>152</td>\n",
       "      <td>152</td>\n",
       "    </tr>\n",
       "    <tr>\n",
       "      <th>116</th>\n",
       "      <td>117</td>\n",
       "      <td>Female</td>\n",
       "      <td>60+</td>\n",
       "      <td>161</td>\n",
       "      <td>152</td>\n",
       "    </tr>\n",
       "    <tr>\n",
       "      <th>117</th>\n",
       "      <td>118</td>\n",
       "      <td>Female</td>\n",
       "      <td>60+</td>\n",
       "      <td>165</td>\n",
       "      <td>174</td>\n",
       "    </tr>\n",
       "    <tr>\n",
       "      <th>118</th>\n",
       "      <td>119</td>\n",
       "      <td>Female</td>\n",
       "      <td>60+</td>\n",
       "      <td>149</td>\n",
       "      <td>151</td>\n",
       "    </tr>\n",
       "    <tr>\n",
       "      <th>119</th>\n",
       "      <td>120</td>\n",
       "      <td>Female</td>\n",
       "      <td>60+</td>\n",
       "      <td>185</td>\n",
       "      <td>163</td>\n",
       "    </tr>\n",
       "  </tbody>\n",
       "</table>\n",
       "<p>120 rows × 5 columns</p>\n",
       "</div>"
      ],
      "text/plain": [
       "     patient     sex agegrp  bp_before  bp_after\n",
       "0          1    Male  30-45        143       153\n",
       "1          2    Male  30-45        163       170\n",
       "2          3    Male  30-45        153       168\n",
       "3          4    Male  30-45        153       142\n",
       "4          5    Male  30-45        146       141\n",
       "..       ...     ...    ...        ...       ...\n",
       "115      116  Female    60+        152       152\n",
       "116      117  Female    60+        161       152\n",
       "117      118  Female    60+        165       174\n",
       "118      119  Female    60+        149       151\n",
       "119      120  Female    60+        185       163\n",
       "\n",
       "[120 rows x 5 columns]"
      ]
     },
     "execution_count": 15,
     "metadata": {},
     "output_type": "execute_result"
    }
   ],
   "source": [
    "df=pd.read_csv(\"C:\\\\Users\\\\ritik\\\\Downloads\\\\datasets-20221227T153602Z-001\\\\datasets\\\\data sets\\\\bloodpressure.csv\")\n",
    "df"
   ]
  },
  {
   "cell_type": "code",
   "execution_count": 16,
   "id": "5255d976",
   "metadata": {},
   "outputs": [
    {
     "data": {
      "text/plain": [
       "0      143\n",
       "1      163\n",
       "2      153\n",
       "3      153\n",
       "4      146\n",
       "      ... \n",
       "115    152\n",
       "116    161\n",
       "117    165\n",
       "118    149\n",
       "119    185\n",
       "Name: bp_before, Length: 120, dtype: int64"
      ]
     },
     "execution_count": 16,
     "metadata": {},
     "output_type": "execute_result"
    }
   ],
   "source": [
    "df['bp_before']  ## population"
   ]
  },
  {
   "cell_type": "code",
   "execution_count": 17,
   "id": "03598985",
   "metadata": {},
   "outputs": [
    {
     "data": {
      "text/plain": [
       "156.45"
      ]
     },
     "execution_count": 17,
     "metadata": {},
     "output_type": "execute_result"
    }
   ],
   "source": [
    "df['bp_before'].mean()"
   ]
  },
  {
   "cell_type": "markdown",
   "id": "7f8d23e3",
   "metadata": {},
   "source": [
    "## It is fact that avg. bp before of person is 156.45. so should I accdept this claim at alpha 0.05\n",
    "\n",
    "\n",
    "\n",
    "\n",
    "For this validity of fact we collected  the sample as below:"
   ]
  },
  {
   "cell_type": "code",
   "execution_count": 18,
   "id": "879a660f",
   "metadata": {},
   "outputs": [
    {
     "data": {
      "text/plain": [
       "14     143\n",
       "38     185\n",
       "119    185\n",
       "100    168\n",
       "16     141\n",
       "80     157\n",
       "108    155\n",
       "19     162\n",
       "70     162\n",
       "35     159\n",
       "67     151\n",
       "18     143\n",
       "11     173\n",
       "33     148\n",
       "116    161\n",
       "63     144\n",
       "82     150\n",
       "91     162\n",
       "61     147\n",
       "34     170\n",
       "55     164\n",
       "2      153\n",
       "43     160\n",
       "104    162\n",
       "111    159\n",
       "99     145\n",
       "54     170\n",
       "102    147\n",
       "60     152\n",
       "79     142\n",
       "114    165\n",
       "6      148\n",
       "66     154\n",
       "92     144\n",
       "64     158\n",
       "53     173\n",
       "112    148\n",
       "103    148\n",
       "72     141\n",
       "110    183\n",
       "Name: bp_before, dtype: int64"
      ]
     },
     "execution_count": 18,
     "metadata": {},
     "output_type": "execute_result"
    }
   ],
   "source": [
    "s1=df['bp_before'].sample(40)\n",
    "s1"
   ]
  },
  {
   "cell_type": "markdown",
   "id": "b080a684",
   "metadata": {},
   "source": [
    "ho : sample mean is equal to population mean\n",
    "\n",
    "\n",
    "\n",
    "population mean = 156.45\n",
    "\n",
    "\n",
    "\n",
    "\n",
    "\n",
    "ha : population mean ! = sample mean"
   ]
  },
  {
   "cell_type": "code",
   "execution_count": 19,
   "id": "bd659013",
   "metadata": {},
   "outputs": [],
   "source": [
    "#pip install statsmodels"
   ]
  },
  {
   "cell_type": "code",
   "execution_count": 20,
   "id": "c9216481",
   "metadata": {},
   "outputs": [],
   "source": [
    "from statsmodels.stats.weightstats import ztest"
   ]
  },
  {
   "cell_type": "code",
   "execution_count": 21,
   "id": "4fffaa18",
   "metadata": {},
   "outputs": [
    {
     "name": "stdout",
     "output_type": "stream",
     "text": [
      "Help on function ztest in module statsmodels.stats.weightstats:\n",
      "\n",
      "ztest(x1, x2=None, value=0, alternative='two-sided', usevar='pooled', ddof=1.0)\n",
      "    test for mean based on normal distribution, one or two samples\n",
      "    \n",
      "    In the case of two samples, the samples are assumed to be independent.\n",
      "    \n",
      "    Parameters\n",
      "    ----------\n",
      "    x1 : array_like, 1-D or 2-D\n",
      "        first of the two independent samples\n",
      "    x2 : array_like, 1-D or 2-D\n",
      "        second of the two independent samples\n",
      "    value : float\n",
      "        In the one sample case, value is the mean of x1 under the Null\n",
      "        hypothesis.\n",
      "        In the two sample case, value is the difference between mean of x1 and\n",
      "        mean of x2 under the Null hypothesis. The test statistic is\n",
      "        `x1_mean - x2_mean - value`.\n",
      "    alternative : str\n",
      "        The alternative hypothesis, H1, has to be one of the following\n",
      "    \n",
      "           'two-sided': H1: difference in means not equal to value (default)\n",
      "           'larger' :   H1: difference in means larger than value\n",
      "           'smaller' :  H1: difference in means smaller than value\n",
      "    \n",
      "    usevar : str, 'pooled'\n",
      "        Currently, only 'pooled' is implemented.\n",
      "        If ``pooled``, then the standard deviation of the samples is assumed to be\n",
      "        the same. see CompareMeans.ztest_ind for different options.\n",
      "    ddof : int\n",
      "        Degrees of freedom use in the calculation of the variance of the mean\n",
      "        estimate. In the case of comparing means this is one, however it can\n",
      "        be adjusted for testing other statistics (proportion, correlation)\n",
      "    \n",
      "    Returns\n",
      "    -------\n",
      "    tstat : float\n",
      "        test statistic\n",
      "    pvalue : float\n",
      "        pvalue of the t-test\n",
      "    \n",
      "    Notes\n",
      "    -----\n",
      "    usevar not implemented, is always pooled in two sample case\n",
      "    use CompareMeans instead.\n",
      "\n"
     ]
    }
   ],
   "source": [
    "help(ztest)"
   ]
  },
  {
   "cell_type": "code",
   "execution_count": 22,
   "id": "90549270",
   "metadata": {},
   "outputs": [
    {
     "name": "stdout",
     "output_type": "stream",
     "text": [
      "0.3129051880737215 0.7543526958588431\n",
      "accept null hypothesis\n"
     ]
    }
   ],
   "source": [
    "zcal,pval=ztest(s1,value=156.45,alternative='two-sided')\n",
    "print(zcal,pval)\n",
    "if pval<0.05:\n",
    "    print(\"reject null hypothesis\")\n",
    "else:\n",
    "    print(\"accept null hypothesis\")"
   ]
  },
  {
   "cell_type": "code",
   "execution_count": 23,
   "id": "ad788ed0",
   "metadata": {},
   "outputs": [
    {
     "name": "stdout",
     "output_type": "stream",
     "text": [
      "ho accept\n"
     ]
    }
   ],
   "source": [
    "if zcal>-1.96 and zcal<1.96:\n",
    "    print(\"ho accept\")\n",
    "else:\n",
    "    print('ho reject')"
   ]
  },
  {
   "cell_type": "markdown",
   "id": "58c171cb",
   "metadata": {},
   "source": [
    "## Two sample Z test"
   ]
  },
  {
   "cell_type": "code",
   "execution_count": 30,
   "id": "333a61e9",
   "metadata": {},
   "outputs": [
    {
     "data": {
      "text/plain": [
       "0     143\n",
       "1     163\n",
       "2     153\n",
       "3     153\n",
       "4     146\n",
       "5     150\n",
       "6     148\n",
       "7     153\n",
       "8     153\n",
       "9     158\n",
       "10    149\n",
       "11    173\n",
       "12    165\n",
       "13    145\n",
       "14    143\n",
       "15    152\n",
       "16    141\n",
       "17    176\n",
       "18    143\n",
       "19    162\n",
       "20    149\n",
       "21    156\n",
       "22    151\n",
       "23    159\n",
       "24    164\n",
       "25    154\n",
       "26    152\n",
       "27    142\n",
       "28    162\n",
       "29    155\n",
       "30    175\n",
       "31    184\n",
       "32    167\n",
       "33    148\n",
       "34    170\n",
       "35    159\n",
       "36    149\n",
       "37    140\n",
       "38    185\n",
       "39    160\n",
       "Name: bp_before, dtype: int64"
      ]
     },
     "execution_count": 30,
     "metadata": {},
     "output_type": "execute_result"
    }
   ],
   "source": [
    "s1=df['bp_before'][0:40]\n",
    "s1"
   ]
  },
  {
   "cell_type": "code",
   "execution_count": 31,
   "id": "79f3bfcf",
   "metadata": {},
   "outputs": [
    {
     "data": {
      "text/plain": [
       "0     153\n",
       "1     170\n",
       "2     168\n",
       "3     142\n",
       "4     141\n",
       "5     147\n",
       "6     133\n",
       "7     141\n",
       "8     131\n",
       "9     125\n",
       "10    164\n",
       "11    159\n",
       "12    135\n",
       "13    159\n",
       "14    153\n",
       "15    126\n",
       "16    162\n",
       "17    134\n",
       "18    136\n",
       "19    150\n",
       "20    168\n",
       "21    155\n",
       "22    136\n",
       "23    132\n",
       "24    160\n",
       "25    160\n",
       "26    136\n",
       "27    183\n",
       "28    152\n",
       "29    162\n",
       "30    151\n",
       "31    139\n",
       "32    175\n",
       "33    184\n",
       "34    151\n",
       "35    171\n",
       "36    157\n",
       "37    159\n",
       "38    140\n",
       "39    174\n",
       "Name: bp_after, dtype: int64"
      ]
     },
     "execution_count": 31,
     "metadata": {},
     "output_type": "execute_result"
    }
   ],
   "source": [
    "s2=df['bp_after'][0:40]\n",
    "s2"
   ]
  },
  {
   "cell_type": "markdown",
   "id": "6fcae4e6",
   "metadata": {},
   "source": [
    "* h0 :there is no difference average of bp_before and bp_after\n",
    "* ha : there is a difference between average of bp_before and bp_after "
   ]
  },
  {
   "cell_type": "code",
   "execution_count": 33,
   "id": "12ec5024",
   "metadata": {},
   "outputs": [
    {
     "name": "stdout",
     "output_type": "stream",
     "text": [
      "ho is accepted\n"
     ]
    }
   ],
   "source": [
    "ztest(s1,s2,value=0,alternative='two-sided')\n",
    "if pval<0.05:\n",
    "    print(\"ho is rejected\")\n",
    "else:\n",
    "    print(\"ho is accepted\")"
   ]
  },
  {
   "cell_type": "markdown",
   "id": "30281d22",
   "metadata": {},
   "source": [
    "# T-Test"
   ]
  },
  {
   "cell_type": "markdown",
   "id": "ff6099e8",
   "metadata": {},
   "source": [
    "- Let's say we take a random sample of 10 apples from orchard A and 10 apples from orchard B and weigh them. The sample mean weight for orchard A is 0.25 pounds, with a standard deviation of 0.03 pounds. The sample mean weight for orchard B is 0.3 pounds, with a standard deviation of 0.04 pounds.\n",
    "\n",
    "# Sample data\n",
    "orchard_a = [0.24, 0.22, 0.26, 0.23, 0.27, 0.25, 0.28, 0.29, 0.24, 0.25]\n",
    "\n",
    "orchard_b = [0.28, 0.29, 0.32, 0.30, 0.31, 0.30, 0.33, 0.32, 0.31, 0.33]\n",
    "\n",
    "\n",
    "\n"
   ]
  },
  {
   "cell_type": "markdown",
   "id": "e3dc11e9",
   "metadata": {},
   "source": [
    "determine whether there is a significant difference in the mean weight of apples picked from two different orchards.- \n",
    "\n",
    "\n",
    "\n",
    "\n",
    "\n",
    "\n",
    "Null hypothesis: There is no difference in the mean weight of apples picked from orchard A and orchard B. (H0: μA = μB)\n",
    "- Alternative hypothesis: There is a significant difference in the mean weight of apples picked from orchard A and orchard B. (Ha: μA ≠ μB)\n",
    "\n",
    "\n"
   ]
  },
  {
   "cell_type": "markdown",
   "id": "254cffaf",
   "metadata": {},
   "source": [
    "## Two saple t test"
   ]
  },
  {
   "cell_type": "code",
   "execution_count": 35,
   "id": "2e986498",
   "metadata": {},
   "outputs": [],
   "source": [
    "from scipy.stats import ttest_ind"
   ]
  },
  {
   "cell_type": "code",
   "execution_count": 36,
   "id": "9a08a443",
   "metadata": {},
   "outputs": [],
   "source": [
    "\n",
    "orchard_a = [0.24, 0.22, 0.26, 0.23, 0.27, 0.25, 0.28, 0.29, 0.24, 0.25]\n",
    "orchard_b = [0.28, 0.29, 0.32, 0.30, 0.31, 0.30, 0.33, 0.32, 0.31, 0.33]\n"
   ]
  },
  {
   "cell_type": "code",
   "execution_count": 38,
   "id": "f98672ac",
   "metadata": {},
   "outputs": [
    {
     "name": "stdout",
     "output_type": "stream",
     "text": [
      "t-statistic :  -6.395650696065806\n",
      "p=value :  5.063675673459765e-06\n",
      "reject null hypothesis\n"
     ]
    }
   ],
   "source": [
    "ttest,pval=ttest_ind(orchard_a,orchard_b)\n",
    "print(\"t-statistic : \",ttest)\n",
    "print(\"p=value : \",pval)\n",
    "\n",
    "alpha=0.05\n",
    "if pval<alpha:\n",
    "    print(\"reject null hypothesis\")\n",
    "else:\n",
    "    print(\"Fail to reject null hypothesis\")"
   ]
  },
  {
   "cell_type": "code",
   "execution_count": 39,
   "id": "dc1cef1e",
   "metadata": {},
   "outputs": [],
   "source": [
    "##t_critical"
   ]
  },
  {
   "cell_type": "markdown",
   "id": "3086ef15",
   "metadata": {},
   "source": [
    "# Chi-Square Test"
   ]
  },
  {
   "cell_type": "code",
   "execution_count": 45,
   "id": "d73c40a8",
   "metadata": {},
   "outputs": [],
   "source": [
    "df=sns.load_dataset(\"tips\")"
   ]
  },
  {
   "cell_type": "code",
   "execution_count": 46,
   "id": "86b7548a",
   "metadata": {},
   "outputs": [
    {
     "data": {
      "text/plain": [
       "sex        \n",
       "Male    No     97\n",
       "        Yes    60\n",
       "Female  No     54\n",
       "        Yes    33\n",
       "Name: smoker, dtype: int64"
      ]
     },
     "execution_count": 46,
     "metadata": {},
     "output_type": "execute_result"
    }
   ],
   "source": [
    "df.groupby([\"sex\"])[\"smoker\"].value_counts()"
   ]
  },
  {
   "cell_type": "markdown",
   "id": "47e710b5",
   "metadata": {},
   "source": [
    "## Observed table"
   ]
  },
  {
   "cell_type": "code",
   "execution_count": 44,
   "id": "fedc3e9b",
   "metadata": {},
   "outputs": [
    {
     "name": "stdout",
     "output_type": "stream",
     "text": [
      "smoker  Yes  No\n",
      "sex            \n",
      "Male     60  97\n",
      "Female   33  54\n"
     ]
    }
   ],
   "source": [
    "dataset_table=pd.crosstab(df[\"sex\"],df[\"smoker\"])\n",
    "print(dataset_table)"
   ]
  },
  {
   "cell_type": "markdown",
   "id": "5cbd1739",
   "metadata": {},
   "source": [
    "- ho : There is no difference between two categorical columns (smoker and sex are are independent)\n",
    "- ha : There is a relation between sex and smoker"
   ]
  },
  {
   "cell_type": "code",
   "execution_count": 49,
   "id": "7716b945",
   "metadata": {},
   "outputs": [
    {
     "data": {
      "text/plain": [
       "(0.0,\n",
       " 1.0,\n",
       " 1,\n",
       " array([[59.84016393, 97.15983607],\n",
       "        [33.15983607, 53.84016393]]))"
      ]
     },
     "execution_count": 49,
     "metadata": {},
     "output_type": "execute_result"
    }
   ],
   "source": [
    "val=scipy.stats.chi2_contingency(dataset_table)\n",
    "val"
   ]
  },
  {
   "cell_type": "markdown",
   "id": "ee989088",
   "metadata": {},
   "source": [
    "above output means :\n",
    "\n",
    "\n",
    "0.0 is chi calulated 1.0 is p value 1 is degree freedom\n",
    "\n",
    "and last is expacted table"
   ]
  },
  {
   "cell_type": "code",
   "execution_count": 50,
   "id": "7e6a2124",
   "metadata": {},
   "outputs": [
    {
     "name": "stdout",
     "output_type": "stream",
     "text": [
      "Accept Null : There is no relationship btw smoker and sex\n"
     ]
    }
   ],
   "source": [
    "if val[1]<0.05:\n",
    "    print(\"Reject Null : There is relationship btw smoker and sex\")\n",
    "else:\n",
    "    print(\"Accept Null : There is no relationship btw smoker and sex\")"
   ]
  },
  {
   "cell_type": "markdown",
   "id": "7c78f1aa",
   "metadata": {},
   "source": [
    "# Anova Test"
   ]
  },
  {
   "cell_type": "code",
   "execution_count": 53,
   "id": "50b455eb",
   "metadata": {},
   "outputs": [],
   "source": [
    "from  scipy.stats import f_oneway"
   ]
  },
  {
   "cell_type": "code",
   "execution_count": 60,
   "id": "7fba705a",
   "metadata": {},
   "outputs": [
    {
     "name": "stdout",
     "output_type": "stream",
     "text": [
      "F-value :  1.2553604436229209\n",
      "P-value :  0.31009348701286266\n",
      "fail to reject ho\n"
     ]
    }
   ],
   "source": [
    "## compare the average age of three countries\n",
    "## take the samples of each country\n",
    "country1 = [55,67,30,40,50,76]\n",
    "country2 = [5,15,25,35, 45,60,80]\n",
    "country3 = [15,25,35, 45,55,45,43]\n",
    "f_val,p_val=f_oneway(country1,country2,country3)\n",
    "print(\"F-value : \",f_val)\n",
    "print(\"P-value : \",p_val)\n",
    "alpha = 0.05 \n",
    "if p_val>alpha:\n",
    "    print(\"fail to reject ho\")\n",
    "else:\n",
    "    print(\"reject ho\")"
   ]
  },
  {
   "cell_type": "markdown",
   "id": "49d55a74",
   "metadata": {},
   "source": [
    "df1 and df2\n",
    "\n",
    "df1=2\n",
    "\n",
    "df2=17\n",
    "\n",
    "0.05\n",
    "\n",
    "f critical= 3.959"
   ]
  },
  {
   "cell_type": "code",
   "execution_count": 62,
   "id": "75244bb7",
   "metadata": {},
   "outputs": [
    {
     "name": "stdout",
     "output_type": "stream",
     "text": [
      "accept\n"
     ]
    }
   ],
   "source": [
    "if f_val<3.59:\n",
    "    print(\"accept\")\n",
    "else:\n",
    "    print(reject)"
   ]
  },
  {
   "cell_type": "code",
   "execution_count": null,
   "id": "4c93ef4b",
   "metadata": {},
   "outputs": [],
   "source": [
    "## load the iris data and compare the average patel lenght of three spices "
   ]
  }
 ],
 "metadata": {
  "kernelspec": {
   "display_name": "Python 3 (ipykernel)",
   "language": "python",
   "name": "python3"
  },
  "language_info": {
   "codemirror_mode": {
    "name": "ipython",
    "version": 3
   },
   "file_extension": ".py",
   "mimetype": "text/x-python",
   "name": "python",
   "nbconvert_exporter": "python",
   "pygments_lexer": "ipython3",
   "version": "3.9.13"
  }
 },
 "nbformat": 4,
 "nbformat_minor": 5
}
